{
  "cells": [
    {
      "cell_type": "code",
      "execution_count": 1,
      "metadata": {
        "colab": {
          "base_uri": "https://localhost:8080/"
        },
        "id": "7BDlFgEPMgVD",
        "outputId": "b50a19c8-134b-465d-97e8-9bb9cf3ef550"
      },
      "outputs": [
        {
          "output_type": "stream",
          "name": "stdout",
          "text": [
            "Collecting pyspark\n",
            "  Downloading pyspark-3.2.1.tar.gz (281.4 MB)\n",
            "\u001b[K     |████████████████████████████████| 281.4 MB 30 kB/s \n",
            "\u001b[?25hCollecting py4j==0.10.9.3\n",
            "  Downloading py4j-0.10.9.3-py2.py3-none-any.whl (198 kB)\n",
            "\u001b[K     |████████████████████████████████| 198 kB 50.1 MB/s \n",
            "\u001b[?25hBuilding wheels for collected packages: pyspark\n",
            "  Building wheel for pyspark (setup.py) ... \u001b[?25l\u001b[?25hdone\n",
            "  Created wheel for pyspark: filename=pyspark-3.2.1-py2.py3-none-any.whl size=281853642 sha256=6f92fd6f59d6d5ae5658f20a97a3dd1ddeba6a088a0cdeaa9239d8f89e51c0c1\n",
            "  Stored in directory: /root/.cache/pip/wheels/9f/f5/07/7cd8017084dce4e93e84e92efd1e1d5334db05f2e83bcef74f\n",
            "Successfully built pyspark\n",
            "Installing collected packages: py4j, pyspark\n",
            "Successfully installed py4j-0.10.9.3 pyspark-3.2.1\n",
            "The following packages were automatically installed and are no longer required:\n",
            "  libnvidia-common-460 nsight-compute-2020.2.0\n",
            "Use 'apt autoremove' to remove them.\n",
            "The following additional packages will be installed:\n",
            "  openjdk-8-jre-headless\n",
            "Suggested packages:\n",
            "  openjdk-8-demo openjdk-8-source libnss-mdns fonts-dejavu-extra\n",
            "  fonts-ipafont-gothic fonts-ipafont-mincho fonts-wqy-microhei\n",
            "  fonts-wqy-zenhei fonts-indic\n",
            "The following NEW packages will be installed:\n",
            "  openjdk-8-jdk-headless openjdk-8-jre-headless\n",
            "0 upgraded, 2 newly installed, 0 to remove and 42 not upgraded.\n",
            "Need to get 36.5 MB of archives.\n",
            "After this operation, 143 MB of additional disk space will be used.\n",
            "Selecting previously unselected package openjdk-8-jre-headless:amd64.\n",
            "(Reading database ... 155202 files and directories currently installed.)\n",
            "Preparing to unpack .../openjdk-8-jre-headless_8u312-b07-0ubuntu1~18.04_amd64.deb ...\n",
            "Unpacking openjdk-8-jre-headless:amd64 (8u312-b07-0ubuntu1~18.04) ...\n",
            "Selecting previously unselected package openjdk-8-jdk-headless:amd64.\n",
            "Preparing to unpack .../openjdk-8-jdk-headless_8u312-b07-0ubuntu1~18.04_amd64.deb ...\n",
            "Unpacking openjdk-8-jdk-headless:amd64 (8u312-b07-0ubuntu1~18.04) ...\n",
            "Setting up openjdk-8-jre-headless:amd64 (8u312-b07-0ubuntu1~18.04) ...\n",
            "update-alternatives: using /usr/lib/jvm/java-8-openjdk-amd64/jre/bin/orbd to provide /usr/bin/orbd (orbd) in auto mode\n",
            "update-alternatives: using /usr/lib/jvm/java-8-openjdk-amd64/jre/bin/servertool to provide /usr/bin/servertool (servertool) in auto mode\n",
            "update-alternatives: using /usr/lib/jvm/java-8-openjdk-amd64/jre/bin/tnameserv to provide /usr/bin/tnameserv (tnameserv) in auto mode\n",
            "Setting up openjdk-8-jdk-headless:amd64 (8u312-b07-0ubuntu1~18.04) ...\n",
            "update-alternatives: using /usr/lib/jvm/java-8-openjdk-amd64/bin/idlj to provide /usr/bin/idlj (idlj) in auto mode\n",
            "update-alternatives: using /usr/lib/jvm/java-8-openjdk-amd64/bin/wsimport to provide /usr/bin/wsimport (wsimport) in auto mode\n",
            "update-alternatives: using /usr/lib/jvm/java-8-openjdk-amd64/bin/jsadebugd to provide /usr/bin/jsadebugd (jsadebugd) in auto mode\n",
            "update-alternatives: using /usr/lib/jvm/java-8-openjdk-amd64/bin/native2ascii to provide /usr/bin/native2ascii (native2ascii) in auto mode\n",
            "update-alternatives: using /usr/lib/jvm/java-8-openjdk-amd64/bin/javah to provide /usr/bin/javah (javah) in auto mode\n",
            "update-alternatives: using /usr/lib/jvm/java-8-openjdk-amd64/bin/hsdb to provide /usr/bin/hsdb (hsdb) in auto mode\n",
            "update-alternatives: using /usr/lib/jvm/java-8-openjdk-amd64/bin/clhsdb to provide /usr/bin/clhsdb (clhsdb) in auto mode\n",
            "update-alternatives: using /usr/lib/jvm/java-8-openjdk-amd64/bin/xjc to provide /usr/bin/xjc (xjc) in auto mode\n",
            "update-alternatives: using /usr/lib/jvm/java-8-openjdk-amd64/bin/schemagen to provide /usr/bin/schemagen (schemagen) in auto mode\n",
            "update-alternatives: using /usr/lib/jvm/java-8-openjdk-amd64/bin/extcheck to provide /usr/bin/extcheck (extcheck) in auto mode\n",
            "update-alternatives: using /usr/lib/jvm/java-8-openjdk-amd64/bin/jhat to provide /usr/bin/jhat (jhat) in auto mode\n",
            "update-alternatives: using /usr/lib/jvm/java-8-openjdk-amd64/bin/wsgen to provide /usr/bin/wsgen (wsgen) in auto mode\n"
          ]
        }
      ],
      "source": [
        "!pip install pyspark\n",
        "!pip install -U -q PyDrive\n",
        "!apt install openjdk-8-jdk-headless -qq\n",
        "import os\n",
        "os.environ[\"JAVA_HOME\"] = \"/usr/lib/jvm/java-8-openjdk-amd64\""
      ]
    },
    {
      "cell_type": "code",
      "execution_count": 2,
      "metadata": {
        "id": "GmjU28NcM3VH"
      },
      "outputs": [],
      "source": [
        "import pandas as pd\n",
        "import numpy as np\n",
        "import matplotlib.pyplot as plt\n",
        "%matplotlib inline\n",
        "\n",
        "import pyspark\n",
        "from pyspark.sql import *\n",
        "from pyspark.sql.types import *\n",
        "from pyspark.sql.functions import *\n",
        "from pyspark import SparkContext, SparkConf"
      ]
    },
    {
      "cell_type": "code",
      "execution_count": 4,
      "metadata": {
        "colab": {
          "base_uri": "https://localhost:8080/"
        },
        "id": "SsJk391Ie0_E",
        "outputId": "1b9560be-8238-4cd6-9c77-4bff3825e6cd"
      },
      "outputs": [
        {
          "output_type": "stream",
          "name": "stdout",
          "text": [
            "Mounted at /content/drive\n"
          ]
        }
      ],
      "source": [
        "from google.colab import drive\n",
        "drive.mount('/content/drive')"
      ]
    },
    {
      "cell_type": "code",
      "execution_count": 12,
      "metadata": {
        "id": "f9UFEG3he46y"
      },
      "outputs": [],
      "source": [
        "import os\n",
        "cur_path = \"/content/drive/MyDrive/final_project/\""
      ]
    },
    {
      "cell_type": "code",
      "execution_count": 7,
      "metadata": {
        "id": "7VeU8gwIesQK"
      },
      "outputs": [],
      "source": [
        "from pyspark.sql import SparkSession\n",
        "spark = SparkSession.builder.appName('final').getOrCreate()"
      ]
    },
    {
      "cell_type": "code",
      "execution_count": 13,
      "metadata": {
        "id": "h3tWrsxGenlX"
      },
      "outputs": [],
      "source": [
        "data = spark.read.csv(cur_path+\"data.csv\",inferSchema=True,header=True)"
      ]
    },
    {
      "cell_type": "code",
      "execution_count": 14,
      "metadata": {
        "colab": {
          "base_uri": "https://localhost:8080/"
        },
        "id": "w9_lu9vRfgkV",
        "outputId": "ea7bf264-ab04-40f9-9fef-562eaef04442"
      },
      "outputs": [
        {
          "output_type": "stream",
          "name": "stdout",
          "text": [
            "+-------------------+---------+--------+---------+-----------+--------+------+----------+----+---------+----------+-------------+--------+------------+--------------------+----------------+--------+-------+\n",
            "|               date|    price|bedrooms|bathrooms|sqft_living|sqft_lot|floors|waterfront|view|condition|sqft_above|sqft_basement|yr_built|yr_renovated|              street|            city|statezip|country|\n",
            "+-------------------+---------+--------+---------+-----------+--------+------+----------+----+---------+----------+-------------+--------+------------+--------------------+----------------+--------+-------+\n",
            "|2014-05-02 00:00:00| 313000.0|     3.0|      1.5|       1340|    7912|   1.5|         0|   0|        3|      1340|            0|    1955|        2005|18810 Densmore Ave N|       Shoreline|WA 98133|    USA|\n",
            "|2014-05-02 00:00:00|2384000.0|     5.0|      2.5|       3650|    9050|   2.0|         0|   4|        5|      3370|          280|    1921|           0|     709 W Blaine St|         Seattle|WA 98119|    USA|\n",
            "|2014-05-02 00:00:00| 342000.0|     3.0|      2.0|       1930|   11947|   1.0|         0|   0|        4|      1930|            0|    1966|           0|26206-26214 143rd...|            Kent|WA 98042|    USA|\n",
            "|2014-05-02 00:00:00| 420000.0|     3.0|     2.25|       2000|    8030|   1.0|         0|   0|        4|      1000|         1000|    1963|           0|     857 170th Pl NE|        Bellevue|WA 98008|    USA|\n",
            "|2014-05-02 00:00:00| 550000.0|     4.0|      2.5|       1940|   10500|   1.0|         0|   0|        4|      1140|          800|    1976|        1992|   9105 170th Ave NE|         Redmond|WA 98052|    USA|\n",
            "|2014-05-02 00:00:00| 490000.0|     2.0|      1.0|        880|    6380|   1.0|         0|   0|        3|       880|            0|    1938|        1994|      522 NE 88th St|         Seattle|WA 98115|    USA|\n",
            "|2014-05-02 00:00:00| 335000.0|     2.0|      2.0|       1350|    2560|   1.0|         0|   0|        3|      1350|            0|    1976|           0|   2616 174th Ave NE|         Redmond|WA 98052|    USA|\n",
            "|2014-05-02 00:00:00| 482000.0|     4.0|      2.5|       2710|   35868|   2.0|         0|   0|        3|      2710|            0|    1989|           0|   23762 SE 253rd Pl|    Maple Valley|WA 98038|    USA|\n",
            "|2014-05-02 00:00:00| 452500.0|     3.0|      2.5|       2430|   88426|   1.0|         0|   0|        4|      1570|          860|    1985|           0|46611-46625 SE 12...|      North Bend|WA 98045|    USA|\n",
            "|2014-05-02 00:00:00| 640000.0|     4.0|      2.0|       1520|    6200|   1.5|         0|   0|        3|      1520|            0|    1945|        2010|    6811 55th Ave NE|         Seattle|WA 98115|    USA|\n",
            "|2014-05-02 00:00:00| 463000.0|     3.0|     1.75|       1710|    7320|   1.0|         0|   0|        3|      1710|            0|    1948|        1994|  Burke-Gilman Trail|Lake Forest Park|WA 98155|    USA|\n",
            "|2014-05-02 00:00:00|1400000.0|     4.0|      2.5|       2920|    4000|   1.5|         0|   0|        5|      1910|         1010|    1909|        1988|3838-4098 44th Av...|         Seattle|WA 98105|    USA|\n",
            "|2014-05-02 00:00:00| 588500.0|     3.0|     1.75|       2330|   14892|   1.0|         0|   0|        3|      1970|          360|    1980|           0|    1833 220th Pl NE|       Sammamish|WA 98074|    USA|\n",
            "|2014-05-02 00:00:00| 365000.0|     3.0|      1.0|       1090|    6435|   1.0|         0|   0|        4|      1090|            0|    1955|        2009| 2504 SW Portland Ct|         Seattle|WA 98106|    USA|\n",
            "|2014-05-02 00:00:00|1200000.0|     5.0|     2.75|       2910|    9480|   1.5|         0|   0|        3|      2910|            0|    1939|        1969|    3534 46th Ave NE|         Seattle|WA 98105|    USA|\n",
            "|2014-05-02 00:00:00| 242500.0|     3.0|      1.5|       1200|    9720|   1.0|         0|   0|        4|      1200|            0|    1965|           0|   14034 SE 201st St|            Kent|WA 98042|    USA|\n",
            "|2014-05-02 00:00:00| 419000.0|     3.0|      1.5|       1570|    6700|   1.0|         0|   0|        4|      1570|            0|    1956|           0|     15424 SE 9th St|        Bellevue|WA 98007|    USA|\n",
            "|2014-05-02 00:00:00| 367500.0|     4.0|      3.0|       3110|    7231|   2.0|         0|   0|        3|      3110|            0|    1997|           0|   11224 SE 306th Pl|          Auburn|WA 98092|    USA|\n",
            "|2014-05-02 00:00:00| 257950.0|     3.0|     1.75|       1370|    5858|   1.0|         0|   0|        3|      1370|            0|    1987|        2000|     1605 S 245th Pl|      Des Moines|WA 98198|    USA|\n",
            "|2014-05-02 00:00:00| 275000.0|     3.0|      1.5|       1180|   10277|   1.0|         0|   0|        3|      1180|            0|    1983|        2009|  12425 415th Ave SE|      North Bend|WA 98045|    USA|\n",
            "+-------------------+---------+--------+---------+-----------+--------+------+----------+----+---------+----------+-------------+--------+------------+--------------------+----------------+--------+-------+\n",
            "only showing top 20 rows\n",
            "\n"
          ]
        }
      ],
      "source": [
        "data.show()"
      ]
    },
    {
      "cell_type": "code",
      "execution_count": 15,
      "metadata": {
        "id": "xAhOmLY4f01Y"
      },
      "outputs": [],
      "source": [
        "output=spark.read.csv(cur_path+\"output.csv\",inferSchema=True,header=True)"
      ]
    },
    {
      "cell_type": "code",
      "execution_count": 16,
      "metadata": {
        "colab": {
          "base_uri": "https://localhost:8080/"
        },
        "id": "IiLQHAxkf4Ia",
        "outputId": "ce2b1917-dbab-44c7-e1bf-c4600e78426c"
      },
      "outputs": [
        {
          "output_type": "stream",
          "name": "stdout",
          "text": [
            "+-------------------+---------+--------+---------+-----------+--------+------+----------+----+---------+----------+-------------+--------+------------+--------------------+----------------+--------+-------+\n",
            "|               date|    price|bedrooms|bathrooms|sqft_living|sqft_lot|floors|waterfront|view|condition|sqft_above|sqft_basement|yr_built|yr_renovated|              street|            city|statezip|country|\n",
            "+-------------------+---------+--------+---------+-----------+--------+------+----------+----+---------+----------+-------------+--------+------------+--------------------+----------------+--------+-------+\n",
            "|2014-05-02 00:00:00| 313000.0|     3.0|      1.5|       1340|    7912|   1.5|         0|   0|        3|      1340|            0|    1955|        2005|18810 Densmore Ave N|       Shoreline|WA 98133|    USA|\n",
            "|2014-05-02 00:00:00|2384000.0|     5.0|      2.5|       3650|    9050|   2.0|         0|   4|        5|      3370|          280|    1921|           0|     709 W Blaine St|         Seattle|WA 98119|    USA|\n",
            "|2014-05-02 00:00:00| 342000.0|     3.0|      2.0|       1930|   11947|   1.0|         0|   0|        4|      1930|            0|    1966|           0|26206-26214 143rd...|            Kent|WA 98042|    USA|\n",
            "|2014-05-02 00:00:00| 420000.0|     3.0|     2.25|       2000|    8030|   1.0|         0|   0|        4|      1000|         1000|    1963|           0|     857 170th Pl NE|        Bellevue|WA 98008|    USA|\n",
            "|2014-05-02 00:00:00| 550000.0|     4.0|      2.5|       1940|   10500|   1.0|         0|   0|        4|      1140|          800|    1976|        1992|   9105 170th Ave NE|         Redmond|WA 98052|    USA|\n",
            "|2014-05-02 00:00:00| 490000.0|     2.0|      1.0|        880|    6380|   1.0|         0|   0|        3|       880|            0|    1938|        1994|      522 NE 88th St|         Seattle|WA 98115|    USA|\n",
            "|2014-05-02 00:00:00| 335000.0|     2.0|      2.0|       1350|    2560|   1.0|         0|   0|        3|      1350|            0|    1976|           0|   2616 174th Ave NE|         Redmond|WA 98052|    USA|\n",
            "|2014-05-02 00:00:00| 482000.0|     4.0|      2.5|       2710|   35868|   2.0|         0|   0|        3|      2710|            0|    1989|           0|   23762 SE 253rd Pl|    Maple Valley|WA 98038|    USA|\n",
            "|2014-05-02 00:00:00| 452500.0|     3.0|      2.5|       2430|   88426|   1.0|         0|   0|        4|      1570|          860|    1985|           0|46611-46625 SE 12...|      North Bend|WA 98045|    USA|\n",
            "|2014-05-02 00:00:00| 640000.0|     4.0|      2.0|       1520|    6200|   1.5|         0|   0|        3|      1520|            0|    1945|        2010|    6811 55th Ave NE|         Seattle|WA 98115|    USA|\n",
            "|2014-05-02 00:00:00| 463000.0|     3.0|     1.75|       1710|    7320|   1.0|         0|   0|        3|      1710|            0|    1948|        1994|  Burke-Gilman Trail|Lake Forest Park|WA 98155|    USA|\n",
            "|2014-05-02 00:00:00|1400000.0|     4.0|      2.5|       2920|    4000|   1.5|         0|   0|        5|      1910|         1010|    1909|        1988|3838-4098 44th Av...|         Seattle|WA 98105|    USA|\n",
            "|2014-05-02 00:00:00| 588500.0|     3.0|     1.75|       2330|   14892|   1.0|         0|   0|        3|      1970|          360|    1980|           0|    1833 220th Pl NE|       Sammamish|WA 98074|    USA|\n",
            "|2014-05-02 00:00:00| 365000.0|     3.0|      1.0|       1090|    6435|   1.0|         0|   0|        4|      1090|            0|    1955|        2009| 2504 SW Portland Ct|         Seattle|WA 98106|    USA|\n",
            "|2014-05-02 00:00:00|1200000.0|     5.0|     2.75|       2910|    9480|   1.5|         0|   0|        3|      2910|            0|    1939|        1969|    3534 46th Ave NE|         Seattle|WA 98105|    USA|\n",
            "|2014-05-02 00:00:00| 242500.0|     3.0|      1.5|       1200|    9720|   1.0|         0|   0|        4|      1200|            0|    1965|           0|   14034 SE 201st St|            Kent|WA 98042|    USA|\n",
            "|2014-05-02 00:00:00| 419000.0|     3.0|      1.5|       1570|    6700|   1.0|         0|   0|        4|      1570|            0|    1956|           0|     15424 SE 9th St|        Bellevue|WA 98007|    USA|\n",
            "|2014-05-02 00:00:00| 367500.0|     4.0|      3.0|       3110|    7231|   2.0|         0|   0|        3|      3110|            0|    1997|           0|   11224 SE 306th Pl|          Auburn|WA 98092|    USA|\n",
            "|2014-05-02 00:00:00| 257950.0|     3.0|     1.75|       1370|    5858|   1.0|         0|   0|        3|      1370|            0|    1987|        2000|     1605 S 245th Pl|      Des Moines|WA 98198|    USA|\n",
            "|2014-05-02 00:00:00| 275000.0|     3.0|      1.5|       1180|   10277|   1.0|         0|   0|        3|      1180|            0|    1983|        2009|  12425 415th Ave SE|      North Bend|WA 98045|    USA|\n",
            "+-------------------+---------+--------+---------+-----------+--------+------+----------+----+---------+----------+-------------+--------+------------+--------------------+----------------+--------+-------+\n",
            "only showing top 20 rows\n",
            "\n"
          ]
        }
      ],
      "source": [
        "output.show()"
      ]
    },
    {
      "cell_type": "code",
      "execution_count": 17,
      "metadata": {
        "colab": {
          "base_uri": "https://localhost:8080/"
        },
        "id": "lPNFLthNf9Yv",
        "outputId": "5ace0242-df7b-41e4-c6d1-69e50b191719"
      },
      "outputs": [
        {
          "output_type": "stream",
          "name": "stdout",
          "text": [
            "(4600, 18)\n"
          ]
        }
      ],
      "source": [
        "print((data.count(), len(data.columns)))"
      ]
    },
    {
      "cell_type": "code",
      "execution_count": 18,
      "metadata": {
        "colab": {
          "base_uri": "https://localhost:8080/"
        },
        "id": "zpgvQ-DtgK0J",
        "outputId": "a6feccbc-3c60-4dfd-eebc-3a44927ab1a0"
      },
      "outputs": [
        {
          "output_type": "stream",
          "name": "stdout",
          "text": [
            "(4600, 18)\n"
          ]
        }
      ],
      "source": [
        "print((output.count(),len(output.columns)))"
      ]
    },
    {
      "cell_type": "code",
      "execution_count": 19,
      "metadata": {
        "id": "TF2F6ZgutibD"
      },
      "outputs": [],
      "source": [
        "from pyspark.sql import *\n",
        "from pyspark.sql.functions import *\n",
        "from pyspark import SparkContext, SparkConf"
      ]
    },
    {
      "cell_type": "code",
      "execution_count": 20,
      "metadata": {
        "colab": {
          "base_uri": "https://localhost:8080/"
        },
        "id": "HTdkaKHHtIeU",
        "outputId": "a29b9a66-4317-46ab-92d2-abe509413e05"
      },
      "outputs": [
        {
          "output_type": "stream",
          "name": "stdout",
          "text": [
            "44\n",
            "4525 multiple of same street address???\n",
            "77\n",
            "1\n"
          ]
        }
      ],
      "source": [
        "print(data.select('city').distinct().count())\n",
        "print(data.select('street').distinct().count(), 'multiple of same street address???')\n",
        "print(data.select('statezip').distinct().count())\n",
        "print(data.select('country').distinct().count())"
      ]
    },
    {
      "cell_type": "code",
      "execution_count": 21,
      "metadata": {
        "colab": {
          "base_uri": "https://localhost:8080/"
        },
        "id": "COhvcgGsvBbd",
        "outputId": "fd759fe2-2b75-4f30-acee-2d11e9d702cf"
      },
      "outputs": [
        {
          "output_type": "stream",
          "name": "stdout",
          "text": [
            "+--------------------+-----+\n",
            "|              street|count|\n",
            "+--------------------+-----+\n",
            "|2520 Mulberry Wal...|    4|\n",
            "|2500 Mulberry Wal...|    3|\n",
            "|  13800 453rd Ave SE|    2|\n",
            "|  Burke-Gilman Trail|    2|\n",
            "| 35229 SE Terrace St|    2|\n",
            "|     6008 8th Ave NE|    2|\n",
            "|     1610 N 185th St|    2|\n",
            "|    7490 85th Ave SE|    2|\n",
            "|    13820 NE 72nd Pl|    2|\n",
            "|    9413 34th Ave SW|    2|\n",
            "|      353 N 105th St|    2|\n",
            "|   8434 W Mercer Way|    2|\n",
            "|       513 N 46th St|    2|\n",
            "|      323 25th Ave S|    2|\n",
            "|     2050 14th Ave W|    2|\n",
            "|  13420 121st Ave NE|    2|\n",
            "|       611 N 46th St|    2|\n",
            "| 2358 Fairview Ave E|    2|\n",
            "|   4507 Linden Ave N|    2|\n",
            "|      820 NW 95th St|    2|\n",
            "+--------------------+-----+\n",
            "only showing top 20 rows\n",
            "\n"
          ]
        }
      ],
      "source": [
        "data.groupBy('street').count().orderBy('count',ascending=False).show()"
      ]
    },
    {
      "cell_type": "code",
      "execution_count": 22,
      "metadata": {
        "colab": {
          "base_uri": "https://localhost:8080/"
        },
        "id": "CEke1mAKuj-D",
        "outputId": "fa769a83-da2d-447e-f363-83de2b7d4701"
      },
      "outputs": [
        {
          "output_type": "stream",
          "name": "stdout",
          "text": [
            "+----+-----+--------+---------+-----------+--------+------+----------+----+---------+----------+-------------+--------+------------+------+----+--------+-------+\n",
            "|date|price|bedrooms|bathrooms|sqft_living|sqft_lot|floors|waterfront|view|condition|sqft_above|sqft_basement|yr_built|yr_renovated|street|city|statezip|country|\n",
            "+----+-----+--------+---------+-----------+--------+------+----------+----+---------+----------+-------------+--------+------------+------+----+--------+-------+\n",
            "|   0|    0|       0|        0|          0|       0|     0|         0|   0|        0|         0|            0|       0|           0|     0|   0|       0|      0|\n",
            "+----+-----+--------+---------+-----------+--------+------+----------+----+---------+----------+-------------+--------+------------+------+----+--------+-------+\n",
            "\n"
          ]
        }
      ],
      "source": [
        "data.select([count(when(isnan(c) | col(c).isNull(), c)).alias(c) for c in data.columns]).show() # NO NA's"
      ]
    },
    {
      "cell_type": "code",
      "execution_count": 23,
      "metadata": {
        "colab": {
          "base_uri": "https://localhost:8080/"
        },
        "id": "JNNRFsbiftwU",
        "outputId": "2165d513-34fb-41a8-cf59-a6cdcd8a5446"
      },
      "outputs": [
        {
          "output_type": "stream",
          "name": "stdout",
          "text": [
            "+--------+-----+\n",
            "|bedrooms|count|\n",
            "+--------+-----+\n",
            "|     3.0| 2032|\n",
            "|     4.0| 1531|\n",
            "|     2.0|  566|\n",
            "|     5.0|  353|\n",
            "|     6.0|   61|\n",
            "|     1.0|   38|\n",
            "|     7.0|   14|\n",
            "|     8.0|    2|\n",
            "|     0.0|    2|\n",
            "|     9.0|    1|\n",
            "+--------+-----+\n",
            "\n"
          ]
        }
      ],
      "source": [
        "data.groupBy('bedrooms').count().orderBy('count',ascending=False).show() #### ???????????????????????"
      ]
    },
    {
      "cell_type": "code",
      "execution_count": 24,
      "metadata": {
        "colab": {
          "base_uri": "https://localhost:8080/"
        },
        "id": "h4WD-5L_Hadq",
        "outputId": "4071880f-9fa2-45f7-9cf9-303e030c3e0e"
      },
      "outputs": [
        {
          "output_type": "execute_result",
          "data": {
            "text/plain": [
              "4600"
            ]
          },
          "metadata": {},
          "execution_count": 24
        }
      ],
      "source": [
        "data.distinct().count()"
      ]
    },
    {
      "cell_type": "code",
      "execution_count": 25,
      "metadata": {
        "colab": {
          "base_uri": "https://localhost:8080/"
        },
        "id": "JYRJUG9OM15E",
        "outputId": "a5f6678a-7d6a-4a42-be7b-e4091b6638df"
      },
      "outputs": [
        {
          "output_type": "stream",
          "name": "stdout",
          "text": [
            "+-------------+-----+\n",
            "|        price|count|\n",
            "+-------------+-----+\n",
            "|          0.0|   49|\n",
            "|       7800.0|    1|\n",
            "|      80000.0|    1|\n",
            "|      83000.0|    1|\n",
            "|      83300.0|    2|\n",
            "|      84350.0|    1|\n",
            "|      87500.0|    1|\n",
            "|      90000.0|    2|\n",
            "|     100000.0|    4|\n",
            "|     102500.0|    1|\n",
            "|     107500.0|    1|\n",
            "|108333.333333|    1|\n",
            "|     110000.0|    2|\n",
            "|     110700.0|    1|\n",
            "|     115000.0|    1|\n",
            "|117833.333333|    1|\n",
            "|     119500.0|    1|\n",
            "|     120000.0|    1|\n",
            "|     120750.0|    1|\n",
            "|     124740.0|    1|\n",
            "+-------------+-----+\n",
            "only showing top 20 rows\n",
            "\n"
          ]
        }
      ],
      "source": [
        "data.groupBy('price').count().orderBy('price').show(n=20)\n"
      ]
    },
    {
      "cell_type": "code",
      "execution_count": 26,
      "metadata": {
        "id": "72WQJmY2si85"
      },
      "outputs": [],
      "source": [
        "from pyspark.ml.feature import HashingTF, IDF, Tokenizer\n",
        "from pyspark.ml.feature import Word2Vec\n",
        "from pyspark.ml.feature import CountVectorizer\n",
        "from pyspark.ml.feature import RegexTokenizer\n",
        "from pyspark.sql.functions import col, udf\n",
        "from pyspark.sql.types import IntegerType\n",
        "from pyspark.ml.feature import OneHotEncoder, StringIndexer, MinMaxScaler, VectorAssembler\n",
        "from pyspark.ml import Pipeline\n",
        "from pyspark.ml.feature import Normalizer\n",
        "from pyspark.ml.linalg import Vectors\n",
        "from pyspark.ml.regression import LinearRegression\n"
      ]
    },
    {
      "cell_type": "code",
      "execution_count": 27,
      "metadata": {
        "id": "7GyX-RcStEOi"
      },
      "outputs": [],
      "source": [
        "tokenizer = Tokenizer(inputCol=\"street\", outputCol=\"tokenized_street\")\n",
        "hashingTF = HashingTF(inputCol=tokenizer.getOutputCol(), outputCol=\"tokenized_features\")\n",
        "encoder_city = OneHotEncoder(\n",
        "    inputCols=[\"qualificationcity\"],  \n",
        "    outputCols=[\"city_vector\"]\n",
        ")\n",
        "encoder_zip = OneHotEncoder(\n",
        "    inputCols=[\"qualificationzip\"],  \n",
        "    outputCols=[\"statezip_vector\"]\n",
        ")\n",
        "qualification_indexer_city = StringIndexer(inputCol=\"city\", outputCol=\"qualificationcity\")\n",
        "qualification_indexer_zip = StringIndexer(inputCol=\"statezip\", outputCol=\"qualificationzip\")\n",
        "\n",
        "scaler = MinMaxScaler(inputCol=\"features\", outputCol=\"scaledFeatures\")\n",
        "\n",
        "vectorAssembler = VectorAssembler(inputCols=['bedrooms','bathrooms','sqft_living','sqft_lot','floors','waterfront','view','condition','sqft_above','sqft_basement','yr_built','yr_renovated','qualificationcity','qualificationzip','tokenized_features'], outputCol='features')\n",
        "lr = LinearRegression(labelCol='price')\n",
        "\n",
        "pipeline = Pipeline(stages=[tokenizer, hashingTF,qualification_indexer_city,qualification_indexer_zip, encoder_city, encoder_zip, vectorAssembler, lr])"
      ]
    },
    {
      "cell_type": "code",
      "execution_count": 28,
      "metadata": {
        "id": "JmPL8pq0LXip"
      },
      "outputs": [],
      "source": [
        "final_data = data.select(['bedrooms','price','bathrooms','sqft_living','sqft_lot','floors','waterfront','view','condition','sqft_above','sqft_basement','yr_built','yr_renovated','street','city','statezip'])\n",
        "final_data=final_data.where(\"price!=0\")\n"
      ]
    },
    {
      "cell_type": "code",
      "execution_count": 29,
      "metadata": {
        "id": "9QsAlBXmLvzX"
      },
      "outputs": [],
      "source": [
        "train_data, test_data = final_data.randomSplit(weights=[0.7,0.3],seed=74)"
      ]
    },
    {
      "cell_type": "code",
      "execution_count": 30,
      "metadata": {
        "colab": {
          "base_uri": "https://localhost:8080/"
        },
        "id": "et_CWbLmMRHY",
        "outputId": "9d3094d9-d16b-4894-c691-c87c8a85f735"
      },
      "outputs": [
        {
          "output_type": "stream",
          "name": "stdout",
          "text": [
            "+--------+---------+---------+-----------+--------+------+----------+----+---------+----------+-------------+--------+------------+--------------------+---------+--------+\n",
            "|bedrooms|    price|bathrooms|sqft_living|sqft_lot|floors|waterfront|view|condition|sqft_above|sqft_basement|yr_built|yr_renovated|              street|     city|statezip|\n",
            "+--------+---------+---------+-----------+--------+------+----------+----+---------+----------+-------------+--------+------------+--------------------+---------+--------+\n",
            "|     0.0|1095000.0|      0.0|       3064|    4764|   3.5|         0|   2|        3|      3064|            0|    1990|        2009|       814 E Howe St|  Seattle|WA 98102|\n",
            "|     0.0|1295648.0|      0.0|       4810|   28008|   2.0|         0|   0|        3|      4810|            0|    1990|        2009|    20418 NE 64th Pl|  Redmond|WA 98053|\n",
            "|     1.0|  80000.0|     0.75|        430|    5050|   1.0|         0|   0|        2|       430|            0|    1912|           0|32215 E Rutherfor...|Carnation|WA 98014|\n",
            "|     1.0| 129000.0|      1.0|        650|   15364|   1.0|         0|   0|        4|       650|            0|    1967|           0|   13712 SE 256th Pl|     Kent|WA 98042|\n",
            "|     1.0| 148000.0|      1.0|        620|    8261|   1.0|         0|   0|        3|       620|            0|    1939|        1969|    9854 25th Ave SW|  Seattle|WA 98106|\n",
            "|     1.0| 165000.0|      1.0|        850|    8050|   1.0|         0|   0|        2|       850|            0|    1906|           0|     3510 S Holly St|  Seattle|WA 98118|\n",
            "|     1.0| 167500.0|      1.0|        690|    1950|   1.0|         0|   0|        3|       690|            0|    1928|        1954|    7554 14th Ave NW|  Seattle|WA 98117|\n",
            "|     1.0| 190000.0|     0.75|        930|   29258|   1.0|         0|   0|        3|       930|            0|    1941|        1994|     7650 S 134th St|  Seattle|WA 98178|\n",
            "|     1.0| 210000.0|      1.0|        930|    7129|   1.0|         0|   0|        3|       930|            0|    1948|        1994|     2126 N 130th St|  Seattle|WA 98133|\n",
            "|     1.0| 235000.0|      1.0|        810|    2451|   1.0|         0|   0|        5|       810|            0|    1941|           0|    9413 34th Ave SW|  Seattle|WA 98126|\n",
            "|     1.0| 235000.0|      1.5|       1170|    1456|   2.0|         0|   0|        3|      1070|          100|    2007|           0|    3003 SW Cycle Ct|  Seattle|WA 98126|\n",
            "|     1.0| 245000.0|     0.75|        380|   15000|   1.0|         0|   0|        3|       380|            0|    1963|        2008|     13602 8th Ave S|   Burien|WA 98168|\n",
            "|     1.0| 250000.0|      1.0|        800|   16306|   1.0|         0|   0|        2|       680|          120|    1931|           0|    12419 20th Ave S|  Seattle|WA 98168|\n",
            "|     1.0| 276000.0|     0.75|        370|    1801|   1.0|         0|   0|        5|       370|            0|    1923|           0|     2508 NW 67th St|  Seattle|WA 98117|\n",
            "|     1.0| 295000.0|      1.0|        700|    2500|   1.0|         0|   0|        4|       700|            0|    1907|           0|    4108 25th Ave SW|  Seattle|WA 98106|\n",
            "|     1.0| 299000.0|     0.75|        560|   12120|   1.0|         0|   0|        3|       560|            0|    1967|        2011|   8314 361st Ave NE|Carnation|WA 98014|\n",
            "|     1.0| 321500.0|      1.0|        730|    1942|   1.0|         0|   0|        3|       730|            0|    2008|           0|      924 26th Ave S|  Seattle|WA 98144|\n",
            "|     1.0| 335000.0|      1.0|        720|    5100|   1.0|         0|   0|        3|       720|            0|    1907|        1983|    7325 18th Ave NW|  Seattle|WA 98117|\n",
            "|     1.0| 350000.0|      1.0|        700|    5100|   1.0|         0|   0|        3|       700|            0|    1942|        1999|    6849 26th Ave NE|  Seattle|WA 98115|\n",
            "|     1.0| 355000.0|     1.75|        750|   20339|   1.0|         0|   0|        4|       550|          200|    1946|        1989|14128 W Lake Kath...|   Renton|WA 98059|\n",
            "+--------+---------+---------+-----------+--------+------+----------+----+---------+----------+-------------+--------+------------+--------------------+---------+--------+\n",
            "only showing top 20 rows\n",
            "\n"
          ]
        }
      ],
      "source": [
        "train_data.show()"
      ]
    },
    {
      "cell_type": "code",
      "execution_count": 31,
      "metadata": {
        "id": "R81oeLctG7_C"
      },
      "outputs": [],
      "source": [
        "df_transformed = pipeline.fit(final_data)"
      ]
    },
    {
      "cell_type": "code",
      "execution_count": 32,
      "metadata": {
        "id": "EJUX_5oPzmTQ"
      },
      "outputs": [],
      "source": [
        "prediction=df_transformed.transform(test_data)"
      ]
    },
    {
      "cell_type": "code",
      "execution_count": 33,
      "metadata": {
        "colab": {
          "base_uri": "https://localhost:8080/"
        },
        "id": "qSylpkSV0uAH",
        "outputId": "51f0381d-7a6a-4540-cc76-7e1e0777983d"
      },
      "outputs": [
        {
          "output_type": "stream",
          "name": "stdout",
          "text": [
            "+--------+--------+---------+-----------+--------+------+----------+----+---------+----------+-------------+--------+------------+--------------------+---------+--------+--------------------+--------------------+-----------------+----------------+---------------+---------------+--------------------+------------------+\n",
            "|bedrooms|   price|bathrooms|sqft_living|sqft_lot|floors|waterfront|view|condition|sqft_above|sqft_basement|yr_built|yr_renovated|              street|     city|statezip|    tokenized_street|  tokenized_features|qualificationcity|qualificationzip|    city_vector|statezip_vector|            features|        prediction|\n",
            "+--------+--------+---------+-----------+--------+------+----------+----+---------+----------+-------------+--------+------------+--------------------+---------+--------+--------------------+--------------------+-----------------+----------------+---------------+---------------+--------------------+------------------+\n",
            "|     1.0|115000.0|      2.0|       1150|    9812|   1.0|         0|   0|        4|      1150|            0|    1962|           0|    34215 40th Ave S|   Auburn|WA 98001|[34215, 40th, ave...|(262144,[151338,2...|              7.0|            30.0| (43,[7],[1.0])|(76,[30],[1.0])|(262158,[0,1,2,3,...|115058.17609109753|\n",
            "|     1.0|135000.0|      1.0|        790|   13062|   1.0|         0|   0|        3|       790|            0|    1942|        1999|     1641 S 124th St|  Seattle|WA 98168|[1641, s, 124th, st]|(262144,[57573,22...|              0.0|            35.0| (43,[0],[1.0])|(76,[35],[1.0])|(262158,[0,1,2,3,...|135227.30210171547|\n",
            "|     1.0|190000.0|      1.0|        720|    4800|   1.0|         0|   0|        3|       720|            0|    1914|        1996|8044-8112 Rainier...|  Seattle|WA 98118|[8044-8112, raini...|(262144,[151338,1...|              0.0|            24.0| (43,[0],[1.0])|(76,[24],[1.0])|(262158,[0,1,2,3,...|190347.52982622734|\n",
            "|     1.0|194000.0|      1.0|        820|    1060|   1.0|         0|   0|        3|       760|           60|    2007|           0|6017-6199 31st Av...|  Seattle|WA 98126|[6017-6199, 31st,...|(262144,[141855,1...|              0.0|            25.0| (43,[0],[1.0])|(76,[25],[1.0])|(262158,[0,1,2,3,...|194208.02418611757|\n",
            "|     1.0|202000.0|      1.0|        590|     833|   1.0|         0|   0|        4|       590|            0|    1926|        1993|    701-711 26th Ave|  Seattle|WA 98122|[701-711, 26th, ave]|(262144,[122857,1...|              0.0|            34.0| (43,[0],[1.0])|(76,[34],[1.0])|(262158,[0,1,2,3,...|202339.10112187848|\n",
            "|     1.0|250000.0|      1.0|        750|    4000|   1.0|         0|   0|        3|       750|            0|    1918|           0|  4356 SW Concord St|  Seattle|WA 98136|[4356, sw, concor...|(262144,[36517,11...|              0.0|            40.0| (43,[0],[1.0])|(76,[40],[1.0])|(262158,[0,1,2,3,...| 250357.9245338461|\n",
            "|     1.0|250000.0|      1.0|       1100|    4373|   1.0|         0|   0|        2|       820|          280|    1947|           0|     232 SW 154th St|   Burien|WA 98166|[232, sw, 154th, st]|(262144,[81140,11...|             14.0|            39.0|(43,[14],[1.0])|(76,[39],[1.0])|(262158,[0,1,2,3,...|  250352.535093087|\n",
            "|     1.0|275000.0|     0.75|       1170|   14149|   1.0|         0|   0|        5|       880|          290|    1962|           0|37316 W Lake Walk...| Enumclaw|WA 98022|[37316, w, lake, ...|(262144,[174496,1...|             27.0|            61.0|(43,[27],[1.0])|(76,[61],[1.0])|(262158,[0,1,2,3,...| 273870.4523198246|\n",
            "|     1.0|280000.0|     0.75|        420|    6720|   1.0|         0|   0|        3|       420|            0|    1922|        2008|     5550 17th Ave S|  Seattle|WA 98108|[5550, 17th, ave, s]|(262144,[119436,1...|              0.0|            51.0| (43,[0],[1.0])|(76,[51],[1.0])|(262158,[0,1,2,3,...|280435.83618089673|\n",
            "|     1.0|285000.0|      1.5|        810|    3211|   2.0|         0|   0|        4|       810|            0|    1982|        2011|   11807 NE 105th Ct| Kirkland|WA 98033|[11807, ne, 105th...|(262144,[74945,11...|              4.0|            15.0| (43,[4],[1.0])|(76,[15],[1.0])|(262158,[0,1,2,3,...|216933.16649340186|\n",
            "|     1.0|332000.0|      1.0|        960|    2640|   1.0|         0|   0|        3|       760|          200|    1908|        1988|  2919 E Harrison St|  Seattle|WA 98112|[2919, e, harriso...|(262144,[110801,1...|              0.0|            28.0| (43,[0],[1.0])|(76,[28],[1.0])|(262158,[0,1,2,3,...| 332290.1250476283|\n",
            "|     1.0|353000.0|      1.0|        550|    1279|   2.0|         0|   0|        3|       550|            0|    2008|           0|       1620 14th Ave|  Seattle|WA 98122|   [1620, 14th, ave]|(262144,[49509,12...|              0.0|            34.0| (43,[0],[1.0])|(76,[34],[1.0])|(262158,[0,1,2,3,...| 353159.1218664807|\n",
            "|     1.0|516500.0|     1.25|       1100|     638|   3.0|         0|   0|        3|      1100|            0|    2014|           0|      416 19th Ave E|  Seattle|WA 98112| [416, 19th, ave, e]|(262144,[44238,15...|              0.0|            28.0| (43,[0],[1.0])|(76,[28],[1.0])|(262158,[0,1,2,3,...|504014.19366838504|\n",
            "|     2.0| 90000.0|      1.0|        580|    7500|   1.0|         0|   0|        3|       580|            0|    1943|        2002|     6621 S 131st Pl|  Seattle|WA 98178|[6621, s, 131st, pl]|(262144,[38619,93...|              0.0|            50.0| (43,[0],[1.0])|(76,[50],[1.0])|(262158,[0,1,2,3,...|   90439.049379159|\n",
            "|     2.0| 90000.0|      1.0|        790|    2640|   1.0|         0|   0|        3|       790|            0|    1973|        2013|   14710 122nd Pl NE| Kirkland|WA 98034|[14710, 122nd, pl...|(262144,[80320,11...|              4.0|             6.0| (43,[4],[1.0])| (76,[6],[1.0])|(262158,[0,1,2,3,...| 90351.85157771618|\n",
            "|     2.0|100000.0|      1.0|        910|   22000|   1.0|         0|   0|        3|       910|            0|    1956|        2001|  138 Seattle Blvd S|   Algona|WA 98001|[138, seattle, bl...|(262144,[6257,765...|             36.0|            30.0|(43,[36],[1.0])|(76,[30],[1.0])|(262158,[0,1,2,3,...| 99939.08318265132|\n",
            "|     2.0|100000.0|      1.0|        930|    7623|   1.0|         0|   0|        2|       930|            0|    1942|           0|    1038 SW 152nd St|   Burien|WA 98166|[1038, sw, 152nd,...|(262144,[60223,13...|             14.0|            39.0|(43,[14],[1.0])|(76,[39],[1.0])|(262158,[0,1,2,3,...|100200.30134911207|\n",
            "|     2.0|110000.0|      1.0|        800|   15000|   1.0|         0|   0|        3|       800|            0|    1927|        2011|    12231 14th Ave S|  Seattle|WA 98168|[12231, 14th, ave...|(262144,[61661,12...|              0.0|            35.0| (43,[0],[1.0])|(76,[35],[1.0])|(262158,[0,1,2,3,...|129209.08086043177|\n",
            "|     2.0|134000.0|      1.5|        980|    5000|   2.0|         0|   0|        3|       980|            0|    1922|        2003|       235 Thelma St|Skykomish|WA 98288|   [235, thelma, st]|(262144,[22280,20...|             38.0|            73.0|(43,[38],[1.0])|(76,[73],[1.0])|(262158,[0,1,2,3,...|134070.86938743596|\n",
            "|     2.0|139000.0|      1.0|        690|    5280|   1.0|         0|   0|        4|       690|            0|    1942|        1982|   755 Dayton Ave NE|   Renton|WA 98056|[755, dayton, ave...|(262144,[97081,11...|              1.0|            22.0| (43,[1],[1.0])|(76,[22],[1.0])|(262158,[0,1,2,3,...| 139218.8014739626|\n",
            "+--------+--------+---------+-----------+--------+------+----------+----+---------+----------+-------------+--------+------------+--------------------+---------+--------+--------------------+--------------------+-----------------+----------------+---------------+---------------+--------------------+------------------+\n",
            "only showing top 20 rows\n",
            "\n"
          ]
        }
      ],
      "source": [
        "prediction.show()"
      ]
    },
    {
      "cell_type": "code",
      "execution_count": 34,
      "metadata": {
        "id": "NEx78JigS76N"
      },
      "outputs": [],
      "source": [
        "prediction.toPandas().to_csv(cur_path+\"prediction-aws.csv\")"
      ]
    },
    {
      "cell_type": "code",
      "execution_count": 35,
      "metadata": {
        "id": "_OQfHcpl1ICu",
        "colab": {
          "base_uri": "https://localhost:8080/"
        },
        "outputId": "886a5bd3-a58e-42fa-c585-0fa5acd691fd"
      },
      "outputs": [
        {
          "output_type": "stream",
          "name": "stdout",
          "text": [
            "0.997489897782658\n"
          ]
        },
        {
          "output_type": "execute_result",
          "data": {
            "text/plain": [
              "40819.08762568456"
            ]
          },
          "metadata": {},
          "execution_count": 35
        }
      ],
      "source": [
        "from pyspark.ml.evaluation import RegressionEvaluator\n",
        "evaluator = RegressionEvaluator(labelCol='price')\n",
        "evaluator.setPredictionCol(\"prediction\")\n",
        "print(evaluator.evaluate(prediction, {evaluator.metricName: \"r2\"}))\n",
        "evaluator.evaluate(prediction, {evaluator.metricName: \"rmse\"})\n"
      ]
    },
    {
      "cell_type": "code",
      "execution_count": 36,
      "metadata": {
        "id": "8Dsr0SNV295N"
      },
      "outputs": [],
      "source": [
        "df=prediction.select('price','prediction').toPandas()"
      ]
    },
    {
      "cell_type": "code",
      "execution_count": 37,
      "metadata": {
        "id": "GLte7D0M5-PM",
        "colab": {
          "base_uri": "https://localhost:8080/",
          "height": 424
        },
        "outputId": "e37747df-8e20-4482-cf1a-ec5b05da8894"
      },
      "outputs": [
        {
          "output_type": "execute_result",
          "data": {
            "text/plain": [
              "          price  prediction\n",
              "0      115000.0    115058.2\n",
              "1      135000.0    135227.3\n",
              "2      190000.0    190347.5\n",
              "3      194000.0    194208.0\n",
              "4      202000.0    202339.1\n",
              "...         ...         ...\n",
              "1369   824000.0    822580.7\n",
              "1370  1240000.0   1239547.0\n",
              "1371  1950000.0   1949751.8\n",
              "1372  2280000.0   2278392.2\n",
              "1373  1970000.0   1969569.2\n",
              "\n",
              "[1374 rows x 2 columns]"
            ],
            "text/html": [
              "\n",
              "  <div id=\"df-9710e297-789d-4cc1-b686-94001518a6b8\">\n",
              "    <div class=\"colab-df-container\">\n",
              "      <div>\n",
              "<style scoped>\n",
              "    .dataframe tbody tr th:only-of-type {\n",
              "        vertical-align: middle;\n",
              "    }\n",
              "\n",
              "    .dataframe tbody tr th {\n",
              "        vertical-align: top;\n",
              "    }\n",
              "\n",
              "    .dataframe thead th {\n",
              "        text-align: right;\n",
              "    }\n",
              "</style>\n",
              "<table border=\"1\" class=\"dataframe\">\n",
              "  <thead>\n",
              "    <tr style=\"text-align: right;\">\n",
              "      <th></th>\n",
              "      <th>price</th>\n",
              "      <th>prediction</th>\n",
              "    </tr>\n",
              "  </thead>\n",
              "  <tbody>\n",
              "    <tr>\n",
              "      <th>0</th>\n",
              "      <td>115000.0</td>\n",
              "      <td>115058.2</td>\n",
              "    </tr>\n",
              "    <tr>\n",
              "      <th>1</th>\n",
              "      <td>135000.0</td>\n",
              "      <td>135227.3</td>\n",
              "    </tr>\n",
              "    <tr>\n",
              "      <th>2</th>\n",
              "      <td>190000.0</td>\n",
              "      <td>190347.5</td>\n",
              "    </tr>\n",
              "    <tr>\n",
              "      <th>3</th>\n",
              "      <td>194000.0</td>\n",
              "      <td>194208.0</td>\n",
              "    </tr>\n",
              "    <tr>\n",
              "      <th>4</th>\n",
              "      <td>202000.0</td>\n",
              "      <td>202339.1</td>\n",
              "    </tr>\n",
              "    <tr>\n",
              "      <th>...</th>\n",
              "      <td>...</td>\n",
              "      <td>...</td>\n",
              "    </tr>\n",
              "    <tr>\n",
              "      <th>1369</th>\n",
              "      <td>824000.0</td>\n",
              "      <td>822580.7</td>\n",
              "    </tr>\n",
              "    <tr>\n",
              "      <th>1370</th>\n",
              "      <td>1240000.0</td>\n",
              "      <td>1239547.0</td>\n",
              "    </tr>\n",
              "    <tr>\n",
              "      <th>1371</th>\n",
              "      <td>1950000.0</td>\n",
              "      <td>1949751.8</td>\n",
              "    </tr>\n",
              "    <tr>\n",
              "      <th>1372</th>\n",
              "      <td>2280000.0</td>\n",
              "      <td>2278392.2</td>\n",
              "    </tr>\n",
              "    <tr>\n",
              "      <th>1373</th>\n",
              "      <td>1970000.0</td>\n",
              "      <td>1969569.2</td>\n",
              "    </tr>\n",
              "  </tbody>\n",
              "</table>\n",
              "<p>1374 rows × 2 columns</p>\n",
              "</div>\n",
              "      <button class=\"colab-df-convert\" onclick=\"convertToInteractive('df-9710e297-789d-4cc1-b686-94001518a6b8')\"\n",
              "              title=\"Convert this dataframe to an interactive table.\"\n",
              "              style=\"display:none;\">\n",
              "        \n",
              "  <svg xmlns=\"http://www.w3.org/2000/svg\" height=\"24px\"viewBox=\"0 0 24 24\"\n",
              "       width=\"24px\">\n",
              "    <path d=\"M0 0h24v24H0V0z\" fill=\"none\"/>\n",
              "    <path d=\"M18.56 5.44l.94 2.06.94-2.06 2.06-.94-2.06-.94-.94-2.06-.94 2.06-2.06.94zm-11 1L8.5 8.5l.94-2.06 2.06-.94-2.06-.94L8.5 2.5l-.94 2.06-2.06.94zm10 10l.94 2.06.94-2.06 2.06-.94-2.06-.94-.94-2.06-.94 2.06-2.06.94z\"/><path d=\"M17.41 7.96l-1.37-1.37c-.4-.4-.92-.59-1.43-.59-.52 0-1.04.2-1.43.59L10.3 9.45l-7.72 7.72c-.78.78-.78 2.05 0 2.83L4 21.41c.39.39.9.59 1.41.59.51 0 1.02-.2 1.41-.59l7.78-7.78 2.81-2.81c.8-.78.8-2.07 0-2.86zM5.41 20L4 18.59l7.72-7.72 1.47 1.35L5.41 20z\"/>\n",
              "  </svg>\n",
              "      </button>\n",
              "      \n",
              "  <style>\n",
              "    .colab-df-container {\n",
              "      display:flex;\n",
              "      flex-wrap:wrap;\n",
              "      gap: 12px;\n",
              "    }\n",
              "\n",
              "    .colab-df-convert {\n",
              "      background-color: #E8F0FE;\n",
              "      border: none;\n",
              "      border-radius: 50%;\n",
              "      cursor: pointer;\n",
              "      display: none;\n",
              "      fill: #1967D2;\n",
              "      height: 32px;\n",
              "      padding: 0 0 0 0;\n",
              "      width: 32px;\n",
              "    }\n",
              "\n",
              "    .colab-df-convert:hover {\n",
              "      background-color: #E2EBFA;\n",
              "      box-shadow: 0px 1px 2px rgba(60, 64, 67, 0.3), 0px 1px 3px 1px rgba(60, 64, 67, 0.15);\n",
              "      fill: #174EA6;\n",
              "    }\n",
              "\n",
              "    [theme=dark] .colab-df-convert {\n",
              "      background-color: #3B4455;\n",
              "      fill: #D2E3FC;\n",
              "    }\n",
              "\n",
              "    [theme=dark] .colab-df-convert:hover {\n",
              "      background-color: #434B5C;\n",
              "      box-shadow: 0px 1px 3px 1px rgba(0, 0, 0, 0.15);\n",
              "      filter: drop-shadow(0px 1px 2px rgba(0, 0, 0, 0.3));\n",
              "      fill: #FFFFFF;\n",
              "    }\n",
              "  </style>\n",
              "\n",
              "      <script>\n",
              "        const buttonEl =\n",
              "          document.querySelector('#df-9710e297-789d-4cc1-b686-94001518a6b8 button.colab-df-convert');\n",
              "        buttonEl.style.display =\n",
              "          google.colab.kernel.accessAllowed ? 'block' : 'none';\n",
              "\n",
              "        async function convertToInteractive(key) {\n",
              "          const element = document.querySelector('#df-9710e297-789d-4cc1-b686-94001518a6b8');\n",
              "          const dataTable =\n",
              "            await google.colab.kernel.invokeFunction('convertToInteractive',\n",
              "                                                     [key], {});\n",
              "          if (!dataTable) return;\n",
              "\n",
              "          const docLinkHtml = 'Like what you see? Visit the ' +\n",
              "            '<a target=\"_blank\" href=https://colab.research.google.com/notebooks/data_table.ipynb>data table notebook</a>'\n",
              "            + ' to learn more about interactive tables.';\n",
              "          element.innerHTML = '';\n",
              "          dataTable['output_type'] = 'display_data';\n",
              "          await google.colab.output.renderOutput(dataTable, element);\n",
              "          const docLink = document.createElement('div');\n",
              "          docLink.innerHTML = docLinkHtml;\n",
              "          element.appendChild(docLink);\n",
              "        }\n",
              "      </script>\n",
              "    </div>\n",
              "  </div>\n",
              "  "
            ]
          },
          "metadata": {},
          "execution_count": 37
        }
      ],
      "source": [
        "df[\"prediction\"] = df[\"prediction\"].round(1)\n",
        "df"
      ]
    },
    {
      "cell_type": "code",
      "execution_count": 38,
      "metadata": {
        "id": "EduR_g433JZj"
      },
      "outputs": [],
      "source": [
        "df['residuals']= ((df['price']-df['prediction']))"
      ]
    },
    {
      "cell_type": "code",
      "execution_count": 39,
      "metadata": {
        "id": "OY253x_X3V9Q",
        "colab": {
          "base_uri": "https://localhost:8080/"
        },
        "outputId": "9bcf67cb-9507-40b2-8fb4-95f4ffb714e4"
      },
      "outputs": [
        {
          "output_type": "execute_result",
          "data": {
            "text/plain": [
              "790    -325265.8\n",
              "771    -299703.2\n",
              "71     -223338.9\n",
              "754    -212456.1\n",
              "76     -189395.1\n",
              "          ...   \n",
              "428     219156.1\n",
              "540     228102.1\n",
              "1339    260507.3\n",
              "670     286822.5\n",
              "1200    301100.7\n",
              "Name: residuals, Length: 1374, dtype: float64"
            ]
          },
          "metadata": {},
          "execution_count": 39
        }
      ],
      "source": [
        "df['residuals'].sort_values()"
      ]
    },
    {
      "cell_type": "code",
      "execution_count": 40,
      "metadata": {
        "id": "LEuCp0lA4di_",
        "colab": {
          "base_uri": "https://localhost:8080/",
          "height": 282
        },
        "outputId": "f5bfba24-eabc-4b72-d66c-f7c207d99df5"
      },
      "outputs": [
        {
          "output_type": "execute_result",
          "data": {
            "text/plain": [
              "<matplotlib.axes._subplots.AxesSubplot at 0x7fd4d1a6d990>"
            ]
          },
          "metadata": {},
          "execution_count": 40
        },
        {
          "output_type": "display_data",
          "data": {
            "text/plain": [
              "<Figure size 432x288 with 1 Axes>"
            ],
            "image/png": "[encoded data removed]"
          },
          "metadata": {
            "needs_background": "light"
          }
        }
      ],
      "source": [
        "df['residuals'].hist(bins=50)"
      ]
    },
    {
      "cell_type": "code",
      "execution_count": 41,
      "metadata": {
        "id": "anP6oK1h5lXX"
      },
      "outputs": [],
      "source": [
        "df = prediction.select('bedrooms','price','bathrooms','sqft_living','sqft_lot','floors','waterfront','view','condition','sqft_above','sqft_basement','yr_built','yr_renovated','street','city','statezip','prediction')"
      ]
    },
    {
      "cell_type": "code",
      "execution_count": 42,
      "metadata": {
        "id": "590Baw696CBq",
        "colab": {
          "base_uri": "https://localhost:8080/"
        },
        "outputId": "0fd63aff-ae86-4cff-d093-6c20982690da"
      },
      "outputs": [
        {
          "output_type": "execute_result",
          "data": {
            "text/plain": [
              "Row(bedrooms=1.0, price=115000.0, bathrooms=2.0, sqft_living=1150, sqft_lot=9812, floors=1.0, waterfront=0, view=0, condition=4, sqft_above=1150, sqft_basement=0, yr_built=1962, yr_renovated=0, street='34215 40th Ave S', city='Auburn', statezip='WA 98001', prediction=115058.17609109753)"
            ]
          },
          "metadata": {},
          "execution_count": 42
        }
      ],
      "source": [
        "df.head()"
      ]
    },
    {
      "cell_type": "markdown",
      "metadata": {
        "id": "QkREA2BIBwT1"
      },
      "source": [
        "Redoing Model with transform to get beta coefficients"
      ]
    },
    {
      "cell_type": "code",
      "execution_count": 47,
      "metadata": {
        "id": "_3_qm6Am563Y"
      },
      "outputs": [],
      "source": [
        "tokenizer = Tokenizer(inputCol=\"street\", outputCol=\"tokenized_street\")\n",
        "df = tokenizer.transform(train_data)\n",
        "hashingTF = HashingTF(inputCol=tokenizer.getOutputCol(), outputCol=\"tokenized_features\")\n",
        "df=hashingTF.transform(df)\n",
        "\n",
        "qualification_indexer_city = StringIndexer(inputCol=\"city\", outputCol=\"qualificationcity\")\n",
        "df=qualification_indexer_city.fit(df).transform(df)\n",
        "qualification_indexer_zip = StringIndexer(inputCol=\"statezip\", outputCol=\"qualificationzip\")\n",
        "df=qualification_indexer_zip.fit(df).transform(df)\n",
        "scaler = MinMaxScaler(inputCol=\"features\", outputCol=\"scaledFeatures\")\n",
        "encoder_city = OneHotEncoder(\n",
        "    inputCols=[\"qualificationcity\"],  \n",
        "    outputCols=[\"city_vector\"]\n",
        ")\n",
        "df=encoder_city.fit(df).transform(df)\n",
        "encoder_zip = OneHotEncoder(\n",
        "    inputCols=[\"qualificationzip\"],  \n",
        "    outputCols=[\"statezip_vector\"]\n",
        ")\n",
        "df=encoder_zip.fit(df).transform(df)\n",
        "\n",
        "vectorAssembler = VectorAssembler(inputCols=['bedrooms','bathrooms','sqft_living','sqft_lot','floors','waterfront','view','condition','sqft_above','sqft_basement','yr_built','yr_renovated','qualificationcity','qualificationzip','tokenized_features'], outputCol='features')\n",
        "df=vectorAssembler.transform(df)\n",
        "\n",
        "\n",
        "lr = LinearRegression(labelCol='price')\n"
      ]
    },
    {
      "cell_type": "code",
      "execution_count": 48,
      "metadata": {
        "id": "p8-A8tCUC3gG"
      },
      "outputs": [],
      "source": [
        "lrModel = lr.fit(df)"
      ]
    },
    {
      "cell_type": "code",
      "execution_count": 49,
      "metadata": {
        "id": "u6nt0LXcC59r",
        "colab": {
          "base_uri": "https://localhost:8080/"
        },
        "outputId": "d01c29d7-3eb2-48b3-9f05-a2f92c1df30b"
      },
      "outputs": [
        {
          "output_type": "stream",
          "name": "stdout",
          "text": [
            "Coefficients: (262158,[0,1,2,3,4,5,6,7,8,9,10,11,12,13,26,159,170,199,284,371,375,549,630,654,676,885,966,969,976,1144,1151,1168,1317,1425,1465,1614,1650,1682,1743,1746,1836,1948,2030,2033,2038,2211,2216,2329,2354,2356,2444,2479,2534,2569,2576,2587,2662,2745,2748,2796,2907,2974,3011,3059,3122,3198,3225,3437,3458,3533,3630,3684,3695,3696,3832,3838,4089,4098,4120,4143,4148,4403,4405,4407,4504,4606,4673,4704,4757,4760,4847,4882,4943,4945,4992,5002,5121,5191,5398,5400,5406,5417,5640,5724,5913,5947,6005,6037,6067,6088,6187,6206,6225,6244,6266,6278,6328,6392,6394,6489,6527,6530,6538,6547,6615,6623,6754,6835,7023,7034,7056,7089,7292,7305,7325,7375,7553,7563,7702,7752,7820,7838,7975,7988,8033,8082,8114,8134,8159,8218,8231,8366,8372,8380,8394,8442,8636,8670,8822,8853,9351,9413,9535,9598,9624,9661,9677,9737,9795,9837,9974,10106,10118,10284,10364,10461,10482,10494,10763,10827,10972,11018,11122,11209,11299,11313,11316,11342,11352,11396,11411,11589,11617,11671,11710,11761,11774,11809,11822,12264,12274,12279,12350,12355,12420,12531,12740,12891,12940,12957,13031,13137,13171,13403,13459,13464,13523,13598,13822,14010,14048,14257,14267,14332,14410,14589,14670,14798,14835,14864,15017,15046,15076,15213,15240,15352,15361,15391,15510,15520,15531,15558,15571,15591,15613,15638,15656,15679,15719,15878,15879,15977,15986,15987,16009,16203,16210,16313,16422,16432,16518,16604,16811,16820,16865,16997,17035,17120,17254,17273,17310,17458,17583,17610,17619,17662,17898,17900,18030,18170,18278,18314,18390,18433,18480,18623,18675,18738,18889,18895,18948,19050,19055,19072,19120,19209,19329,19386,19399,19504,19537,19718,19979,19996,20076,20120,20139,20202,20205,20298,20400,20435,20438,20497,20629,20691,20742,20867,21002,21144,21226,21289,21423,21454,21512,21555,21632,21774,21802,21920,22005,22099,22310,22439,22473,22843,22900,23126,23235,23260,23290,23291,23301,23348,23398,23430,23462,23652,23694,23696,23888,23918,24046,24098,24191,24210,24214,24229,24236,24244,24309,24320,24483,24835,24924,25036,25110,25155,25176,25198,25268,25338,25414,25475,25630,25648,25749,25778,25853,25903,25920,26010,26108,26259,26418,26439,26452,26590,26601,26606,26635,26757,26802,26803,26849,26859,26889,26984,26987,27039,27188,27266,27280,27306,27414,27590,27684,27731,27882,27996,27998,28075,28183,28185,28266,28317,28402,28432,28614,28624,28631,28671,28752,28827,28851,28881,28900,28944,28988,28995,29061,29066,29131,29170,29208,29211,29524,29624,29708,29769,29797,29851,29880,29902,29966,29969,29991,30432,30509,30567,30569,30586,30588,30714,30740,30900,30961,31098,31129,31178,31452,31455,31566,31598,31688,31689,31835,31950,31982,32029,32120,32137,32148,32165,32292,32406,32543,32684,32713,32725,32727,32739,32770,32814,33092,33232,33244,33316,33326,33393,33773,33880,33931,33937,33994,34210,34259,34296,34353,34433,34479,34536,34613,34744,34973,35015,35125,35325,35381,35473,35552,35645,35652,35702,35796,36178,36179,36221,36235,36293,36295,36339,36359,36361,36448,36594,36642,36766,36807,36817,36860,37002,37032,37194,37206,37333,37571,37587,37679,37771,37777,37856,37907,37924,38045,38072,38193,38241,38262,38359,38410,38438,38442,38475,38620,38655,38678,38782,38852,38890,38893,38914,38915,38993,39010,39052,39125,39258,39343,39383,39483,39586,39778,39832,39867,39916,39975,39984,39986,40011,40074,40249,40268,40307,40483,40504,40583,40593,40675,40738,40818,41140,41143,41345,41363,41449,41486,41503,41528,41538,41640,41680,41834,41902,41976,41986,42045,42243,42257,42282,42311,42477,42480,42539,42573,42641,42727,42731,42775,42836,42840,43008,43164,43184,43207,43341,43351,43391,43465,43484,43605,43637,43841,43868,43878,43911,44083,44224,44252,44407,44420,44459,44485,44695,44699,44708,44747,44750,44844,44896,44968,45048,45081,45342,45350,45538,45710,45728,45810,45926,46059,46241,46286,46289,46400,46433,46569,46642,46680,46703,46915,46929,46935,46975,47035,47103,47167,47268,47304,47429,47483,47505,47645,47686,47818,47826,47858,47931,48075,48076,48127,48243,48371,48427,48603,48604,48705,48797,48805,48906,48993,49060,49171,49458,49492,49496,49540,49654,49809,49907,49929,49968,50071,50097,50401,50506,50647,50753,50812,50880,50926,50938,50941,51287,51289,51324,51357,51372,51470,51485,51507,51582,51611,51635,51744,51771,51970,52306,52327,52429,52471,52547,52580,52611,52621,52658,52799,52802,52861,52906,53022,53063,53086,53123,53161,53165,53171,53272,53303,53309,53379,53429,53457,53492,53538,53656,53696,53698,53787,53795,53806,53931,53982,54056,54186,54319,54357,54549,54565,54575,54708,54714,54762,54835,54843,54879,55099,55294,55324,55499,55515,55595,55638,55915,55934,55953,55982,56120,56130,56206,56248,56288,56300,56345,56406,56475,56509,56529,56540,56627,56674,56689,56699,57041,57159,57160,57212,57275,57477,57478,57514,57541,57587,57647,57683,57692,57773,57870,57968,58113,58126,58258,58455,58610,58639,58670,58721,58806,58926,59096,59146,59156,59161,59165,59166,59395,59405,59416,59470,59621,59646,59698,59759,59849,59854,59988,59990,60036,60084,60203,60266,60352,60402,60418,60564,60572,60641,60713,60721,60739,60851,60884,60919,60985,61029,61074,61205,61279,61565,61595,61600,61643,61693,61712,61741,61752,61845,61886,61960,62065,62070,62075,62395,62549,62718,62842,62843,63006,63059,63158,63170,63253,63362,63371,63449,63550,63643,63667,63687,63694,63721,63743,63781,63791,63849,63850,63897,63965,64049,64139,64238,64249,64271,64279,64353,64371,64374,64395,64434,64592,64653,64692,64710,64956,64966,64972,65005,65128,65179,65234,65274,65352,65421,65435,65545,65656,65717,65765,65868,65897,65937,65961,66007,66014,66015,66152,66191,66234,66340,66383,66430,66466,66495,66559,66599,66706,66723,66733,66758,66789,66799,66818,66837,66899,67084,67234,67260,67389,67539,67575,67647,67706,67758,67775,67800,67844,67932,67986,68058,68224,68419,68463,68560,68727,68741,68804,69016,69033,69123,69132,69160,69175,69297,69304,69358,69468,69476,69686,69873,69965,70128,70175,70204,70230,70431,70529,70555,70623,70693,70725,70789,70880,70990,70995,71129,71152,71529,71547,71712,71840,72027,72044,72072,72097,72310,72321,72404,72464,72667,72726,72727,73013,73017,73022,73100,73502,73722,73765,73957,74046,74076,74240,74307,74358,74360,74401,74526,74538,74647,74842,74867,74903,74959,74975,75059,75107,75195,75304,75382,75475,75588,75594,75614,75644,75735,75826,75837,75925,76107,76141,76173,76355,76387,76503,76510,76546,76566,76579,76662,76797,76929,76966,77050,77071,77114,77220,77273,77324,77342,77367,77438,77541,77615,77685,77817,78059,78071,78096,78159,78332,78509,78524,78528,78558,78562,78659,78660,78663,78771,78969,79053,79076,79150,79182,79249,79418,79420,79467,79533,79652,79730,79766,79800,79866,79944,79959,79978,80159,80186,80334,80430,80550,80594,80647,80665,80788,80799,80809,80850,80867,80886,80960,80969,80974,80988,81013,81014,81045,81270,81323,81371,81450,81648,81799,81850,81878,81884,82043,82110,82183,82197,82231,82264,82439,82654,82787,82842,83004,83037,83042,83080,83115,83178,83538,83551,83594,83699,83714,83733,83753,83906,83999,84086,84155,84177,84215,84241,84287,84371,84378,84391,84415,84533,84543,84562,84587,84691,84705,84732,84753,84760,84835,84854,84954,84975,84995,85013,85220,85286,85353,85364,85403,85463,85494,85507,85578,85646,85652,85688,85705,85756,85816,85897,85937,85960,85983,86088,86155,86239,86242,86269,86307,86354,86362,86454,86642,86849,86908,87105,87125,87266,87316,87383,87527,87607,87608,87633,87718,87742,87900,87974,88000,88020,88380,88405,88524,88587,88680,88793,88827,88853,89017,89037,89133,89135,89140,89272,89297,89330,89544,89596,89613,89641,89759,89763,89984,90053,90219,90284,90314,90514,90537,90579,90580,90752,90757,90764,90885,90898,90963,91002,91054,91208,91320,91353,91358,91387,91395,91542,91604,91754,91865,91892,91933,91993,92117,92174,92214,92296,92375,92524,92545,92562,92586,92665,92670,92724,92856,92858,92924,93017,93274,93293,93343,93389,93400,93416,93495,93637,93678,93724,93784,93798,93843,93929,93973,93976,94102,94145,94219,94262,94294,94299,94312,94506,94635,94731,94862,94876,94967,95044,95081,95099,95262,95506,95550,95557,95644,95648,95678,95845,95956,96077,96107,96136,96164,96263,96399,96414,96415,96418,96436,96496,96585,96602,96637,96660,96713,96765,96782,96844,96867,96903,96973,97095,97217,97226,97273,97319,97337,97356,97368,97394,97438,97442,97555,97792,98081,98082,98171,98455,98568,98593,98795,98943,98959,98989,99033,99171,99364,99388,99515,99936,99948,99996,100297,100298,100396,100409,100478,100587,100605,100696,100744,100758,100827,100963,101025,101104,101165,101173,101202,101379,101524,101702,101818,101881,101933,101942,101968,102056,102116,102225,102240,102379,102554,102559,102586,102602,102614,102642,102655,102693,102699,102780,102814,102852,102857,102900,103136,103162,103163,103289,103312,103411,103449,103490,103529,103558,103617,103680,103744,103753,103775,103888,104024,104359,104381,104659,104755,104932,104938,105006,105019,105101,105103,105124,105175,105193,105258,105347,105474,105477,105562,105624,105641,105649,105793,105865,105971,106076,106186,106202,106281,106326,106476,106519,106548,106553,106557,106616,106651,106704,106803,106833,106846,107121,107128,107165,107208,107283,107301,107601,107607,107928,108153,108242,108246,108308,108347,108383,108508,108544,108638,108749,108841,108842,108848,108876,108973,108979,109044,109079,109159,109179,109273,109438,109461,109472,109497,109536,109773,109777,109789,109911,109945,109948,109963,109977,109989,109999,110075,110195,110207,110244,110302,110440,110442,110446,110633,110646,110703,110817,110851,110975,110977,111015,111116,111129,111231,111275,111392,111419,111467,111534,111629,111648,111667,111752,111795,111809,111944,111995,112113,112316,112356,112470,112477,112517,112570,112608,113038,113208,113214,113273,113361,113519,113582,113655,113658,113669,113741,113770,113784,113863,113874,113951,114229,114311,114523,114586,114660,114777,114839,114891,114929,114971,114993,115137,115271,115349,115377,115486,115551,115622,115640,115766,115780,115804,115817,115840,115933,115977,115983,116144,116430,116539,116657,116672,116684,116801,116818,116987,117050,117429,117570,117685,117916,118056,118085,118114,118165,118215,118336,118450,118498,118539,118540,118606,118609,118646,118714,118732,118752,118820,118938,118997,119107,119163,119209,119421,119455,119730,119742,119936,120091,120158,120241,120330,120411,120501,120504,120514,120520,120528,120538,120580,120647,120658,120663,120667,120738,120762,120885,120904,120942,120946,120956,121039,121068,121117,121214,121230,121266,121302,121490,121549,121554,121699,121744,121800,121802,121870,122231,122275,122298,122381,122618,122687,122851,122867,122871,122947,123066,123070,123200,123308,123503,123571,123715,123805,123829,123842,123853,123886,123923,123988,124033,124052,124102,124190,124221,124238,124241,124301,124547,124579,124589,124622,124684,124685,124696,124736,124938,124949,125015,125199,125324,125347,125504,125554,125555,125604,125622,125783,125785,125799,125835,126020,126195,126221,126243,126387,126420,126623,126630,126680,126697,126734,126881,127203,127256,127322,127382,127450,127546,127612,127646,127796,127851,127858,127872,127920,127988,127992,128034,128037,128067,128219,128268,128298,128310,128322,128351,128409,128492,128585,128600,128613,128847,128977,129031,129035,129048,129080,129132,129382,129440,129514,129631,129769,129797,129995,130010,130052,130090,130131,130292,130401,130464,130507,130553,130685,130879,130934,131259,131370,131427,131433,131481,131508,131546,131555,131623,131656,131674,131719,131760,131859,131990,132014,132028,132029,132047,132315,132397,132426,132466,132513,132531,132547,132558,132568,132700,132783,132787,132853,132859,132956,133108,133413,133468,133488,133519,133638,133653,133860,133885,134043,134118,134262,134280,134314,134338,134560,134563,134597,134604,134628,134700,134725,134739,134868,134984,135121,135150,135205,135275,135278,135293,135338,135358,135453,135464,135483,135581,135627,135806,136034,136057,136190,136212,136269,136386,136483,136493,136549,136558,136563,136724,136734,136806,136871,136904,137108,137131,137157,137201,137413,137536,137566,137693,137767,137859,137899,137923,138130,138256,138321,138398,138416,138446,138483,138514,138687,138690,138791,138843,138854,138868,139000,139040,139046,139139,139152,139174,139282,139384,139737,139757,139809,139853,140042,140205,140338,140417,140427,140530,140532,140553,140562,140650,140681,140750,140789,140812,140843,140864,140917,140928,140990,141023,141165,141173,141288,141365,141415,141479,141486,141631,141666,141672,141820,141869,141877,142178,142210,142259,142287,142301,142363,142415,142459,142509,142601,142666,142686,142767,142933,142942,143146,143164,143270,143377,143414,143459,143520,143545,143547,143705,144030,144050,144054,144112,144163,144232,144253,144326,144366,144517,144541,144612,144752,144802,144904,144914,144985,145061,145208,145283,145291,145460,145551,145688,145852,145856,145896,145942,145956,145961,145967,146027,146146,146195,146319,146352,146372,146472,146478,146493,146603,146840,146878,147050,147104,147117,147184,147204,147239,147283,147332,147383,147434,147453,147471,147591,147753,147854,148129,148233,148238,148262,148412,148761,148773,148811,148876,148894,148926,148979,149058,149108,149126,149178,149270,149400,149488,149548,149554,149815,149976,150122,150345,150377,150378,150412,150489,150655,150726,151068,151170,151216,151320,151352,151391,151567,151589,151638,151667,151722,151731,151878,151879,151978,152006,152061,152100,152184,152394,152479,152554,152624,152641,153020,153024,153029,153053,153290,153320,153416,153540,153549,153572,153744,153813,153945,153981,154186,154217,154298,154305,154396,154583,154633,154794,154894,154909,154935,154966,154985,155033,155135,155349,155377,155645,155732,155790,155909,155944,155945,156042,156062,156124,156162,156180,156339,156346,156369,156434,156440,156755,156771,156812,156861,157041,157044,157128,157133,157134,157136,157209,157309,157444,157567,157641,157667,157686,157727,157759,157760,157841,157903,157961,158069,158086,158124,158172,158271,158323,158331,158412,158465,158482,158524,158544,158576,158587,158691,158720,158794,158815,158818,158837,158854,158870,158930,158987,159079,159211,159261,159309,159359,159372,159403,159453,159634,159813,159830,159892,159941,160034,160045,160185,160230,160341,160346,160460,160526,160585,160786,160932,161013,161030,161110,161196,161383,161493,161570,161671,161768,161770,161787,161806,162010,162042,162082,162144,162148,162169,162185,162238,162243,162302,162321,162376,162448,162544,162595,162617,162736,162775,162782,162813,162868,162942,162962,162972,163030,163091,163103,163264,163367,163488,163545,163618,163693,163694,163706,163790,163793,163798,163830,163900,163917,163925,164047,164367,164389,164719,164742,164892,165199,165214,165262,165342,165398,165445,165579,165625,165750,165907,165913,165930,165991,166069,166133,166217,166274,166325,166386,166459,166630,166759,166813,166881,166887,166920,166989,167034,167039,167193,167199,167225,167236,167260,167293,167294,167299,167372,167374,167472,167478,167708,167718,167750,167875,167968,168162,168290,168394,168490,168529,168552,168604,168682,168757,168789,168849,168912,168972,168973,168977,169029,169044,169121,169126,169203,169239,169289,169295,169304,169310,169351,169374,169430,169451,169571,169596,169857,169909,169975,170204,170207,170361,170429,170512,170676,170968,171174,171200,171295,171388,171437,171486,171490,171574,171578,171588,171622,171760,171772,171787,171820,171894,171908,171945,171974,171995,172190,172214,172228,172249,172274,172367,172474,172489,172566,172600,172665,172689,172693,172714,172740,172743,172902,172936,172945,172975,173011,173103,173141,173190,173298,173550,173602,173801,173925,173963,173974,174061,174116,174119,174160,174166,174204,174454,174476,174510,174557,174630,174702,174703,174731,174768,174792,174964,175069,175122,175173,175421,175424,175487,175641,175696,175740,175853,176043,176101,176147,176179,176309,176484,176592,176654,176665,176673,176690,176732,176745,176747,176929,177044,177083,177089,177119,177135,177333,177512,177594,177619,177772,177828,177847,177999,178275,178298,178299,178383,178597,178611,178703,178802,178827,179000,179041,179053,179136,179162,179357,179461,179484,179593,179689,179713,179816,179835,179879,179893,180013,180102,180281,180364,180397,180398,180635,180788,180807,180866,181101,181166,181239,181318,181400,181456,181609,181728,181787,181878,181998,182105,182118,182136,182224,182243,182387,182620,182677,182807,182828,182852,182904,182959,182970,182977,183026,183095,183191,183275,183464,183521,183573,183651,183874,183886,184137,184229,184292,184319,184564,184578,184744,184771,184787,184833,184893,184903,184909,184960,185077,185090,185098,185154,185202,185246,185316,185329,185346,185391,185407,185542,185634,185720,185831,185935,186034,186098,186541,186699,186771,186897,186940,187068,187222,187361,187381,187420,187503,187673,187803,187873,187924,188051,188667,188668,188669,188681,188773,188790,188883,188992,189211,189236,189339,189430,189495,189668,189707,190046,190077,190317,190350,190431,190505,190507,190553,190741,190827,190835,190839,190991,191059,191133,191346,191351,191366,191609,191638,191723,191731,191966,191985,192097,192113,192185,192188,192255,192411,192613,192665,192806,192889,192891,192926,192977,192996,193051,193097,193195,193331,193625,193691,193725,193738,193765,193775,193832,193873,193971,194081,194223,194252,194352,194577,194643,194809,194816,194827,194844,194932,195045,195101,195111,195189,195251,195428,195445,195642,195760,195797,195809,195833,196043,196136,196149,196172,196301,196395,196524,196576,196630,196646,196754,196795,196862,196871,197048,197067,197102,197158,197270,197281,197415,197455,197462,197504,197542,197589,197750,197850,197866,197881,197927,198044,198090,198155,198164,198199,198318,198330,198358,198432,198522,198637,198673,198698,198960,198963,199257,199270,199282,199373,199389,199441,199656,199668,199855,199944,199982,200278,200281,200316,200353,200794,200854,200910,201197,201477,201488,201610,201614,201626,201697,201954,201979,201981,202056,202163,202188,202293,202371,202502,202598,202642,202766,202767,202939,202976,203010,203013,203026,203028,203057,203178,203179,203330,203611,203617,203781,203836,203956,203967,204046,204073,204085,204191,204288,204354,204369,204525,204581,204676,204811,205000,205172,205219,205356,205363,205478,205533,205605,205713,205752,205775,205799,205854,205977,206041,206242,206324,206356,206387,206471,206527,206531,206678,206848,206924,206965,207009,207062,207086,207116,207118,207126,207474,207478,207584,207687,207701,207704,207723,207732,207848,207901,207958,208109,208187,208203,208228,208277,208346,208630,208795,208892,208929,208953,209020,209034,209110,209152,209355,209475,209533,209540,209652,209743,209874,210006,210033,210167,210206,210317,210424,210604,210711,210865,210902,211093,211186,211228,211260,211286,211290,211418,211514,211651,211731,211796,211902,211903,211986,211991,212104,212270,212306,212330,212366,212443,212461,212496,212664,212700,212771,212772,212802,212815,212834,213156,213159,213185,213207,213222,213250,213279,213328,213502,213582,213584,213631,213674,213759,213773,213810,213836,213888,213922,213925,214210,214252,214342,214357,214406,214546,214664,214731,214739,214756,214835,214896,215746,215828,215874,215969,215971,216151,216178,216189,216221,216245,216261,216535,216596,216617,216656,216733,216745,216756,216804,217142,217207,217289,217316,217409,217427,217461,217546,217549,217575,217600,217649,217661,217764,217856,217947,218082,218097,218280,218297,218307,218444,218521,218570,218646,218679,218691,218824,218831,218841,218899,218926,219038,219074,219099,219115,219202,219237,219255,219272,219275,219398,219540,219648,219696,219713,219761,219848,219954,220038,220096,220135,220143,220149,220183,220372,220445,220458,220486,220498,220507,220558,220675,220741,220760,220806,220859,220863,220919,220966,220973,220992,221045,221124,221153,221172,221190,221197,221403,221688,221753,221794,221825,221877,221895,221945,222079,222527,222689,222724,222788,222952,222998,223011,223026,223028,223066,223119,223155,223156,223202,223235,223339,223397,223598,223662,223671,223683,223690,223774,223795,223822,223836,223908,224075,224273,224310,224392,224631,224661,224666,224675,224679,224807,224838,224930,225110,225181,225185,225399,225412,225477,225577,225610,225695,225742,225762,225771,226070,226242,226390,226440,226445,226518,226546,226705,226775,226777,226811,226844,227021,227092,227289,227339,227383,227411,227421,227610,227667,227680,227703,227834,227910,227960,227980,228083,228095,228172,228177,228248,228252,228492,228680,228725,228767,228788,228843,228927,228952,228959,228989,229009,229026,229089,229214,229295,229328,229356,229388,229557,229637,229823,229838,229861,229864,229967,229989,230056,230123,230212,230290,230382,230403,230474,230501,230562,230572,230649,230719,230835,230864,230936,230950,231080,231109,231375,231385,231653,232137,232173,232235,232308,232497,232499,232566,232571,232683,232787,232819,232836,232879,232889,233027,233076,233187,233514,233755,233772,233783,233833,233848,233894,233918,233930,233939,233995,233998,234040,234055,234199,234231,234466,234526,234695,234718,234792,234802,234916,235005,235085,235159,235331,235356,235389,235429,235501,235741,235752,235847,235946,236086,236091,236232,236268,236483,236529,236838,237079,237103,237158,237179,237309,237482,237501,237619,237674,237748,237757,237827,237933,237960,237977,238110,238117,238139,238277,238363,238461,238480,238504,238535,238629,238668,238754,238865,238980,239027,239032,239074,239139,239308,239409,239437,239460,239589,239626,239634,239647,239780,239814,239816,239913,239988,240081,240428,240490,240500,240531,240607,240615,240869,240913,240919,240975,241005,241281,241340,241521,241623,241636,241913,241983,242113,242156,242207,242465,242509,242696,242730,242777,242952,242995,243166,243222,243258,243446,243468,243529,243691,243762,243820,243969,244101,244114,244224,244389,244635,244642,244707,244873,244908,244911,245004,245100,245169,245342,245348,245566,245636,245736,245741,245752,245796,245805,245839,245877,245897,245922,245950,245960,245963,246009,246043,246055,246107,246182,246211,246270,246330,246360,246444,246470,246550,246560,246592,246788,246847,246858,246879,246897,246904,246943,246967,247094,247184,247215,247432,247453,247608,247753,247791,247847,247952,247955,248056,248104,248110,248112,248113,248169,248185,248288,248427,248428,248498,248567,248609,248829,248833,248840,248906,248940,248989,249023,249156,249214,249250,249287,249297,249365,249438,249446,249611,249888,249925,249973,250044,250126,250153,250163,250272,250327,250365,250420,250771,250780,250812,250862,250947,250981,251052,251155,251275,251311,251337,251371,251375,251380,251646,251662,251669,251673,251680,251840,251870,251872,251897,251960,252061,252086,252103,252111,252211,252214,252275,252610,252663,252719,252856,252900,252927,252973,253068,253092,253190,253259,253285,253311,253341,253541,253565,253624,253800,254039,254088,254149,254242,254517,254595,254639,254847,254888,254915,255153,255210,255331,255356,255478,255502,255811,255826,255891,255905,256027,256065,256255,256370,256408,256456,256458,256491,256501,256669,256862,257061,257076,257266,257268,257337,257347,257361,257375,257399,257415,257592,257684,257735,257763,257771,257839,257864,258100,258126,258185,258391,258465,258558,258590,258648,258664,258724,258727,258895,258936,258994,259005,259082,259213,259349,259433,259514,259681,259735,259833,259859,259990,260006,260247,260288,260291,260441,260489,260544,260552,260705,260785,261022,261053,261095,261100,261151,261159,261160,261274,261378,261508,261534,261628,261657,261669,261719,261734,261810,261906,261932,262032,262123,262155],[-3045.4164771722153,-111566.69551067596,316.49513738871127,1.361434595449139,-348708.87529393117,880368.63031858,29303.518498071753,-102487.98513123869,350.1870637087084,91.0953608501156,3134.4416004058753,-52.24478310337975,-3096.8121522212377,-2885.6407488627456,724868.6750423091,-95977.24412360883,559862.8233931183,390330.54943494627,407666.7837198509,-387341.8423571773,345535.43541044934,-533896.7976543523,-406359.03805216466,469600.97613225435,-440058.64965952147,-329850.34139706416,-1021385.5426147524,-85586.95355630603,-1167949.5583793828,164991.08144939208,760376.1962285677,84684.78120220725,473735.6594080164,-697633.5903154272,646265.3914384025,246815.53049808176,390542.643199921,-199180.39449785167,584765.7802989493,-188282.77877614993,1097778.8754861723,-111605.90896555854,-126871.47189285934,419846.5067878372,231374.7596222039,-327207.4689898056,-31306.877989736066,-695325.3795639906,65141.33505393542,5182.266698632383,202588.47313041257,137002.379505828,68185.09236162661,314436.0410222697,613928.6196163894,-162778.48282426177,-168163.16115432332,-132470.84690489798,-555281.6462842334,-223593.62566400907,-195444.8912938641,-613004.6424583511,-1559474.0049283782,-408457.6704774973,157825.57887847838,274814.2185818418,-446558.64107435517,-182377.48579307852,-737907.9626097605,104091.20633168973,165336.1259158702,254308.32843381318,-379634.7312203716,211883.06947324355,-74637.14595414228,-314802.07390743087,-784036.739135177,-674274.1705158023,1779413.6507212296,81472.3268494618,-257407.62460109784,-32627.511572188592,-359047.31109121535,790628.098875813,574652.1496085342,343876.52486275806,-280797.23938482156,-135891.65709819985,-57551.22174172662,115213.57232652401,212002.22174999147,-417422.6033147596,493762.067581972,-186475.33965472408,-68678.59106491892,-329850.34139706416,577701.1204028802,-81927.69528055891,-127558.90489449835,-876657.6236840028,-18866.375500219332,-661685.0428430658,181341.23408286375,93911.34442850231,-572037.399264053,215980.2783398276,-33419.94718600846,157932.94525963557,1376459.0643589764,252757.46833226515,154863.26093384548,278914.8711117404,17679.64503520117,-24853.303983991755,-164586.56602355963,-264254.8555610079,-1087406.343264759,777094.1676882611,-132683.5227726683,-153960.50501121872,-559495.134053491,-371517.01770505705,1356515.5146310746,129656.18854687564,522765.45878223155,453520.5592477514,82189.30374029482,-370370.5392182219,774278.6774016821,50918.28534779966,783433.1810057195,98318.755354758,-143745.12682836995,-138355.2680920486,-34442.4002395543,-55608.46634311885,329740.12941012863,436823.943615364,-373953.50430770125,-84509.95998167439,-412098.6986461766,-967725.8419764414,386095.9855002561,314517.33678404265,111363.92188587532,-575823.063874881,-1155395.3452214622,384819.76239506097,-64342.03095781036,-1060433.6101198199,325424.1018605577,980834.8398972794,-293521.83021486935,-232726.5294448053,834601.749505634,48502.169913416,-34625.73718215308,554255.7230084026,125736.24815137898,341051.7878766905,-55695.07117710895,-35112.68653548151,82370.60105394533,294001.27998526255,1518959.4143948688,-244296.7950143105,598641.9574223491,257866.20188088165,-367792.6561142327,-197753.92477333627,553182.9504094498,-217101.38338964744,289351.0585158541,426218.14202791,1161442.1349222157,-77289.97860013891,1091689.7178172618,172971.16066037584,-595756.123933506,-209901.00625147787,-906211.7681394035,262055.0428461963,-41876.904154811746,-102984.1440678182,507926.3599719706,-181168.44161100808,-380416.5174707821,1457686.1311266057,-110558.99610227843,456183.23116619117,718036.8139278244,-234286.4988056657,409554.00909945695,554611.4537993991,-33656.63915594261,57887.714355897166,-556856.609148675,912322.6870948478,-132586.16322676913,-80559.20563120364,-824203.6029042369,1384399.5864787132,396074.1373589646,-64882.74368212085,356953.56653141306,-99093.3987873857,-633220.503911842,-422089.3909589572,118876.33363932151,259860.3477959306,1006691.2348459731,401187.31539211527,-372366.53301683743,-1495928.0872848427,10340.644512214265,-435569.0197192691,59600.093140282224,-729657.5112295238,-252439.85999071522,456695.7280407791,443120.74975320644,-65917.74395566259,-913435.712221984,-1064941.6805924238,-243445.4142060435,-290783.09208564815,5855.438419001072,303142.00007222046,9750.76813140499,147666.73106783116,-123579.44238771104,796336.6281262693,166092.0900577354,255387.2402578446,-816658.3770064657,-560034.9670400692,-22079.771461426993,13326.618373657599,193534.22884593497,-800568.5172423123,-292397.79967642436,202426.73741009564,-53617.51605381525,-199009.94931830073,722858.8111638243,-117876.2799685973,-2574.4536608091985,-341278.8606401442,313950.6691218033,261305.01918223582,1107308.299899672,-251224.45229928306,-195828.2659511402,45088.63108445305,-1153370.5203858486,-950810.5631398147,-297119.6560030527,182740.51992007045,-459985.1953916749,-226065.57495636257,-712031.9620884968,-520740.3444895317,-125219.14681315958,-40689.611312443594,-221354.09686151144,-108716.67586258778,-314873.7741986368,376234.3427367297,-1910620.4312962564,421781.72750569816,883438.8792745577,-1589372.5680145272,-869486.1143135047,537547.7351688474,85918.26554127142,3907.556141964251,-205405.3227039976,52931.225880365884,-389651.1567861101,-398324.2273953156,302249.6922801979,-366897.87682761194,245666.6356064298,81910.68003396051,27363.85233595848,132291.7322414933,-27182.866365713686,-178179.0569405956,149043.52394060147,96161.76376063695,-78242.67419487705,-78242.67419487705,107563.2210259825,-298461.768594753,-1208184.5203356554,-608913.7499387168,367790.37984485016,1319542.957382284,581026.606306649,-1499100.7975027128,479174.5841887753,-704657.6784555905,224137.62766957172,-834942.604172259,-393805.4085617477,1845273.41044121,726926.3367584172,-103240.8011080814,-128236.39152288264,-178179.0569405956,754004.4758086317,71710.7480299749,-474893.7127705555,196372.68273490248,193038.5641117645,-265024.06625408353,378192.8161663054,297721.4458554028,357942.52236346714,289257.3575560292,193045.71127892367,146520.29895739295,-389176.978238975,578979.6508123325,-125656.38664335514,-632323.0214554401,404255.40261234675,866119.3570867464,34040.07406465153,-505629.91507020843,-258254.91950200126,44008.45916046505,771742.857076082,-26494.584746401557,-270840.4988918714,-4312.29735129579,203173.0719835174,-341588.96953528724,-371866.2002075647,-152346.57014961384,-49086.709952042234,22223.590686211755,-34494.777377352875,-15098.05541102289,-203404.45375327382,1020699.5491267889,850444.3284273855,291394.54352478776,-506952.6185537512,387076.60974750784,-327523.0002670579,-1238671.1687992944,1577584.4085144596,2068.123419449074,-203951.00511238613,-546674.217029131,-156658.1111526627,70788.67176398456,-100875.69819800819,-2464.7759167638087,261428.63813589196,24888.95779820911,30323.851772079186,-199009.94931830073,33459.83558279781,126469.17001976569,732301.0930252374,105345.81895968577,-1357826.8384088047,1536175.6383249476,176130.5866501145,317586.9749723695,77760.39179841279,-724746.745183736,714255.410905042,-399404.5743134229,189065.00911080732,-2342359.6385697937,-658338.3653154721,92632.88710257149,-810463.9384345404,811500.3915904652,-31951.401937606897,365006.1464430533,-153103.98514108776,-466447.5193896363,661972.9774543211,171165.8050328044,-588965.5809921802,86017.33875725904,-100566.18428907108,-661761.331538414,-1766787.9525034067,-83637.05136334953,-173850.26087644175,100617.37192579001,-711774.0830077617,-98020.52131592571,-83379.36146429347,-6782.007605549409,108752.67940523032,112176.42459482694,693980.3643716808,-82737.28874604322,-336237.9287861148,35797.32792029245,170728.0405659114,-2172252.397848911,869083.5872730208,190864.02900531114,-123875.35213078542,-126287.89869106951,668231.0152500899,339627.2634055139,-716959.847482655,-229062.41819552187,263285.8636234697,425592.238297905,605215.2103150466,-36826.90703991321,-19162.50384560098,-9312.537772575635,-635259.4921533647,-1744033.8102554705,567900.9505380917,-287808.2052855879,-161191.7790428077,955959.642930191,772440.1500456627,-595500.6933431518,850323.2056625868,436936.5631586335,698019.4882531987,164693.8973633249,158352.1451765728,-114333.41863973913,64254.636020376485,-165564.71892049396,-1149828.920687879,454184.3302235061,-289421.11796846887,118792.42695829304,731111.004276876,-90932.70556893328,1443265.8845596432,-13032.772468304353,-142905.76705344784,301223.3430154435,236920.59876280007,135505.6894512652,241471.4687443077,-654883.5197574827,95949.0587537816,118251.29194041327,-216104.08863612608,-443709.1310863807,56435.273080586376,-1265347.995067063,20726.11274767332,-539803.7229826652,-47696.105883085234,72947.20907561059,65253.76153822366,-231109.5692896243,244024.6320295513,200267.14388017813,-533864.3592629015,147227.32403415057,-415938.99192368984,43251.22630517773,-39776.44895136471,-78379.47833893367,-22837.390331552855,234012.81242770955,-688482.4668570807,-70741.2341420029,396721.66523773625,-18749.105927009165,-125519.32180515223,-303374.25194772944,-2079056.826614467,-6782.007605549409,100698.73238443206,212019.1399453087,-68839.22776922619,138960.5331088394,152546.79500390313,-859463.0153002393,-161564.4904524428,1026974.0918306117,319950.05054097145,-505142.1583974883,-41060.61405561293,9204.022421148518,-291031.66508967546,-59509.55759988125,702944.0572667588,-566020.527186058,157157.1067435125,318492.6960611864,-37188.424939312106,-196680.94340695662,-62155.192794889896,-460496.72886824247,-446812.9382726385,-493959.89558694314,85916.17280575847,-633722.3012519688,-345271.43132929085,-49666.81073053866,-69176.8212024959,-32381.562508543084,-66409.3850427485,-477343.58268517815,-349197.9289672114,805710.3732563336,171866.8987654272,-118917.37009185144,226186.43409503502,39065.1665169033,-1238364.9554745972,-1236659.1672253914,373485.64470935916,-81734.1273827026,82189.30374029482,391825.3223286137,440642.7574625573,-11624.589266849069,700406.0605034537,-698198.2454082253,1134195.8104481618,111161.7674137828,128331.34028113984,254347.8334020936,-1140023.5560296054,512093.68154368823,178606.74666678085,-5945.54120882118,-455694.7984741119,563740.6960680257,-52514.442173119285,-332183.29643376695,50490.99585407036,-58546.719275263706,-393575.7252002817,379881.05520657223,948423.3480102426,317435.2778448771,65879.94268084841,42184.150143254556,-497919.5407746212,157132.85538586395,-521223.1078118593,-1079701.4582012363,910989.9332174419,99680.30298264822,-698946.9098585389,234442.43067536948,169921.95371819992,-251456.95403816062,97447.69644985354,-69455.15057327194,113069.36829686946,-193381.7618590426,-318837.00632204843,568631.3717110412,-389176.978238975,283404.03553145245,-116.17928042869944,-482276.70231856476,33368.94140891288,-283654.2564265753,926240.2998068773,-742125.6596351716,-204708.93752534114,356419.26562812726,369359.5183929608,-50944.94443727924,371358.41839533194,58555.58179592905,-500474.78460781876,225719.20371492548,774030.8694232737,-11097.969161773117,133946.4546754986,-274360.1209145052,800384.4326544119,196850.8556692988,409713.07887000946,-401308.11695563525,172811.2129896268,-41939.63961598526,435857.5410327119,-330549.746906106,244024.6320295513,-91622.33271269883,-450981.53522706917,719911.169569552,-81884.82044761984,-23315.367777212283,392711.12424166786,425310.3984592349,-1345034.2006225553,-253048.31688454273,685543.5847422715,362732.5206193708,162063.54895395364,-112726.22918368685,-187186.65599609303,-787170.7791798511,-138802.64159092828,-486893.34000372567,182242.08166486007,1090711.6221045458,-783187.7652314194,-780338.4326960188,-360166.7087195751,71710.7480299749,-87270.11190189589,-471828.71194741083,-404376.1272129007,997095.9015924088,-98242.14943518826,-486949.8507102187,-90932.70556893328,93303.65538855961,-67388.05531972185,-419359.89374619426,-1953547.2546606518,-128983.12461035172,81299.83379616475,-98353.07141780866,331274.52357562596,79469.72762248614,-314010.30544548435,-165978.36005687292,-78689.99360113326,-140439.10271159583,-628464.8719824848,-296592.6719808543,-287808.2052855879,231692.00238346632,-398310.51967948966,19560.78540373813,-173909.37042693963,623713.1267846834,-138269.9960074108,165822.55423898925,-763948.9449397787,-651462.4482814552,-58544.89415584127,-216552.95073972005,402295.893846712,-10326.249943361181,-935432.0470875037,-417360.4918328316,-1019575.8205341727,166094.83727859549,-575752.8455319199,436768.3103885434,-22837.390331552855,-901962.9127111081,321614.37487044034,-149839.59520634616,-307611.0310016167,-350949.3416282256,-144169.88769587924,667598.7196328039,-382258.33344662027,-926099.9737120054,-782644.9746153137,-336627.6308294255,332232.06470237917,298811.2228895289,-197237.78901691016,301021.47648132296,1021006.849596115,-341285.52095447836,463719.215834675,-500962.55976996716,-30130.916283940656,535496.7752792571,65888.29730415501,164277.50480882695,-384719.8383283649,-567557.1831048469,-42355.7405211666,-21095.865403600656,-812066.6446245585,-36233.303938781355,195538.53220545084,1291463.156885986,135860.24907479488,-453124.25607426715,611444.0280366028,215593.98007627422,27616.23416842108,-588599.9746129304,-426000.30351688236,252462.14892361528,-2356119.2564455965,541141.4186820567,602651.2560499948,626001.0240914144,270023.6362743793,1492468.201315787,-708547.6410347542,-902821.5388806352,-25008.404601409686,582808.5279284915,-1509211.0058083804,-249948.81284728574,119364.77384477848,521709.0361076105,257192.08445932745,-1118910.0863940998,-272196.9504546135,640879.3893449852,508859.2283232794,1284224.2365642937,966101.8857737046,-60460.51075405743,17204.393222154675,-914365.7630572799,660417.4080035718,843650.1244188568,199718.47929292472,-173277.63826821788,39406.79424050909,-149650.0752886458,107864.61341182458,39800.97832684457,199967.42356686114,1176594.4825629736,-229137.60801134093,-395181.69621674117,-96029.15570020751,-883465.0328987433,-521857.5434951822,67539.22015612954,255664.547644495,243053.6716844604,451271.127866676,-3790.3334649238377,-242680.54158632839,292777.0119762243,-1051494.1792783875,255387.2402578446,276259.1106459646,-527234.5548001239,-342762.29225913883,189149.2906998722,-223801.88531698944,80923.65588172062,-502702.81805051415,-123232.24899921077,-271748.10433388624,665475.5462984638,-533156.9064169965,-339207.73670358205,-275084.6224681425,407543.804497544,92692.7666607179,752655.5454019172,-237203.35594400248,263285.8636234697,657383.3336276271,-23902.799280944826,422035.962450652,42102.02489235579,44366.34854219418,-31888.822059736787,-555770.1113242646,-240982.92245935014,309111.0123306244,-808591.9644342345,-519357.8977464154,79379.70041190648,141744.62841126262,-431569.7094294098,119927.21503432101,-661362.4405806541,222353.0698640399,623182.7359800506,543493.5186354435,39800.97832684457,207576.46871336058,291901.1137608483,-348303.0822479262,346639.74466885364,-87389.67984594748,-414842.36515939434,-223978.77427724312,40012.928321130195,-257771.69467356623,-140393.136946543,417296.96574812604,-8021.088082257951,-210422.31454103414,632044.5052435391,-541465.5713732714,4996.205531022716,746762.9895326941,786019.0116387676,-183310.21684420397,-913548.6233960264,-435419.83119893115,-84729.48805032436,326113.9145366561,-62380.90004000508,578830.2722960423,302875.4088159637,392528.794864775,-1036638.9148938042,-359516.53119395184,760245.7101185239,764998.110475149,-331929.64760948083,-198688.28218883215,1300483.6952508604,66488.22500044541,-203678.79745150375,448194.2698713153,22739.959280428327,-621330.9731930754,422773.81539433583,-303702.89077444107,268642.36848783836,-577912.246075841,-25461.598925074577,-38907.95776204814,459088.14487299207,-812134.5183393625,505464.01456319756,254555.6961977648,-547423.3970124408,-467153.527062062,-887236.8866896152,-259605.02007735218,-193417.94219293658,-411664.5130538136,327898.39344153594,343946.67230687314,246305.4759511329,85606.46070104139,-13020.19504439445,395616.36754033173,138277.56912938735,-726944.3011694883,596572.5347711482,-278560.2972574095,226280.21834325514,-187957.88167313355,262534.45817332575,-149321.95248602278,-134491.22465216886,751445.8320949187,309666.21926609945,1491486.314285753,-974705.9835043293,209755.05519314643,-473313.5035671542,-72916.20662303611,1206364.4599438189,-641073.1423149627,-482419.0155595825,1199230.754297392,339414.7620248946,608815.111497925,1000578.7791856669,92900.89305508984,-629815.973320456,-955466.6178528899,-244024.1474641953,93927.52049759768,-88991.04336271327,75061.47979821896,-226789.80100811983,411079.876882754,181640.17303987333,86221.44685941015,715152.0116217748,-205277.68882049725,-307108.15827810636,-244575.63007378636,1061058.380066405,484655.60560951947,-356797.7246957685,584429.1691955125,-11298.823958679577,583833.6660100151,-360763.04157221457,-91216.11823593237,237630.30726211643,220830.1166205682,691088.5890512611,152819.7761952556,-496951.6302876549,337968.9500249385,394695.2128016297,537480.5833645891,76274.5684688604,29811.752016790015,102044.09981215528,-353073.3011773849,-874886.1557730517,-31899.708781191574,177768.88061082477,50276.607115653664,-439659.29661188787,-1190321.4034901734,351184.76455460757,20726.11274767332,1047837.368607992,57895.377706293715,-367092.9512557756,-332623.7565601973,-1096469.7505423222,103569.11221099859,-298461.768594753,-152655.80000380919,-210684.0601810214,-1084701.6399495788,355090.6835371004,1104768.99789376,-1036093.956184529,-17025.342481361466,261213.05667334623,144863.25815106384,128779.75347888238,-1024291.0752565532,-143314.02215957528,737399.5323309235,-22081.410452435382,65253.76153822366,765016.4578234514,165822.55423898925,-336037.3169161938,-1298882.3739632352,188549.66864059606,1020243.2589636511,262126.0794733326,-449471.50137967296,219188.61183629584,75061.47979821896,7790.735342910081,133655.52403058656,-289995.8097246918,196761.0698010613,400078.6096436708,-200472.74624781203,-177785.3980154779,28592.726155365734,266762.4792547078,347644.93389322585,-350411.2824190009,323592.9241626724,226626.09450028423,1046956.6741837134,-68886.74454530152,-309287.21237532096,-659098.470385919,-81069.04891097428,233737.85091564173,320536.71758625424,257486.02280787495,847260.4091382741,106796.17877912648,68959.19474717807,-1095575.01120329,-534072.2772435098,841285.5927129647,-399950.2226354092,585703.9914276359,-196107.5319435792,14614.595747299729,-283569.220909275,270906.5921647392,910883.4316403242,1261791.8017206292,414844.4286848288,32834.800589446655,242914.67417239313,-195068.4316580608,480158.1749418447,-468165.99236835586,96028.54351295032,280902.9284293667,234408.21248584674,912258.833611285,151737.587600761,-30850.533289290543,-343700.24647369777,-256149.0985334781,326293.6959602294,93410.2225317073,-446018.56990854983,-250300.3304897249,417125.02021300973,-295414.05506977346,-292689.60721824167,192998.02055500497,216662.33093541418,545675.6934012492,1009005.3366430849,97883.83219098517,206476.59761793498,-89853.98418759895,-63108.786822625676,1054200.1833197179,-130569.8841325264,-9117.716196252544,-157779.827325864,-556628.0526761579,260701.74335905284,-1583370.8125317022,586782.4142103727,-299599.2164878507,-856306.7809984748,148570.95644269008,-342668.5536466125,204793.15654965615,-587601.2631558934,-183491.43816201403,545011.4915704131,-397013.43358252785,-462092.05624199193,-779943.5591158668,-402427.2421142919,-226898.90953452524,284725.12513057276,391954.525118944,404961.2735908592,118288.26631579248,1777389.9991887463,1484869.725105117,2146136.052401271,-193392.31165110823,-175241.33847842173,407543.804497544,-128318.98449446095,-2821.764026862496,-247721.24658608067,69253.3976034683,-72567.77073166493,330177.12087019393,-646291.6137808972,-69935.26439628859,864624.7854132293,-1256047.6317686073,104344.15611743009,-99279.41447446414,-279934.0674337808,46734.55552668581,-217924.78494426527,-37026.18559872477,-366897.87682761194,-381258.97320988803,245190.63609648444,1221393.2257207958,-327897.59728270606,-995552.0178011308,-316508.83243662334,698667.0501439632,197743.56877980498,-64094.14625757598,118085.92466222432,329751.90272215987,-143851.8362726836,857603.8583040256,975168.4822502801,74251.03156123252,100200.74443437299,583121.8314611827,-598150.8871732822,40863.52830106283,352052.1455606892,-1355581.5249361857,-78736.79628378902,-27929.157261848035,-203142.52694081943,-383746.50352856674,519540.58358696697,252462.14892361528,-436404.33301214455,506031.34903338086,-593874.9842634106,-190875.5662814308,-1301519.545295091,-120081.20821159429,572696.9354688034,1087280.591275023,-598451.9711500738,-392803.0253188146,10594.65260755637,-383.67556028963816,-2807938.2828204352,540772.6389510543,55028.03209963975,96636.76874195947,-30703.35567073476,54276.801995954,311864.4741788791,1379710.9274490266,1499750.68360114,-207591.54162863726,926457.4094653036,-281197.8662327539,-23092.14807165584,106599.01453412733,-1100390.2296797426,-172572.68780067744,-47374.59139846145,-304134.3681193037,-155705.00665503548,197410.3270331124,-201756.01845831456,340417.12952676,585160.5665334727,149910.6078138276,1353596.9883016231,141859.30329990052,466535.89040549553,-58658.104615407894,615991.199532549,-409757.09707460064,360187.36737424403,342248.1844758162,365752.64449933666,-34510.77912758585,39499.6948259361,-68075.20713389645,-54149.69146891997,447313.5513417228,157646.37669080292,50276.607115653664,-307108.15827810636,-106907.6910914525,30240.179424477938,-38538.669006475844,-320308.291061839,-657918.602693668,44501.830350260505,-45364.48944197171,-13717.808329504105,-285875.5787068456,302148.8249285844,-540094.994008419,324.1601072563668,96958.31688330833,-837658.2961998318,-404494.76209258207,328067.8018369849,462571.56239027844,941366.8324106782,-132447.49677571436,-42340.264327425466,492211.9145051367,238580.34635160258,1367091.021320672,-440996.3430114149,-211250.0833321799,382924.7692180417,420813.2131276769,97883.83219098517,40187.81222075624,-205141.39798948413,1339935.6006283332,-97110.91712821137,320058.49622835877,-63631.71022256058,42884.22166884562,-593825.8443979867,-83092.20743343043,-232540.22315308722,649847.1604121046,376762.738919936,-320095.14311813214,-5488.933555773237,-35060.01089981832,-18220.816318624456,88477.6076961019,-477534.8328331708,189458.34372814183,368642.2634068958,-106911.92897073754,172811.2129896268,661738.1806776297,-425268.0421402619,-347308.5925391503,-396532.8135805737,107562.53149207396,-150241.02799798545,36.03096928816906,155110.80598230733,-1589652.4669058414,1089341.5835939902,-261234.48356619294,658113.1846272119,-34480.64802903094,257002.31473207742,-17110.999216720396,732514.5453243076,318449.36650261004,281006.8392637674,-72861.12741480654,9422.552978648771,278585.2628278881,-1378922.584690189,-714827.6548732906,-240578.97411960457,-175380.71320426118,-834185.0119059728,378880.8938547277,263787.2266407516,-371517.01770505705,988215.0360699473,-1844881.7416253292,30831.38597440102,-43785.1523854769,-169664.70293400338,-74475.25093124255,328273.2608988957,-80222.25846511661,-521223.1078118593,-163567.3390683619,104487.54162484307,88077.64543657609,197288.23598190924,-1339807.0208034187,130296.64198409357,-13994.842414800773,334367.1385466535,-1262616.0689725887,175184.0605116436,-1183470.8789828487,-89599.42963231656,283423.71382261714,854864.1280729567,-1098781.4412214193,-538241.5683194454,501466.2808991587,-166631.2028001342,360830.4892221411,202111.53131237798,-463112.18826254195,53798.50490429092,-142880.35317254992,133399.38180665605,-199200.51577822198,-1207545.1243019046,375998.1894266447,9750.76813140499,-195170.7033296249,339427.30575380044,-704647.1548009571,-867767.7489301815,-124056.17880075226,422795.2141065665,-49090.04776946377,1590588.017753204,-284473.28895593307,243350.77826823894,20603.082002217106,789109.3341932677,-699198.6687880913,-242680.54158632839,1123864.7385967914,-608073.6708468093,-263027.9887838907,23867.74056097393,-45454.42579676744,96117.34878883847,489466.7576410627,291488.5671525336,155618.53698594985,103460.72724681869,-549764.2474433872,-11136.011311504464,261213.05667334623,-1772562.904317293,-415773.13629631605,-122944.42080301233,207196.39311688519,-385186.1880545825,882632.724743435,211031.56567230416,899900.9917348819,125221.99323494326,1579463.308763526,547035.4100202644,-182983.5827551166,-84272.7801456295,-167452.8873063577,-510614.3072381083,1541891.5722403645,862273.2803471743,339050.6058512991,-726606.2191805985,877144.1611398199,-241157.7543538137,-355751.63485567254,-337348.48572161765,-448217.28726589354,-274601.6018708589,-274071.4499169753,279143.35005723225,932752.8964167148,-74475.25093124255,-458138.97842029785,-318362.9100616981,-637086.9182170494,186569.22798836787,1044261.6622310154,-392377.8017558572,-735837.42900405,-414455.34228859143,1019266.6154471816,27533.393060847262,-161848.032799342,-1029372.3625207879,258749.2462112495,-712930.74667998,196131.37468342876,525588.6578618559,200906.57885987655,-7948.341229566958,-501785.81403915497,-780173.4664797622,-142976.92108098182,205478.96445547315,-441034.5302996891,414171.97198681196,267398.5027290754,752841.5582753288,632699.4851710186,131554.2187152873,110488.07987353853,-865362.3012554687,81584.63087150516,-24862.28912202076,84524.57462311863,-92862.22479074396,-395965.3720084737,-522053.22105391236,390603.30766500504,-289995.8097246918,-513389.4890869632,598946.5705170991,-615729.9542380065,776262.7727276601,-380393.4219469979,-137048.6518933147,383005.53208893276,913944.4257524174,-49946.12779132715,-111786.00115728569,-428002.41836450016,176668.37463190503,747251.9746616294,118792.42695829304,718480.99327154,-319510.5936210003,-779841.5007600897,11963.928292373077,-117876.2799685973,-1336289.6756748557,-88521.5984776437,-231565.14906729865,-168888.89441041104,163004.5995094786,330749.33325080626,-730388.4963224678,-509210.4153339167,295091.70420979947,580769.734308225,301488.4736373198,55658.916622490535,-397479.5772619166,239518.97144570766,72412.61982441448,705631.6880352972,-1050041.925129973,-58658.104615407894,203400.47821186436,-435930.36175986496,923614.7153145125,-365357.07712474215,1029106.7518587302,984412.8901535476,-69313.99519123072,153004.73907921932,187175.29858281772,504854.5518991122,168155.77899130518,33500.1044814111,1251446.1600810105,-111121.03063912387,102044.09981215528,-584446.1487460665,-12121.892577080522,-978788.030494508,507553.33759668254,96028.54351295032,5378.157547595171,-2233127.718893959,603030.1336416921,1121023.3969905016,279673.61451779254,-11451.726004930031,261019.6768898611,-3554.0045084843,-148445.62263168645,2398.9544961951524,-375104.3661403216,-163484.08295539115,129656.18854687564,75965.9339562665,-98020.52131592571,1043305.4268387607,590403.8001201773,-243471.94407061045,161361.65113378642,88918.57986274034,-592506.9616945082,-108838.457180162,689724.2228633479,331844.7574592694,-306988.49232425465,160115.15002643774,205959.77011387216,322565.60831502354,545481.2587650757,-698840.2604464614,517385.6729283211,-692922.029298734,-554655.0491588067,112080.38980725466,-131298.41352723358,-133238.16685896265,760941.0813620591,14268.77499604007,-4801.0926556978675,552296.8572591082,-83236.00521715192,-295560.0683874489,-64094.14625757598,-146548.8029022465,-63877.262453846946,-336724.1036025296,12285.703622557889,-349979.69149580423,702982.059638296,233180.38104519475,-80222.25846511661,-477534.44714232505,464803.75360255886,664466.9847675479,-37026.18559872477,-490467.57970143674,41765.72507754719,-31861.32307734367,-161660.82394215488,-440922.2703774388,-450250.2122474423,-395188.7804861114,453224.0529981255,598981.3276671452,-32946.49131854792,-1097799.2493868952,41856.09988395116,983878.0344781495,-138951.1768376247,243920.10832028516,-44738.10152392495,-415938.99192368984,18271.252998504016,-411353.75198580435,-1142658.189584769,1055737.0926528606,-90724.39723211329,-39064.51073327103,-1675072.8349482955,313533.01832075365,810927.2515646988,-275593.69620255614,-184280.45793653562,-10946.61629555715,400341.19984794786,490595.1144039597,88758.21503740529,459387.9770341409,-339416.74069949257,-550300.8608876453,74463.33373004774,1011646.4396667159,716289.4762866483,380099.4163375145,-1668486.8932876703,-247995.45380887913,-319670.42897221143,320239.1726066284,-161660.82394215488,484588.1055349541,6558.2612171924275,-146621.28125095976,-347821.1424592733,-866841.2700624039,-434238.0850307917,114997.58535761278,62178.17732632835,-143398.86100180016,-187155.5532078024,-351208.0979282807,-432747.6804504389,-243946.32280622728,1057387.542328055,113258.78407239274,-591346.1596085117,167006.05604323605,323542.60819831165,-92804.73743871199,2616852.0063177347,939706.3097697981,76155.95503265534,10462.240219687423,341051.7878766905,-209931.00856578597,43322.908210433554,161098.35106347545,221298.2365585468,54276.801995954,258938.415521041,-10650.415038569952,179966.89580627138,1119879.3487571408,-338110.46451942855,-633722.3012519688,-32540.365345437887,-35531.355403194364,-542570.378270465,-216707.31373627603,-358178.80812780745,-1829754.1884948479,-1202759.3679499514,-74103.17096802485,93609.4033227986,-1033137.8704891892,-66409.3850427485,-491111.7063033125,-88260.08914666374,339456.22760582005,-1427827.4820390956,-427772.8229059576,1128385.3726956106,136233.73472129364,417360.76666908077,632284.3859958244,191384.93761367595,-147325.23427369638,912921.7688428543,184691.46271158982,193038.5641117645,-326393.6016275768,-537199.6780732564,-63877.262453846946,-598822.8325593665,274080.83070918126,-445203.9031558909,247112.0279622337,229160.80000211555,106826.30388995272,-458117.10197127156,-183753.24440231523,115387.50111313106,-231831.9563082811,-449201.4044835192,1346330.4997247888,1369462.8433779173,839221.1845011142,-406261.5303462849,341157.44302319526,-281735.05141080415,263375.7866206484,718757.1011308634,-349403.10045310797,-347821.1424592733,330632.9811833129,38492.73228247146,-518108.1939336453,320239.1726066284,-102935.05745815598,29848.87996300041,-753196.0923605096,-84675.60150786414,-72579.99809537796,-844671.8413799973,-240982.92245935014,-235404.33293565369,-1021952.534337737,406224.0597865423,265558.5386537843,666766.1553421329,102586.02939608124,113599.90620967021,-200472.74624781203,88915.88399856891,821738.1617047366,53745.13281398401,-39171.642431294196,746770.3679989101,-790618.6008038973,-160376.371186894,-911690.2089959269,-91422.52713545828,20026.17459948032,-363727.78789768956,-310066.38349223,494404.49215506314,-318772.3453002478,-157750.07407698449,-36203.726540421354,-501227.3471253866,-289810.91134379175,-932744.5194409882,-82667.17672897637,-35772.5247090792,44833.09444954848,48576.409086727304,-221251.0610235221,14053.650102104524,-187562.7225775103,575626.4407865207,929432.5303530041,-11298.823958679577,-164890.60393558556,-305916.68696064956,-342232.854249497,-25824.04163695495,188385.02267500068,220500.24013464653,-143635.7216571601,-162628.6541162916,-226902.4617650424,-2511020.8315722607,-437179.0956480958,-389661.78207796614,-79671.55882774484,234641.32341730624,-1103272.1923545012,150915.40030966498,701725.4858595926,248988.40413580992,-908061.7620038303,59296.839212946375,103416.70008749871,435777.30064264487,826028.2368048596,-393550.1368588089,249419.62365412374,-168701.7671284031,-28406.222165252064,134053.4696701402,-1433524.8157675543,101643.05392778083,-507711.9404367682,317896.71572278877,900067.7448134274,-49692.58106131556,234641.32341730624,1165253.7726964876,-234881.0929305569,-169082.6502484837,-489197.49075045786,1026689.9546187229,802591.5611028228,-1031128.7499040536,151449.77541973838,-1375744.8502316028,-121031.04790708714,-183858.66150387411,487033.0919375935,756504.7673584138,-4192.732647456533,-149556.30443980807,-90753.98222987913,-292441.3355281004,576412.2716572648,-491470.18126839213,-917.9745538993858,-244205.59732556695,864936.3032495916,-10537.669561510744,-719488.37305551,30261.96381388064,358489.08064818033,-479511.38238715363,-20518.579442613438,152189.3378030762,-14882.42226634475,412787.1473109612,907761.2811547642,832881.6884664819,-329627.5488742307,101732.8650034915,100875.65876633608,-1073482.120421175,531552.6668296421,-132517.91481095203,-170509.4011999566,187393.8482947018,-462239.7141989706,252559.1331443301,-93653.91061946556,-796306.47491093,218038.52556449274,-2225441.883405981,-73277.2777115736,114997.58535761278,-446754.1285387084,-1142682.314134995,-501541.6915481642,-20670.94749750195,-96330.32086823977,275579.71983946447,75965.9339562665,-135960.65797433158,55876.59797995073,412950.2636707638,-858879.4338870522,70080.96066952302,308840.22678828577,-249948.81284728574,622232.0462859276,107957.26948678558,124487.9119793014,-10775.848082108409,515652.04320218076,55266.41531011628,-1236307.7649936948,363434.12337182113,286167.131984117,134449.9102937502,-136355.32653533202,-157129.09524338186,-1381785.4654795153,-175010.93106160228,347287.756236126,-202937.94211746193,-260498.53100766698,-175180.28320043156,-54657.96568223098,769420.4058875602,54124.97357960292,105787.28869776736,-979624.6545293935,141917.99465239,520858.4787524626,-156790.90739766942,285908.33451730636,-264229.48216758255,326442.5788648574,435749.446571231,-505668.7733133476,-19480.15707999276,596178.7105661944,1047002.0815467758,-301430.7199087042,-527978.7667495698,-555707.4788134301,365015.8508565914,857725.1538199844,104469.55019078784,13246.48442918763,-14353.348211582914,314436.0410222697,-237500.46774591703,-468837.860985208,-84888.53239515948,-371728.2286492724,210097.62132397472,83450.4069448023,341041.31655040185,-789715.4156001415,-71786.49692454784,278914.8711117404,-86484.41701663026,10409.689953742949,-386611.2452587779,213583.90668181167,530715.6714624688,-52531.27997495695,-82348.16925833868,-274512.7278197487,-369428.09403004247,336221.3065188317,1314846.5888880556,-50157.21172094232,530509.6286554887,-152716.82148900488,99723.5783156054,387054.46702993027,161361.65113378642,-312992.25439580134,-274308.06000408024,-120336.10795692119,-247353.52174462707,-405963.9268231302,-185692.4496495136,-313839.94910354214,-257779.63198382294,172629.2565774602,-102507.10451627523,147599.97331659961,-281189.7269635446,265655.23902701086,33313.2673003909,55197.67143408941,-329894.92356927384,303701.7453839017,354010.65104816534,-424016.14822990063,-1065930.4856523403,963001.4668282033,301707.5927645753,190154.97714703347,114548.27170420029,-831916.5761395604,-1065891.5018458203,-49743.951565350224,131585.46968946914,-1520617.1524350347,232407.67937698425,-51653.17590782466,40254.15555669973,81532.00958545473,320972.10673761385,327002.2422944068,495984.7348263477,290160.4910936842,28783.74983997656,-17110.999216720396,-211548.08208787133,-60456.81627487847,808837.0067696052,-897483.8698664042,-1290520.517328281,-376516.0467970661,-540807.9559981177,-251363.93227906473,257601.8208143794,179141.67886667998,-204554.3107012355,134896.34323342462,-72931.81240566557,481213.318037706,-14882.42226634475,-171453.7545630193,214286.26694062803,-113796.99148132386,-64008.62838096114,96060.61128920899,-420908.305357783,-103782.69004672686,190864.02900531114,672095.9110668984,366290.45895450556,86626.7167049511,-477417.1594439788,589495.5657228957,-155553.57175747806,-517937.4133270752,239824.08409564296,-66925.51509656264,342436.52819636476,481158.153557804,463832.45612489694,-362452.87585864036,133018.73375167107,-90932.70556893328,-464061.5759578774,92697.59324666583,178986.730873447,-257571.10512000165,-199494.22259780657,110697.7314749449,189286.36962130744,-449972.48873747466,127504.7471830524,160989.96301925596,-113607.17556466215,-155056.27914712174,114880.59324519403,-163130.83331898064,-274308.06000408024,129656.18854687564,595138.1972942606,324345.26764688164,-57539.39977616201,377968.27452748595,-458157.3727326851,750460.1364380697,-351331.1058502084,94511.16378755246,177754.31288993428,-760604.4590368759,46538.70975425485,-341441.29061661154,81299.83379616475,33434.92200937348,-231109.5692896243,170293.6195782769,-828176.4957696453,385473.4343793262,-308647.72236991563,-82499.15764239074,236029.98021474012,-1167240.8132668957,193816.87337464988,738706.0848351078,913886.1353920538,339627.2634055139,606513.7983506232,-192595.90751582195,337160.8952284535,798879.4147507882,357167.26166472415,65149.52914486173,106796.17877912648,-270482.0475436798,89689.25967359326,96958.31688330833,62421.77468375385,200212.08498646456,468519.8087182921,664113.622156074,50790.61480406935,-307237.22753015126,157851.8804671535,-588162.857233534,361611.0462906003,-70726.77123429072,7552.939308449623,277367.709491739,-201945.99758220778,581198.1432618147,-463701.3389076576,-99807.24182392999,442401.5188596745,109341.14287260054,229160.80000211555,-477972.4848434601,-502592.2138820069,803399.0716753829,52746.218815572814,-376322.7123255672,-66405.73368588333,1728.3386890202648,169838.63172016584,263558.0347647984,878948.2836727562,-471175.12481315795,-1294569.178528111,10101.96985869501,-588868.9262045228,338263.4115675307,218071.60746994783,14678.364342519404,-423906.8001052104,-849898.9047236982,388195.8916532898,-347663.700009237,204438.27418038883,623251.4750033774,-1238263.9604289564,457803.9235464937,-634102.8574293288,85819.37032691324,-606247.5228471771,-65153.426514209066,-943956.6213236074,257601.8208143794,-272801.93422142917,-827776.4603443603,-216924.73085125073,-377315.06486823485,-386179.6124840121,32517.58037901517,309501.6032275733,-98405.7297905021,420357.39052394044,-832411.0602130004,-743884.9118507752,-802746.9522991292,-342776.2511518182,-83770.6699840912,1316946.7975311324,158373.0629208937,-384670.6282485922,-682065.2319671711,-431416.39401498775,-383218.3509117056,-73470.37043227734,-292397.79967642436,-558156.7719348404,145372.23502979302,-303723.39634146093,840219.072697301,99283.74329212724,-10648.832254231811,341533.63009522436,238297.67782964458,-905676.7478829027,-109282.47074793761,-200033.05471254443,-783510.5562047207,294095.92777715914,-86611.08872242185,41117.43231520737,-270262.852035466,370523.43475585105,128705.30242474427,-211122.86925038463,754993.7225109971,-117084.16830628672,73542.61940997595,-60088.12653597068,-17358.276155549658,-15262.514673664338,3437.470917285463,-35299.929896766436,200616.46176670745,-71605.63690305127,-1049303.2674691943,253256.9865606309,-1441545.0487182601,799455.0291784909,140308.92981385867,193612.9244966552,1789978.0538393394,-203711.89644287285,609806.5938657096,929488.5052203587,321182.0421938361,7677.264295511956,-130510.4189104338,10343.079554030463,-15480.816499550663,723701.0368357454,501102.5857734781,-212262.48891830072,-287012.2166301033,30962.046660344364,-123667.28257666768,-339882.987880037,-571980.8757700733,270673.21533333533,-96246.96112224407,134399.5447184873,-172667.9102690461,49823.06656172539,497069.28497472755,652929.1908215147,-114650.17438505175,372992.33579635766,123573.5595057225,-438482.9873221929,-483002.78061979,133532.8129617197,-69367.12256855132,-52514.442173119285,106826.30388995272,425761.8234036716,-776904.9708295887,203602.23500340478,1273775.0469459218,-344465.18184573547,-305628.69966152194,430598.1048168837,593881.9023689447,-454961.81448297045,265507.0798587665,-6918.802492754424,-136122.9646495228,-121788.83194540166,1233841.2549609435,-463639.25023474114,-56321.16784967549,-64008.62838096114,-350411.2824190009,-251959.34522924107,-703770.0284604392,163259.73772004817,-749243.0494432517,-493173.180398766,-1151174.4610150189,-592357.9293599178,191601.49738572034,125776.3763891008,-68180.72154863452,-93403.31333458626,-112744.58361324423,-1326352.3734712682,75518.78074314857,-86254.04499472001,73887.1196238123,-6169.67405801172,132417.61195217792,149043.52394060147,-912510.8931681518,1006665.0403510497,338124.56295102666,59083.86137649045,-510325.5159919407,112070.43114544926,-242945.27296943602,770535.262891249,7552.939308449623,629347.2865788756,-362787.6513642217,307063.3721755052,160989.96301925596,157489.24628808594,61616.66041795,7412.366991118237,-646586.1917781412,36468.79051089313,109617.09625370974,274186.94605150336,675231.5856915325,-387271.17040994816,-471228.03360774374,39065.1665169033,40968.21168744719,505356.9265063424,-480592.36606288754,650360.4211630258,158373.0629208937,1086672.017374632,-658415.0657662362,-264095.17642505263,-40175.36704664481,-476465.7217049962,-700430.9664948715,1186912.1403464703,-161951.0475519332,224948.51645586296,31534.42613595911,93410.2225317073,-155705.00665503548,647794.2014351871,413324.1436364229,-1083944.9287049077,-82499.15764239074,831490.8872876436,154744.2762042394,-402927.2830076413,-67183.42311106535,-359840.4856259928,-489917.5926234001,-247445.75326675412,966655.8212279555,-18079.37775357558,-156274.42540807568,88175.54998807855,554250.8831623109,53707.685688498874,506360.5722886137,13651.544436458325,-88796.3077896837,-250602.14613195596,-154596.26978584882,-985408.4269967203,175184.0605116436,1259309.1873189483,-446888.7068239914,-121791.22969074732,-114190.65737223299,16985.132823772674,1902.5436988816143,-294506.8067597734,62812.164745222966,-135891.65709819985,820723.1510481784,-619828.1100357578,997553.6292217134,-89704.43257134169,-85775.05444086228,-81255.37514614938,-64251.50076843525,-86908.11511290404,381162.4556665404,629804.4137414144,-704294.9102288161,-596582.0892492196,-1009538.7994399456,-806956.0402381578,601091.5570542043,384719.10264415084,388724.9455239678,-77135.97541259433,14268.77499604007,49556.63706159731,-44702.32792720886,213216.18335277407,-208232.7343717425,-75539.52469624225,259287.09301782172,-52140.34220024123,492174.1250289877,1252577.277491798,2040019.13751532,137391.72917899757,-349740.4224020635,411174.6791555183,-439100.6408147383,22580.74753119395,-83564.1226797379,768777.121378256,-1173815.9751677483,238473.85018246734,509888.0635973643,813055.8100798257,104677.32768034673,579236.1682442287,-57842.230211143564,-1237732.2795045304,-224027.50796003078,783522.9288481252,-426278.67995462,507457.93203921436,45762.90434915462,-768229.0405465375,-152346.57014961384,307078.22753659403,42102.02489235579,1902.5436988816143,-89395.05878066133,-228452.07025511007,749546.6239472851,-417597.8710151867,-538241.5683194454,-380804.22645466257,1355413.446370615,19207.89161679705,170004.05730855046,578120.8868235198,-220701.25107270436,-15098.05541102289,-858347.3425139904,-1053332.873518121,18111.59400036686,-2464.7759167638087,-283766.3202838772,-225771.1636083846,-913506.5670551434,-182983.5827551166,178664.3797885081,-143959.61376726744,-151568.71869827833,-1371209.2228907426,-134257.14266668216,209243.45363069515,-767278.5478948723,-520516.1949661641,-195145.76981136372,427686.0008286025,-944571.1300562641,416217.3899227099,572338.0826311677,419595.0926344863,187318.90522321747,361132.6367816253,725657.6011854461,-237500.46774591703,232139.6169973523,-699270.9540029615,174558.41308164105,11394935.008835182,743054.085067322,462863.730834309,-46912.72192350934,-144573.20336099577,1283913.0777219182,-89219.79120869952,-50218.53121804506,31315.119565755733,1407105.3096795,230113.03567403846,216735.1885992525,347535.8205848369,519162.9091409709,7412.366991118237,-747390.1578942207,-329894.92356927384,-35772.5247090792,-435576.6421236248,279871.8180574741,-57909.83240166688,80636.5549671775,-1145497.3640962862,110632.65185814783,2398.9544961951524,587100.8135974535,877025.1291897857,512159.49324557954,-829420.2674733534,869950.2691163355,-501281.44200295827,-279934.0674337808,-727525.331337118,478538.4063331649,349898.09321490076,1038180.1874351307,-837644.396592955,81584.63087150516,171955.2004221481,768879.2443403606,-331709.5207478057,1011165.6364477449,-841863.2215320581,1381324.1273965295,131067.53845480269,-204832.3267810352,-66337.11746241039,889794.5590291915,161394.735522962,562911.0101827746,340026.3120295526,-697587.4867893474,-47969.64362847134,115228.99721295034,-142684.80367720057,-631105.8220819684,-221753.3270857547,368253.6941291071,964179.9341863915,248367.6039217434,209656.96195083114,-1959.6691943450678,-479819.5350048816,-91312.31343996845,-668359.9035547666,441963.55838952743,122438.07285047388,20026.17459948032,937794.4300291629,73979.48640162127,850214.1284363861,896020.1780000625,853104.4812077713,-257877.97439835823,1024564.962241953,1125647.7548944633,178270.10494889264,69253.3976034683,3215.3830345583797,106826.30388995272,-91139.04597945204,169921.95371819992,715685.5300299833,-573909.1956638014,-1456866.0725113037,41316.34888012622,-631922.2577109382,-80742.71216735612,367239.11262397945,-266252.77384635765,9422.552978648771,-108005.12197629352,529413.5383230025,166748.54678573948,264914.9847648524,-84888.53239515948,832392.8964306925,84684.78120220725,1109111.5418062594,-293606.6411988991,164991.08144939208,-618082.8965034145,-1241672.83379374,324994.2321802948,-53034.98801338361,189286.36962130744,143092.97275939546,-1047069.4986924981,-647312.4999855973,-137568.88617148876,-80966.50556233554,289993.4381181651,362236.6481532551,243350.77826823894,-81407.21616572393,423722.44419156504,123774.6724404696,-254324.48410422236,432153.517490466,618592.9911075563,-131319.42751740632,82270.16866281576,76863.80714012921,69037.95345401425,-332955.71490138007,-870137.2385549386,-220168.55981073942,1000137.7692475723,-38687.19724793797,-311498.9998787965,-230387.36337896046,1093215.3529932129,330988.00436887844,-3183.9179054614538,-208224.61561977124,-332955.71490138007,-91698.23450152435,-30690.94587247688,-334972.77554319287,-443956.6999530833,489985.8535513152,4476.862713136278,-144023.54146319168,-72459.25821380384,150525.0139505003,10359.772417820826,-2239.3400277213036,1259639.3509817359,173751.9606019764,245889.4421511638,-86561.31914198372,-49946.12779132715,78907.03079750053,1118289.7317896564,-491579.6700516073,-58544.89415584127,-44737.587548089155,808507.7391904184,1165531.213001584,-1030952.9094610126,433193.339673666,-7617.643548753594,-82002.5677046508,26176.15445144798,239263.20334727812,14889.369119087765,-495523.91500987695,282530.0894352358,883729.6476309865,-98584.7762882065,-14388.433038732652,788401.2156741142,379123.0783036263,-588246.1298995309,-276218.87923531793,-1408209.5773008815,-114253.85210602495,87146.21573457611,749615.4212087808,16898.644788578495,207468.59398792218,-1415093.3394599834,-995643.0281523532,773826.8146979503,-164586.56602355963,-449166.5216159628,1487322.463496513,-173277.63826821788,-823708.0256479665,12951.09001361249,3978.387722167451,-2343516.780312826,204898.00366867878,-1347303.7136514508,392627.13514928875,256783.69244412414,693788.0796592138,753398.8541653504,62178.17732632835,-256101.20487035168,1305855.5453245428,-871782.4161787982,-497173.0857705942,-1030273.5716153238,-952025.2154082134,164693.8973633249,131067.53845480269,488221.6601936661,-118334.67803209973,264733.1067170827,10343.079554030463,-174212.73214474964,-637435.1886121971,206325.72343352262,228640.88288183082,-681057.2119856959,7463.368114877251,-949222.2272401301,-455586.1218500876,-1375657.6501182618,358738.70929763734,107562.53149207396,19253.880871294365,302170.9755718211,951274.1798830819,-949384.1561766394,-81984.07172210504,24754.490383352386,-485895.3207922034,-784562.3606046656,-867832.7338504947,372448.05198548874,545386.7363027685,-565478.348739831,-305240.1354738129,1122002.3099023758,147227.32403415057,-127352.39673687388,-488165.4937887834,418627.91476753156,-1073813.1954314208,-313188.11443514336,473816.15221972414,181465.7125060541,835601.3283222899,332053.51879965776,-171446.62805060289,955190.8472352695,504236.60519739194,97886.95585499411,-34456.02744591871,953571.4523924208,140976.29419078882,327193.83018465043,301021.47648132296,138603.99406812532,197304.0849012854,243171.09846079405,-128005.92832955129,232105.42560962585,1330012.9067548316,133032.08972025185,136167.50983627312,82245.5775742725,-281331.8500586099,-89395.05878066133,-980580.1123488721,-116004.72208459792,-1144316.0123996418,207731.68367852157,-1000247.0706733598,-202060.67766753654,-99856.6271001326,50020.62271345515,-223251.86693902034,-1536646.8365323087,35479.79589741534,-536971.4586260684,-283618.2576585286,-247146.20925695103,98434.20847208111,-249688.97173321742,-91422.52713545828,218368.01538485562,581738.9759402125,-171485.43252520016,-103866.95637270586,-222609.37892953085,878336.2566144059,-106686.07314657538,792348.5531736492,560211.4498391191,-1209414.6077993058,-502516.68261173315,606916.306486024,52492.54501057994,344076.05939339846,-1639160.916904405,-209982.5342876776,118752.59113088598,-612776.7297733184,-103789.5811582589,147214.83277958177,-189758.14065256075,-187144.35170346274,-58867.376153889585,-148819.8511575132,267268.9304721266,170434.49093828327,-520760.25553729036,-435448.8290276404,-991086.2972676165,690748.2094643748,-73557.00560204059,-79460.77605167651,-900501.3865980612,270048.59970569547,60378.305430473025,149599.4398905125,-544978.3612925272,169325.115528638,-454472.3000758125,275359.6787268403,421022.15828396665,19560.78540373813,-171446.62805060289,-220701.25107270436,638698.2457159135,-40222.2310810539,-1027079.5475421897,916940.3094809155,-532020.3242174855,29141.422167077533,-230970.20097235127,-2193142.3706232146,102613.70436895697,-465780.12602022395,-692448.2606482828,264001.95862965914,1137499.1200211488,164007.19044793356,120691.40349457008,384700.0518864883,893203.8074146608,457895.98206279514,-147875.06487208107,-418373.0646164669,919260.128277963,-234521.32913897256,304468.43730689824,-617158.0906105001,-189758.14065256075,-431422.019453983,-62771.63292863689,-1175491.7129447549,-704723.5447753643,58555.58179592905,155547.67178746752,101936.64561323477,-218965.22506316923,-389696.9834865306,365752.64449933666,132597.05875426967,14347.76820659214,119787.88374498152,24888.95779820911,-163675.80358710748,-209327.18785357237,-453520.02153150487,192588.3128776917,-145752.18316242073,-179137.93965430043,1187875.128153343,98758.68605576018,-123006.26606142096,1159312.8020076237,1385876.255552182,519273.0122193931,-211552.26074572865,230928.40831053478,234661.3770653082,-572486.0699892023,-455398.9424671319,-835883.5499789123,73029.31225808703,-195701.0989814988,-405780.1002462195,17679.64503520117,182740.51992007045,-244270.16639015268,40883.72044911511,57056.8306785887,-103437.0537494061,-72164.43752837906,154744.2762042394,6336.162295019296,248367.6039217434,-193607.6510482982,547895.4492642892,375652.24798608146,141745.83604412552,-183979.6420872331,-116082.1340063257,-167452.8873063577,-281142.9063813234,131067.53845480269,-234419.1048083204,1857595.5002288597,459197.07506962836,252205.69625361587,-235404.33293565369,-26083.020717135623,1250806.7543138487,152819.7761952556,98434.20847208111,-597963.631030212,3215.3830345583797,1342587.08101958,-97061.48546099178,899487.4049372575,208899.25279073193,497838.14254368754,72836.83423973776,-153960.50501121872,-657762.4474119372,149632.69962943954,-1288630.4478129,185496.25457878888,502289.1302097566,-592541.0126010845,-19965.201491896547,-500126.7463845695,-52531.27997495695,20555.32412479682,107331.50039064045,301786.40979624726,938760.5716571367,1084208.710805171,95509.94170608617,293796.1083345043,1316316.9963018256,602550.340180112,-51113.255367604776,-1372749.4414281377,774336.8785862115,-351464.9272082878,-631928.4760678001,18693.828464291255,-24358.812892500955,-180707.95506970186,40238.84164127159,343900.05120673846,-25147.983751935928,-797898.0478176976,-189401.40531968165,14647.032696701299,839896.8108939874,-198266.022413651,441158.9072002222,158879.44873955718,-171816.00740039427,-133286.25793886467,1741465.2425349469,-455265.6793880077,370185.9787830266,357354.0231283783,836299.478345499,344335.46760386374,151241.80997465245,-316475.17981544154,-583329.5467740592,-149988.6937228297,-608236.2766640647,33175.19170433838,-185900.01543649964,144913.8429886173,1183066.5902847128,-15481.705267184814,86221.44685941015,1020748.9164838687,158299.77378384364,678403.5615305802,-364040.6431544977,609805.6069938949,90983.2743243984,753789.3251046672,-575954.2239384187,-10946.61629555715,-290285.5835649353,-227811.92547830736,1287415.067348211,653856.2620139102,-282991.42378047784,234980.59879465876,221298.2365585468,497692.72260285175,269218.65866055654,90221.16259988134,-668935.997485385,-364040.6431544977,-65722.85231077536,-328920.1699842415,129214.80717447288,-457710.9746519131,-1003698.6904672162,-28320.983151174474,287900.4907617809,169784.92814668172,-594849.9917093582,-57741.7920594129,293249.96365501697,353330.69323642104,682269.2708767928,54448.47044703823,866370.7919501315,253443.2215940105,402181.1477227186,375186.82921561017,-477130.8332595385,-284760.9203630993,283918.8174178008,208233.77312640855,-858965.6415751745,-240982.92245935014,59953.502452392924,266882.99729117274,265655.23902701086,-441528.1169045243,-448650.5390903044,-482900.0779404223,-153235.94901997934,-1093323.483653307,129167.27912323274,-122675.5285390659,866770.1218708579,-385339.2338565358,207408.38603452552,867396.0336702982,369426.3581644641,-232548.3189027785,639668.3841897735,1286913.0661164045,55028.03209963975,-413792.6905330219,-292217.9932972212,213330.8547719603,-372222.5132180818,-797141.7451999598,-287270.353166085,156946.67928901687,-641080.8849029567,-598822.8325593665,1707866.9664565322,127125.33217374679,-381680.1293982945,-132554.21691616465,454902.68153814116,-655404.1529085356,-391872.57532954525,-343925.72320213134,3445.7337299234237,13246.48442918763,194333.6913680584,-256693.01540668297,-826558.3528486958,-294370.963332722,366012.04922563443,-289168.0622421079,-1700157.0377837534,295486.2429007034,815830.3634340712,-331751.9231658782,-67042.38950855572,189593.4909450924,-135802.25575862263,511566.98888927273,-946112.69984556,-203473.4721945757,-442838.7015818778,226186.43409503502,-91743.90750856424,-119319.45737673852,-210445.13487810706,-2101909.347321271,-522119.6513809694,-294484.8191042674,385883.9169341458,540910.7114290381,129656.18854687564,-346013.2120917323,409888.217687836,532203.5681398466,-174418.60881661938,-847649.666626701,252301.61742559605,-513290.0235157031,1298774.451691036,274643.13628876384,290673.3790375507,-97687.003514192,-336029.643692236,-99807.24182392999,-397820.0206733197,152734.15239526128,158002.5664022898,4111.021439749465,1133813.875995116,-56819.27496831732,-363999.8510167015,-152495.3451467197,-245630.880492275,175143.95285486517,-82002.5677046508,-646957.9612293136,-594385.0659644615,-520949.33298888896,-922814.7401647534,-1546601.604315884,-188773.07556124075,67365.00226035785,-130477.1076886627,795733.788303998,513602.7441750125,377613.40730864275,303602.99031775247,-423890.0503424976,20603.082002217106,347341.80752705684,77030.87425330676,147599.97331659961,-371840.66566079785,390837.44746976125,-661407.8870709386,320339.4017169088,420446.09925359715,-861202.9557039087,-43972.124158277344,-46841.259812613105,-658474.7205229336,150277.57841596712,-68823.45418499032,-225525.14230419561,-1218512.6365944583,-389087.01973360823,41797.610373394025,-395288.96496992686,382141.51845144294,298552.93802385445,-1185552.5099361844,47563.91518100638,-586658.8356372223,-142379.76971128947,362323.6119780766,1232499.3555405687,166523.67207350553,279619.014314725,135295.088452372,143109.18524960137,-422089.3909589572,132025.23718422398,-875947.3482451438,-114650.17438505175,715926.7243157801,-234641.90042124206,-446368.41919459635,438958.79203906626,78462.89107358674,-473205.83639439027,302151.3492630207,876772.4851065546,196761.0698010613,-291296.9817825218,-362243.0045064714,471034.1847651935,10101.96985869501,-1080487.1124446827,-57475.560677871974,-397087.34193389263,885505.9762817487,395335.4260828906,387379.56034657016,423722.44419156504,253577.98025728352,-204708.93752534114,324326.1590304842,428451.26439271524,-1481517.340017644,-616221.9432890015,-400389.0473961089,-555171.654402064,238473.85018246734,-105453.42245394959,217702.1032888224,-685100.0040159413,-115930.49681880801,-305797.844252622,663688.8270186624,1344959.7663369866,-102017.7357102838,-491067.46937653935,270842.68193189154,762620.9242168816,-559091.4257860171,457803.9235464937,133946.4546754986,-4192.732647456533,769651.8726998019,1123737.9232636415,-424016.14822990063,-383.67556028963816,762580.2789633652,113277.75044873217,128922.5044320305,604255.1766518061,105752.85503397045,384154.2207271151,419280.4305182641,-540210.7669001066,667659.3045804367,1408336.9996076736,-743886.8163322624,-209379.81835983813,-351268.38406086114,-57909.83240166688,326700.9444120825,273157.2434193043,110485.89466797277,-290677.43003138294,587033.4219759785,-414415.73720416625,-313188.11443514336,104091.20633168973,334881.23079195945,-67187.57739741451,-38138.08366662485,-521866.4490717506,9516.269465364265,362882.9424400647,252205.69625361587,65315.605609613674,-1495639.8273495492,-775844.751366473,-415512.1268156543,370452.68454588985,70697.34096621793,1776413.1018569116,715137.5894848561,454675.700188997,980057.6463332635,-534186.4714168932,224238.01290628704,79847.11858736901,-27994.10980292962,-729045.6554111649,-354896.80169653386,-47374.59139846145,265865.79583070916,668116.5757876176,-336401.9594397573,461111.3172870498,105669.674276903,-377383.80177701375,289424.94415413216,132442.67349706616,748094.5209111585,-720400.4153978596,-127283.74834477626,65331.66935664078,-221390.57263067472,331764.8686781874,-237.85082223569253,-346023.7732628859,625566.8806389527,65889.90239682366,-783698.4773797407,-193160.55541494317,-842326.5689228246,612833.6443228016,252313.14944489347,290708.79949979606,619948.4927647243,153732.979844642,-6332.355066220683,-137457.8212737083,59505.53211562035,261624.53333526244,467924.2423249147,-513209.6532663623,-434937.20232221665,911257.7448507835,154527.90182141284,-14570.212645350246,253785.34365774607,-164311.8931134796,81351.08724631461,38203.19219907117,-133238.16685896265,-184481.24262391252,-996623.1222490307,176612.44862165602,403903.54301170347,-72567.77073166493,734540.1287839098,-1123114.261277667,276259.1106459646,-217432.78706914227,362199.44649574417,-1098254.5387598735,-358493.25109364477,330525.4214300819,176442.79139674467,1430522.6718164613,-930257.5203340093,253994.51426746737,-376140.98195328354,-226214.22070491943,109085.32821982268,-271211.9114333317,-329429.5025093908,-519321.3993708334,-93587.23063391347,1022864.588591625,348287.9985174089,493879.6278088769,39358.89012425637,-86188.55297020139,346679.62100748054,226542.37808387977,-44364.962314842465,501387.258662117,758835.5681397615,526370.4024652877,-884881.8972900942,-1103343.661638227,321620.71115260257,1075002.8704233975,-13717.808329504105,90600.45952885252,701665.2187447565,-327979.41528441105,386882.13591223035,56130.77521310293,602651.2560499948,-952685.7305425786,-550371.1138483033,525117.6257346573,-807651.668894089,34647.45922964563,318973.5442629165,-315724.89456303604,525750.288756639,416193.25990440155,-945457.9704664195,-280067.3146542492,275645.6271177349,78907.03079750053,38446.07465000293,302113.02740953234,-641051.7417169571,189226.14982310182,-88796.3077896837,-396909.9920640406,835290.4986328707,-267112.33431057725,1270461.2150395901,-178086.8916130425,126442.92972320861,274585.91035676457,-230075.67033657644,-545614.0862138651,-2692.5227258944915,-170219.16990170593,786148.9815360812,-14683.4337366317,-1271883.2582592247,-381193.6123886131,364143.59768823104,-425268.0421402619,-117766.00119027356,359232.88758816227,474332.53644829395,10594.65260755637,-582915.286535568,985449.1274471002,-414136.0462016909,-1470840.168622627,-33656.63915594261,474539.0165041244,141745.83604412552,-620241.4762197401,-200080.79973092373,-1132751.1455965429,1029188.1184885552,-164048.98008210375,-221753.3270857547,320619.77044307906,-3924.186076177636,-57539.39977616201,48503.895601359865,265463.74001925753,-119965.5548132952,-293521.83021486935,-355091.28253424744,1019566.8898213106,-949900.0756857195,167029.17825168636,706915.6202107223,185186.11024804998,-342905.4235510562,114907.87690156122,159327.53650331436,98741.01380206195,-305477.89801731205,348431.1049872506,-1002066.888801182,-156902.36865890486,1172834.2508608797,110207.16194203985,-189110.6873627912,-209969.43239295366,-1002066.888801182,-963036.3873337553,288205.5421023968,313428.96590386576,-169280.98184270604,208182.50389294367,-106689.82413282072,-1104808.8626616318,138552.37429116658,330121.3545379033,-111042.4926791145,558083.9232354749,442211.18579052994,-224240.9159420173,-211876.28248524986,-114988.32754504868,298702.7760247113,73542.61940997595,-172620.7639694268,482564.38200185576,-788783.4967487361,-259098.56113272812,75446.45341623899,16087.031271326648,487023.3325861461,-383597.6567453429,351658.510896102,-218024.21635662238,1557153.6205506441,-146652.74153057163,745833.6290318365,-272689.8062450479,-30330.9081526954,485316.2902439383,-147061.4424301964,-540094.994008419,578045.1457767804,-587158.3595596508,-45974.02737879174,-474430.32791553176,-419131.0726233367,103097.54661382109,-353678.8977662993,-711667.262075203,-370682.08729055873,-188530.79435331761,411017.6127122905,-248920.50760103218,-305240.1354738129,287270.27776992443,101153.15580770739,143855.95396055942,-308761.308203631,-856306.7809984748,-51561.41189854236,-551366.5671123926,-653559.5477322346,-124441.70176802683,142440.60301492782,-277755.5881926231,-237.85082223569253,-150184.96596462728,640041.5650250333,345535.43541044934,-132938.62823125746,102790.8010242462,143975.38283849522,1057235.290776302,-310066.38349223,46165.757661042575,430550.3867936654,142440.60301492782,75949.40384696265,-44963.73010408546,-66644.39259572954,-344004.7112958766,481853.541889558,582916.3690216023,-367210.18773782294,85918.26554127142,164007.19044793356,576358.1916966701,-61736.603541245066,634428.4785460562,-591101.6070203874,-19375.46757416654,-369289.384387285,369426.3581644641,296335.94041707774,-205733.1258778869,-98805.85930826871,-866118.0084758659,-63611.03633872077,391777.11454558524,-441561.07962644735,1054738.3590986584,-11953.754596729214,-402439.9227278187,-155667.3676023107,71666.13409556668,-351268.38406086114,2076674.519821309,1176621.0807810812,278637.57682410703,663858.0855973132,126469.17001976569,-519594.2906851374,323815.3481785624,155063.83279931132,173751.98845627514,-473809.8316362447,674174.3850357399,-96101.53700757849,-928289.8557502301,-941703.8874150655,34508.79668678469,-328743.68792289984,151514.66805518972,-348506.9170480815,29954.44294372733,40036.34381092478,-92862.22479074396,-415199.6525385459,337796.2733640965,330019.2587106459,23112.92359665414,189149.2906998722,-455177.41197095637,185888.58799372215,-21708.672801820183,546839.1412511073,-648862.5916720758,40843.66186716672,-104414.36368952722,12285.703622557889,-901518.8351702766,671992.9958238597,-215366.30241308536,-631928.4760678001,-144023.54146319168,628543.7822985754,231147.6750747101,-50029.91590398358,-125561.396491258,566017.0340229425,-35014.364833525775,-607802.2578549221,-576676.8088463931,-247443.06898111082,361136.89869518776,-96246.96112224407,720492.235220644,85606.46070104139,-178988.96588187994,-566487.3783185142,478133.67531880096,858169.1336297088,-13920.90818685906,56435.273080586376,-158324.24935540676,922741.6824061652,50054.46197240329,208182.50389294367,-317029.895139004,-503896.994365917,-365472.0999259471,474442.6207269652,217900.83012594815,246005.12190961096,-73281.05497234575,-250293.7292565213,-241605.82411608257,-193284.64928342513,63167.68442858042,1390625.109605723,-364500.49901273043,415824.76126679144,10124.043796855232,-15630.861504927381,-454774.30664744665,39955.087478403984,486184.9880338047,-30061.27826042107,12471.821829250708,88451.30949096853,-402263.40032228525,15356.277379530316,-340439.3258226364,870899.2305441864,-23301.572827200645,-213514.68742432736,-417686.53244863765,447553.2390025836,-270262.852035466,451064.00755015307,248285.36985404417,729062.8322347696,-324009.25363952864,-1197060.7089652854,699470.494554148,-110558.99610227843,111783.43281645425,-287537.3273650792,103750.7234020156,1378703.9492170722,-141748.8545317714,-30690.94587247688,90221.16259988134,116359.0899082809,-360809.31477343285,2001.0040247062798,1168361.0474002315,-202937.94211746193,189286.36962130744,1233924.000903524,219463.2562422212,110488.07987353853,-148839.5628749332,-669361.2929574203,-212116.62877307466,-275744.7836208882,-2348053.3723121397,226740.88555595215,-246981.8889798283,-57551.22174172662,202426.73741009564,270739.84792381123,-47553.40397792787,-965612.159850826,-793614.2967344638,-466827.802511185,29379.32559932935,112817.37025243703,-468898.6655319664,47710.26807351899,6558.2612171924275,-134207.51730645966,-222551.15933427072,-173433.06947142584,287640.7865628901,-514945.18516981235,353721.34225125844,-96513.61996504165,-1046187.0604683185,554611.4537993991,798712.3022922709,-43524.841464432095,330525.4214300819,1134923.6332465438,-142784.34115658476,-194492.19043823695,-585918.4409366626,355504.82884235703,-110832.77729747254,-476405.2844478606,-125219.14681315958,258938.415521041,44388.88736202813,82081.90123938286,-440075.7954635307,548948.8068879506,-20023.272999001536,-515921.9803096187,-334143.9156183586,714214.4973902985,-931632.7889792103,209042.0392593365,-434048.0980577184,-610803.9170196585,210907.08444850662,-486724.4930337697,-17025.342481361466,69837.13630555969,13103.310061880173,610882.9700188386,-90113.00505640543,-1072119.901444967,88175.54998807855,29379.32559932935,87884.19187378873,13706.038446300232,313723.8726379816,145822.9958938717,-68956.51483388027,187899.105299503,173498.6869192349,177309.50817066053,-91867.39112945119,1239462.8839504179,-296279.77003058605,216949.73865543542,-382696.835083344,-130929.54603149429,-299754.8015717693,-218186.2486258863,-234083.22864496108,29848.87996300041,-51899.946863007724,-270061.9987969419,-235859.56093609348,1585626.5078698162,-940499.5327041962,127575.90052749346,384154.2207271151,168781.9294235999,997503.452604665,-49999.911767400845,218247.85333906364,-659539.8378263952,-952726.9231826623,-559858.6885695433,696974.5114174043,917888.1769940117,255514.02943120254,432694.0838248112,291279.80749998573,-649980.8351580299,-149669.87189265148,110117.36784459928,-659963.7637895521,-117200.48697624207,1229194.418512628,81505.97923569659,29078.948757579215,368356.3584226818,-528087.0605165085,-872797.4296819982,925264.1314695242,-573136.36490341,382924.7692180417,-1429373.317520709,-446190.9483363368,-280390.71601505234,-1207080.8669939812,58925.739157548414,-80543.56489705844,273992.41842078615,576862.8911939305,471033.2000058434,-8517.87412296664,-68420.87404625933,499574.6314319763,612767.4706967649,103457.31198700974,447054.77002818935,-1166637.3993222949,-694027.2128733762,-154220.8783379026,-39064.51073327103,174558.21354175126,109341.14287260054,-175493.5387665551,289825.86378816824,-97311.37257667528,680523.5803929054,-67183.42311106535,-96246.96112224407,215738.3224221736,-133831.62158741892,234952.8448311504,507406.2969438476,234408.21248584674,1719073.0104826677,467530.8780753963,-949871.9599985647,-607802.2578549221,-68430.61169325768,-331216.42269105645,-253236.20772938002,-421290.0214011556,-407545.2024405477,424910.65107582737,373829.35762535734,-902281.5446308207,-472855.73989907966,-746922.2038464082,-426623.9659866065,-92598.14073215054,-6089.5380964395445,-225230.86475095627,-1126609.1520036052,634909.966308294,-985626.1718439407,-117757.14715399043,129484.26162990471,-565175.8846458757,426394.1239417148,450994.6285438617,29964.99771992855,541115.6121878402,-522741.5158461983,-175691.46028065972,53359.10948288948,528120.7807517856,-52569.59584912629,1002979.6213521758,15216.257656244603,-36314.44083108734,-187271.9056591342,454617.98408436077,696453.5336219682,-851378.6708704475,742863.237322429,304360.9702984047,215980.2783398276,480179.7568351154,-131265.51909110098,-300258.37291796907,531931.0933670539,39032.91732822077,-408923.90307616245,-220568.20903608546,170583.6264413372,-389939.0046123486,174558.41308164105,289993.4381181651,843026.8384884532,-288036.4224714142]) Intercept: -5796447.14897392\n"
          ]
        }
      ],
      "source": [
        "print(\"Coefficients: {} Intercept: {}\".format(lrModel.coefficients,lrModel.intercept))"
      ]
    },
    {
      "cell_type": "code",
      "execution_count": 50,
      "metadata": {
        "id": "-UKpVsMBFC_0",
        "colab": {
          "base_uri": "https://localhost:8080/"
        },
        "outputId": "22e2eed1-b212-407f-b61d-4519b1566411"
      },
      "outputs": [
        {
          "output_type": "execute_result",
          "data": {
            "text/plain": [
              "SparseVector(262158, {0: -3045.4165, 1: -111566.6955, 2: 316.4951, 3: 1.3614, 4: -348708.8753, 5: 880368.6303, 6: 29303.5185, 7: -102487.9851, 8: 350.1871, 9: 91.0954, 10: 3134.4416, 11: -52.2448, 12: -3096.8122, 13: -2885.6407, 26: 724868.675, 159: -95977.2441, 170: 559862.8234, 199: 390330.5494, 284: 407666.7837, 371: -387341.8424, 375: 345535.4354, 549: -533896.7977, 630: -406359.0381, 654: 469600.9761, 676: -440058.6497, 885: -329850.3414, 966: -1021385.5426, 969: -85586.9536, 976: -1167949.5584, 1144: 164991.0814, 1151: 760376.1962, 1168: 84684.7812, 1317: 473735.6594, 1425: -697633.5903, 1465: 646265.3914, 1614: 246815.5305, 1650: 390542.6432, 1682: -199180.3945, 1743: 584765.7803, 1746: -188282.7788, 1836: 1097778.8755, 1948: -111605.909, 2030: -126871.4719, 2033: 419846.5068, 2038: 231374.7596, 2211: -327207.469, 2216: -31306.878, 2329: -695325.3796, 2354: 65141.3351, 2356: 5182.2667, 2444: 202588.4731, 2479: 137002.3795, 2534: 68185.0924, 2569: 314436.041, 2576: 613928.6196, 2587: -162778.4828, 2662: -168163.1612, 2745: -132470.8469, 2748: -555281.6463, 2796: -223593.6257, 2907: -195444.8913, 2974: -613004.6425, 3011: -1559474.0049, 3059: -408457.6705, 3122: 157825.5789, 3198: 274814.2186, 3225: -446558.6411, 3437: -182377.4858, 3458: -737907.9626, 3533: 104091.2063, 3630: 165336.1259, 3684: 254308.3284, 3695: -379634.7312, 3696: 211883.0695, 3832: -74637.146, 3838: -314802.0739, 4089: -784036.7391, 4098: -674274.1705, 4120: 1779413.6507, 4143: 81472.3268, 4148: -257407.6246, 4403: -32627.5116, 4405: -359047.3111, 4407: 790628.0989, 4504: 574652.1496, 4606: 343876.5249, 4673: -280797.2394, 4704: -135891.6571, 4757: -57551.2217, 4760: 115213.5723, 4847: 212002.2217, 4882: -417422.6033, 4943: 493762.0676, 4945: -186475.3397, 4992: -68678.5911, 5002: -329850.3414, 5121: 577701.1204, 5191: -81927.6953, 5398: -127558.9049, 5400: -876657.6237, 5406: -18866.3755, 5417: -661685.0428, 5640: 181341.2341, 5724: 93911.3444, 5913: -572037.3993, 5947: 215980.2783, 6005: -33419.9472, 6037: 157932.9453, 6067: 1376459.0644, 6088: 252757.4683, 6187: 154863.2609, 6206: 278914.8711, 6225: 17679.645, 6244: -24853.304, 6266: -164586.566, 6278: -264254.8556, 6328: -1087406.3433, 6392: 777094.1677, 6394: -132683.5228, 6489: -153960.505, 6527: -559495.1341, 6530: -371517.0177, 6538: 1356515.5146, 6547: 129656.1885, 6615: 522765.4588, 6623: 453520.5592, 6754: 82189.3037, 6835: -370370.5392, 7023: 774278.6774, 7034: 50918.2853, 7056: 783433.181, 7089: 98318.7554, 7292: -143745.1268, 7305: -138355.2681, 7325: -34442.4002, 7375: -55608.4663, 7553: 329740.1294, 7563: 436823.9436, 7702: -373953.5043, 7752: -84509.96, 7820: -412098.6986, 7838: -967725.842, 7975: 386095.9855, 7988: 314517.3368, 8033: 111363.9219, 8082: -575823.0639, 8114: -1155395.3452, 8134: 384819.7624, 8159: -64342.031, 8218: -1060433.6101, 8231: 325424.1019, 8366: 980834.8399, 8372: -293521.8302, 8380: -232726.5294, 8394: 834601.7495, 8442: 48502.1699, 8636: -34625.7372, 8670: 554255.723, 8822: 125736.2482, 8853: 341051.7879, 9351: -55695.0712, 9413: -35112.6865, 9535: 82370.6011, 9598: 294001.28, 9624: 1518959.4144, 9661: -244296.795, 9677: 598641.9574, 9737: 257866.2019, 9795: -367792.6561, 9837: -197753.9248, 9974: 553182.9504, 10106: -217101.3834, 10118: 289351.0585, 10284: 426218.142, 10364: 1161442.1349, 10461: -77289.9786, 10482: 1091689.7178, 10494: 172971.1607, 10763: -595756.1239, 10827: -209901.0063, 10972: -906211.7681, 11018: 262055.0428, 11122: -41876.9042, 11209: -102984.1441, 11299: 507926.36, 11313: -181168.4416, 11316: -380416.5175, 11342: 1457686.1311, 11352: -110558.9961, 11396: 456183.2312, 11411: 718036.8139, 11589: -234286.4988, 11617: 409554.0091, 11671: 554611.4538, 11710: -33656.6392, 11761: 57887.7144, 11774: -556856.6091, 11809: 912322.6871, 11822: -132586.1632, 12264: -80559.2056, 12274: -824203.6029, 12279: 1384399.5865, 12350: 396074.1374, 12355: -64882.7437, 12420: 356953.5665, 12531: -99093.3988, 12740: -633220.5039, 12891: -422089.391, 12940: 118876.3336, 12957: 259860.3478, 13031: 1006691.2348, 13137: 401187.3154, 13171: -372366.533, 13403: -1495928.0873, 13459: 10340.6445, 13464: -435569.0197, 13523: 59600.0931, 13598: -729657.5112, 13822: -252439.86, 14010: 456695.728, 14048: 443120.7498, 14257: -65917.744, 14267: -913435.7122, 14332: -1064941.6806, 14410: -243445.4142, 14589: -290783.0921, 14670: 5855.4384, 14798: 303142.0001, 14835: 9750.7681, 14864: 147666.7311, 15017: -123579.4424, 15046: 796336.6281, 15076: 166092.0901, 15213: 255387.2403, 15240: -816658.377, 15352: -560034.967, 15361: -22079.7715, 15391: 13326.6184, 15510: 193534.2288, 15520: -800568.5172, 15531: -292397.7997, 15558: 202426.7374, 15571: -53617.5161, 15591: -199009.9493, 15613: 722858.8112, 15638: -117876.28, 15656: -2574.4537, 15679: -341278.8606, 15719: 313950.6691, 15878: 261305.0192, 15879: 1107308.2999, 15977: -251224.4523, 15986: -195828.266, 15987: 45088.6311, 16009: -1153370.5204, 16203: -950810.5631, 16210: -297119.656, 16313: 182740.5199, 16422: -459985.1954, 16432: -226065.575, 16518: -712031.9621, 16604: -520740.3445, 16811: -125219.1468, 16820: -40689.6113, 16865: -221354.0969, 16997: -108716.6759, 17035: -314873.7742, 17120: 376234.3427, 17254: -1910620.4313, 17273: 421781.7275, 17310: 883438.8793, 17458: -1589372.568, 17583: -869486.1143, 17610: 537547.7352, 17619: 85918.2655, 17662: 3907.5561, 17898: -205405.3227, 17900: 52931.2259, 18030: -389651.1568, 18170: -398324.2274, 18278: 302249.6923, 18314: -366897.8768, 18390: 245666.6356, 18433: 81910.68, 18480: 27363.8523, 18623: 132291.7322, 18675: -27182.8664, 18738: -178179.0569, 18889: 149043.5239, 18895: 96161.7638, 18948: -78242.6742, 19050: -78242.6742, 19055: 107563.221, 19072: -298461.7686, 19120: -1208184.5203, 19209: -608913.7499, 19329: 367790.3798, 19386: 1319542.9574, 19399: 581026.6063, 19504: -1499100.7975, 19537: 479174.5842, 19718: -704657.6785, 19979: 224137.6277, 19996: -834942.6042, 20076: -393805.4086, 20120: 1845273.4104, 20139: 726926.3368, 20202: -103240.8011, 20205: -128236.3915, 20298: -178179.0569, 20400: 754004.4758, 20435: 71710.748, 20438: -474893.7128, 20497: 196372.6827, 20629: 193038.5641, 20691: -265024.0663, 20742: 378192.8162, 20867: 297721.4459, 21002: 357942.5224, 21144: 289257.3576, 21226: 193045.7113, 21289: 146520.299, 21423: -389176.9782, 21454: 578979.6508, 21512: -125656.3866, 21555: -632323.0215, 21632: 404255.4026, 21774: 866119.3571, 21802: 34040.0741, 21920: -505629.9151, 22005: -258254.9195, 22099: 44008.4592, 22310: 771742.8571, 22439: -26494.5847, 22473: -270840.4989, 22843: -4312.2974, 22900: 203173.072, 23126: -341588.9695, 23235: -371866.2002, 23260: -152346.5701, 23290: -49086.71, 23291: 22223.5907, 23301: -34494.7774, 23348: -15098.0554, 23398: -203404.4538, 23430: 1020699.5491, 23462: 850444.3284, 23652: 291394.5435, 23694: -506952.6186, 23696: 387076.6097, 23888: -327523.0003, 23918: -1238671.1688, 24046: 1577584.4085, 24098: 2068.1234, 24191: -203951.0051, 24210: -546674.217, 24214: -156658.1112, 24229: 70788.6718, 24236: -100875.6982, 24244: -2464.7759, 24309: 261428.6381, 24320: 24888.9578, 24483: 30323.8518, 24835: -199009.9493, 24924: 33459.8356, 25036: 126469.17, 25110: 732301.093, 25155: 105345.819, 25176: -1357826.8384, 25198: 1536175.6383, 25268: 176130.5867, 25338: 317586.975, 25414: 77760.3918, 25475: -724746.7452, 25630: 714255.4109, 25648: -399404.5743, 25749: 189065.0091, 25778: -2342359.6386, 25853: -658338.3653, 25903: 92632.8871, 25920: -810463.9384, 26010: 811500.3916, 26108: -31951.4019, 26259: 365006.1464, 26418: -153103.9851, 26439: -466447.5194, 26452: 661972.9775, 26590: 171165.805, 26601: -588965.581, 26606: 86017.3388, 26635: -100566.1843, 26757: -661761.3315, 26802: -1766787.9525, 26803: -83637.0514, 26849: -173850.2609, 26859: 100617.3719, 26889: -711774.083, 26984: -98020.5213, 26987: -83379.3615, 27039: -6782.0076, 27188: 108752.6794, 27266: 112176.4246, 27280: 693980.3644, 27306: -82737.2887, 27414: -336237.9288, 27590: 35797.3279, 27684: 170728.0406, 27731: -2172252.3978, 27882: 869083.5873, 27996: 190864.029, 27998: -123875.3521, 28075: -126287.8987, 28183: 668231.0153, 28185: 339627.2634, 28266: -716959.8475, 28317: -229062.4182, 28402: 263285.8636, 28432: 425592.2383, 28614: 605215.2103, 28624: -36826.907, 28631: -19162.5038, 28671: -9312.5378, 28752: -635259.4922, 28827: -1744033.8103, 28851: 567900.9505, 28881: -287808.2053, 28900: -161191.779, 28944: 955959.6429, 28988: 772440.15, 28995: -595500.6933, 29061: 850323.2057, 29066: 436936.5632, 29131: 698019.4883, 29170: 164693.8974, 29208: 158352.1452, 29211: -114333.4186, 29524: 64254.636, 29624: -165564.7189, 29708: -1149828.9207, 29769: 454184.3302, 29797: -289421.118, 29851: 118792.427, 29880: 731111.0043, 29902: -90932.7056, 29966: 1443265.8846, 29969: -13032.7725, 29991: -142905.7671, 30432: 301223.343, 30509: 236920.5988, 30567: 135505.6895, 30569: 241471.4687, 30586: -654883.5198, 30588: 95949.0588, 30714: 118251.2919, 30740: -216104.0886, 30900: -443709.1311, 30961: 56435.2731, 31098: -1265347.9951, 31129: 20726.1127, 31178: -539803.723, 31452: -47696.1059, 31455: 72947.2091, 31566: 65253.7615, 31598: -231109.5693, 31688: 244024.632, 31689: 200267.1439, 31835: -533864.3593, 31950: 147227.324, 31982: -415938.9919, 32029: 43251.2263, 32120: -39776.449, 32137: -78379.4783, 32148: -22837.3903, 32165: 234012.8124, 32292: -688482.4669, 32406: -70741.2341, 32543: 396721.6652, 32684: -18749.1059, 32713: -125519.3218, 32725: -303374.2519, 32727: -2079056.8266, 32739: -6782.0076, 32770: 100698.7324, 32814: 212019.1399, 33092: -68839.2278, 33232: 138960.5331, 33244: 152546.795, 33316: -859463.0153, 33326: -161564.4905, 33393: 1026974.0918, 33773: 319950.0505, 33880: -505142.1584, 33931: -41060.6141, 33937: 9204.0224, 33994: -291031.6651, 34210: -59509.5576, 34259: 702944.0573, 34296: -566020.5272, 34353: 157157.1067, 34433: 318492.6961, 34479: -37188.4249, 34536: -196680.9434, 34613: -62155.1928, 34744: -460496.7289, 34973: -446812.9383, 35015: -493959.8956, 35125: 85916.1728, 35325: -633722.3013, 35381: -345271.4313, 35473: -49666.8107, 35552: -69176.8212, 35645: -32381.5625, 35652: -66409.385, 35702: -477343.5827, 35796: -349197.929, 36178: 805710.3733, 36179: 171866.8988, 36221: -118917.3701, 36235: 226186.4341, 36293: 39065.1665, 36295: -1238364.9555, 36339: -1236659.1672, 36359: 373485.6447, 36361: -81734.1274, 36448: 82189.3037, 36594: 391825.3223, 36642: 440642.7575, 36766: -11624.5893, 36807: 700406.0605, 36817: -698198.2454, 36860: 1134195.8104, 37002: 111161.7674, 37032: 128331.3403, 37194: 254347.8334, 37206: -1140023.556, 37333: 512093.6815, 37571: 178606.7467, 37587: -5945.5412, 37679: -455694.7985, 37771: 563740.6961, 37777: -52514.4422, 37856: -332183.2964, 37907: 50490.9959, 37924: -58546.7193, 38045: -393575.7252, 38072: 379881.0552, 38193: 948423.348, 38241: 317435.2778, 38262: 65879.9427, 38359: 42184.1501, 38410: -497919.5408, 38438: 157132.8554, 38442: -521223.1078, 38475: -1079701.4582, 38620: 910989.9332, 38655: 99680.303, 38678: -698946.9099, 38782: 234442.4307, 38852: 169921.9537, 38890: -251456.954, 38893: 97447.6964, 38914: -69455.1506, 38915: 113069.3683, 38993: -193381.7619, 39010: -318837.0063, 39052: 568631.3717, 39125: -389176.9782, 39258: 283404.0355, 39343: -116.1793, 39383: -482276.7023, 39483: 33368.9414, 39586: -283654.2564, 39778: 926240.2998, 39832: -742125.6596, 39867: -204708.9375, 39916: 356419.2656, 39975: 369359.5184, 39984: -50944.9444, 39986: 371358.4184, 40011: 58555.5818, 40074: -500474.7846, 40249: 225719.2037, 40268: 774030.8694, 40307: -11097.9692, 40483: 133946.4547, 40504: -274360.1209, 40583: 800384.4327, 40593: 196850.8557, 40675: 409713.0789, 40738: -401308.117, 40818: 172811.213, 41140: -41939.6396, 41143: 435857.541, 41345: -330549.7469, 41363: 244024.632, 41449: -91622.3327, 41486: -450981.5352, 41503: 719911.1696, 41528: -81884.8204, 41538: -23315.3678, 41640: 392711.1242, 41680: 425310.3985, 41834: -1345034.2006, 41902: -253048.3169, 41976: 685543.5847, 41986: 362732.5206, 42045: 162063.549, 42243: -112726.2292, 42257: -187186.656, 42282: -787170.7792, 42311: -138802.6416, 42477: -486893.34, 42480: 182242.0817, 42539: 1090711.6221, 42573: -783187.7652, 42641: -780338.4327, 42727: -360166.7087, 42731: 71710.748, 42775: -87270.1119, 42836: -471828.7119, 42840: -404376.1272, 43008: 997095.9016, 43164: -98242.1494, 43184: -486949.8507, 43207: -90932.7056, 43341: 93303.6554, 43351: -67388.0553, 43391: -419359.8937, 43465: -1953547.2547, 43484: -128983.1246, 43605: 81299.8338, 43637: -98353.0714, 43841: 331274.5236, 43868: 79469.7276, 43878: -314010.3054, 43911: -165978.3601, 44083: -78689.9936, 44224: -140439.1027, 44252: -628464.872, 44407: -296592.672, 44420: -287808.2053, 44459: 231692.0024, 44485: -398310.5197, 44695: 19560.7854, 44699: -173909.3704, 44708: 623713.1268, 44747: -138269.996, 44750: 165822.5542, 44844: -763948.9449, 44896: -651462.4483, 44968: -58544.8942, 45048: -216552.9507, 45081: 402295.8938, 45342: -10326.2499, 45350: -935432.0471, 45538: -417360.4918, 45710: -1019575.8205, 45728: 166094.8373, 45810: -575752.8455, 45926: 436768.3104, 46059: -22837.3903, 46241: -901962.9127, 46286: 321614.3749, 46289: -149839.5952, 46400: -307611.031, 46433: -350949.3416, 46569: -144169.8877, 46642: 667598.7196, 46680: -382258.3334, 46703: -926099.9737, 46915: -782644.9746, 46929: -336627.6308, 46935: 332232.0647, 46975: 298811.2229, 47035: -197237.789, 47103: 301021.4765, 47167: 1021006.8496, 47268: -341285.521, 47304: 463719.2158, 47429: -500962.5598, 47483: -30130.9163, 47505: 535496.7753, 47645: 65888.2973, 47686: 164277.5048, 47818: -384719.8383, 47826: -567557.1831, 47858: -42355.7405, 47931: -21095.8654, 48075: -812066.6446, 48076: -36233.3039, 48127: 195538.5322, 48243: 1291463.1569, 48371: 135860.2491, 48427: -453124.2561, 48603: 611444.028, 48604: 215593.9801, 48705: 27616.2342, 48797: -588599.9746, 48805: -426000.3035, 48906: 252462.1489, 48993: -2356119.2564, 49060: 541141.4187, 49171: 602651.256, 49458: 626001.0241, 49492: 270023.6363, 49496: 1492468.2013, 49540: -708547.641, 49654: -902821.5389, 49809: -25008.4046, 49907: 582808.5279, 49929: -1509211.0058, 49968: -249948.8128, 50071: 119364.7738, 50097: 521709.0361, 50401: 257192.0845, 50506: -1118910.0864, 50647: -272196.9505, 50753: 640879.3893, 50812: 508859.2283, 50880: 1284224.2366, 50926: 966101.8858, 50938: -60460.5108, 50941: 17204.3932, 51287: -914365.7631, 51289: 660417.408, 51324: 843650.1244, 51357: 199718.4793, 51372: -173277.6383, 51470: 39406.7942, 51485: -149650.0753, 51507: 107864.6134, 51582: 39800.9783, 51611: 199967.4236, 51635: 1176594.4826, 51744: -229137.608, 51771: -395181.6962, 51970: -96029.1557, 52306: -883465.0329, 52327: -521857.5435, 52429: 67539.2202, 52471: 255664.5476, 52547: 243053.6717, 52580: 451271.1279, 52611: -3790.3335, 52621: -242680.5416, 52658: 292777.012, 52799: -1051494.1793, 52802: 255387.2403, 52861: 276259.1106, 52906: -527234.5548, 53022: -342762.2923, 53063: 189149.2907, 53086: -223801.8853, 53123: 80923.6559, 53161: -502702.8181, 53165: -123232.249, 53171: -271748.1043, 53272: 665475.5463, 53303: -533156.9064, 53309: -339207.7367, 53379: -275084.6225, 53429: 407543.8045, 53457: 92692.7667, 53492: 752655.5454, 53538: -237203.3559, 53656: 263285.8636, 53696: 657383.3336, 53698: -23902.7993, 53787: 422035.9625, 53795: 42102.0249, 53806: 44366.3485, 53931: -31888.8221, 53982: -555770.1113, 54056: -240982.9225, 54186: 309111.0123, 54319: -808591.9644, 54357: -519357.8977, 54549: 79379.7004, 54565: 141744.6284, 54575: -431569.7094, 54708: 119927.215, 54714: -661362.4406, 54762: 222353.0699, 54835: 623182.736, 54843: 543493.5186, 54879: 39800.9783, 55099: 207576.4687, 55294: 291901.1138, 55324: -348303.0822, 55499: 346639.7447, 55515: -87389.6798, 55595: -414842.3652, 55638: -223978.7743, 55915: 40012.9283, 55934: -257771.6947, 55953: -140393.1369, 55982: 417296.9657, 56120: -8021.0881, 56130: -210422.3145, 56206: 632044.5052, 56248: -541465.5714, 56288: 4996.2055, 56300: 746762.9895, 56345: 786019.0116, 56406: -183310.2168, 56475: -913548.6234, 56509: -435419.8312, 56529: -84729.4881, 56540: 326113.9145, 56627: -62380.9, 56674: 578830.2723, 56689: 302875.4088, 56699: 392528.7949, 57041: -1036638.9149, 57159: -359516.5312, 57160: 760245.7101, 57212: 764998.1105, 57275: -331929.6476, 57477: -198688.2822, 57478: 1300483.6953, 57514: 66488.225, 57541: -203678.7975, 57587: 448194.2699, 57647: 22739.9593, 57683: -621330.9732, 57692: 422773.8154, 57773: -303702.8908, 57870: 268642.3685, 57968: -577912.2461, 58113: -25461.5989, 58126: -38907.9578, 58258: 459088.1449, 58455: -812134.5183, 58610: 505464.0146, 58639: 254555.6962, 58670: -547423.397, 58721: -467153.5271, 58806: -887236.8867, 58926: -259605.0201, 59096: -193417.9422, 59146: -411664.5131, 59156: 327898.3934, 59161: 343946.6723, 59165: 246305.476, 59166: 85606.4607, 59395: -13020.195, 59405: 395616.3675, 59416: 138277.5691, 59470: -726944.3012, 59621: 596572.5348, 59646: -278560.2973, 59698: 226280.2183, 59759: -187957.8817, 59849: 262534.4582, 59854: -149321.9525, 59988: -134491.2247, 59990: 751445.8321, 60036: 309666.2193, 60084: 1491486.3143, 60203: -974705.9835, 60266: 209755.0552, 60352: -473313.5036, 60402: -72916.2066, 60418: 1206364.4599, 60564: -641073.1423, 60572: -482419.0156, 60641: 1199230.7543, 60713: 339414.762, 60721: 608815.1115, 60739: 1000578.7792, 60851: 92900.8931, 60884: -629815.9733, 60919: -955466.6179, 60985: -244024.1475, 61029: 93927.5205, 61074: -88991.0434, 61205: 75061.4798, 61279: -226789.801, 61565: 411079.8769, 61595: 181640.173, 61600: 86221.4469, 61643: 715152.0116, 61693: -205277.6888, 61712: -307108.1583, 61741: -244575.6301, 61752: 1061058.3801, 61845: 484655.6056, 61886: -356797.7247, 61960: 584429.1692, 62065: -11298.824, 62070: 583833.666, 62075: -360763.0416, 62395: -91216.1182, 62549: 237630.3073, 62718: 220830.1166, 62842: 691088.5891, 62843: 152819.7762, 63006: -496951.6303, 63059: 337968.95, 63158: 394695.2128, 63170: 537480.5834, 63253: 76274.5685, 63362: 29811.752, 63371: 102044.0998, 63449: -353073.3012, 63550: -874886.1558, 63643: -31899.7088, 63667: 177768.8806, 63687: 50276.6071, 63694: -439659.2966, 63721: -1190321.4035, 63743: 351184.7646, 63781: 20726.1127, 63791: 1047837.3686, 63849: 57895.3777, 63850: -367092.9513, 63897: -332623.7566, 63965: -1096469.7505, 64049: 103569.1122, 64139: -298461.7686, 64238: -152655.8, 64249: -210684.0602, 64271: -1084701.6399, 64279: 355090.6835, 64353: 1104768.9979, 64371: -1036093.9562, 64374: -17025.3425, 64395: 261213.0567, 64434: 144863.2582, 64592: 128779.7535, 64653: -1024291.0753, 64692: -143314.0222, 64710: 737399.5323, 64956: -22081.4105, 64966: 65253.7615, 64972: 765016.4578, 65005: 165822.5542, 65128: -336037.3169, 65179: -1298882.374, 65234: 188549.6686, 65274: 1020243.259, 65352: 262126.0795, 65421: -449471.5014, 65435: 219188.6118, 65545: 75061.4798, 65656: 7790.7353, 65717: 133655.524, 65765: -289995.8097, 65868: 196761.0698, 65897: 400078.6096, 65937: -200472.7462, 65961: -177785.398, 66007: 28592.7262, 66014: 266762.4793, 66015: 347644.9339, 66152: -350411.2824, 66191: 323592.9242, 66234: 226626.0945, 66340: 1046956.6742, 66383: -68886.7445, 66430: -309287.2124, 66466: -659098.4704, 66495: -81069.0489, 66559: 233737.8509, 66599: 320536.7176, 66706: 257486.0228, 66723: 847260.4091, 66733: 106796.1788, 66758: 68959.1947, 66789: -1095575.0112, 66799: -534072.2772, 66818: 841285.5927, 66837: -399950.2226, 66899: 585703.9914, 67084: -196107.5319, 67234: 14614.5957, 67260: -283569.2209, 67389: 270906.5922, 67539: 910883.4316, 67575: 1261791.8017, 67647: 414844.4287, 67706: 32834.8006, 67758: 242914.6742, 67775: -195068.4317, 67800: 480158.1749, 67844: -468165.9924, 67932: 96028.5435, 67986: 280902.9284, 68058: 234408.2125, 68224: 912258.8336, 68419: 151737.5876, 68463: -30850.5333, 68560: -343700.2465, 68727: -256149.0985, 68741: 326293.696, 68804: 93410.2225, 69016: -446018.5699, 69033: -250300.3305, 69123: 417125.0202, 69132: -295414.0551, 69160: -292689.6072, 69175: 192998.0206, 69297: 216662.3309, 69304: 545675.6934, 69358: 1009005.3366, 69468: 97883.8322, 69476: 206476.5976, 69686: -89853.9842, 69873: -63108.7868, 69965: 1054200.1833, 70128: -130569.8841, 70175: -9117.7162, 70204: -157779.8273, 70230: -556628.0527, 70431: 260701.7434, 70529: -1583370.8125, 70555: 586782.4142, 70623: -299599.2165, 70693: -856306.781, 70725: 148570.9564, 70789: -342668.5536, 70880: 204793.1565, 70990: -587601.2632, 70995: -183491.4382, 71129: 545011.4916, 71152: -397013.4336, 71529: -462092.0562, 71547: -779943.5591, 71712: -402427.2421, 71840: -226898.9095, 72027: 284725.1251, 72044: 391954.5251, 72072: 404961.2736, 72097: 118288.2663, 72310: 1777389.9992, 72321: 1484869.7251, 72404: 2146136.0524, 72464: -193392.3117, 72667: -175241.3385, 72726: 407543.8045, 72727: -128318.9845, 73013: -2821.764, 73017: -247721.2466, 73022: 69253.3976, 73100: -72567.7707, 73502: 330177.1209, 73722: -646291.6138, 73765: -69935.2644, 73957: 864624.7854, 74046: -1256047.6318, 74076: 104344.1561, 74240: -99279.4145, 74307: -279934.0674, 74358: 46734.5555, 74360: -217924.7849, 74401: -37026.1856, 74526: -366897.8768, 74538: -381258.9732, 74647: 245190.6361, 74842: 1221393.2257, 74867: -327897.5973, 74903: -995552.0178, 74959: -316508.8324, 74975: 698667.0501, 75059: 197743.5688, 75107: -64094.1463, 75195: 118085.9247, 75304: 329751.9027, 75382: -143851.8363, 75475: 857603.8583, 75588: 975168.4823, 75594: 74251.0316, 75614: 100200.7444, 75644: 583121.8315, 75735: -598150.8872, 75826: 40863.5283, 75837: 352052.1456, 75925: -1355581.5249, 76107: -78736.7963, 76141: -27929.1573, 76173: -203142.5269, 76355: -383746.5035, 76387: 519540.5836, 76503: 252462.1489, 76510: -436404.333, 76546: 506031.349, 76566: -593874.9843, 76579: -190875.5663, 76662: -1301519.5453, 76797: -120081.2082, 76929: 572696.9355, 76966: 1087280.5913, 77050: -598451.9712, 77071: -392803.0253, 77114: 10594.6526, 77220: -383.6756, 77273: -2807938.2828, 77324: 540772.639, 77342: 55028.0321, 77367: 96636.7687, 77438: -30703.3557, 77541: 54276.802, 77615: 311864.4742, 77685: 1379710.9274, 77817: 1499750.6836, 78059: -207591.5416, 78071: 926457.4095, 78096: -281197.8662, 78159: -23092.1481, 78332: 106599.0145, 78509: -1100390.2297, 78524: -172572.6878, 78528: -47374.5914, 78558: -304134.3681, 78562: -155705.0067, 78659: 197410.327, 78660: -201756.0185, 78663: 340417.1295, 78771: 585160.5665, 78969: 149910.6078, 79053: 1353596.9883, 79076: 141859.3033, 79150: 466535.8904, 79182: -58658.1046, 79249: 615991.1995, 79418: -409757.0971, 79420: 360187.3674, 79467: 342248.1845, 79533: 365752.6445, 79652: -34510.7791, 79730: 39499.6948, 79766: -68075.2071, 79800: -54149.6915, 79866: 447313.5513, 79944: 157646.3767, 79959: 50276.6071, 79978: -307108.1583, 80159: -106907.6911, 80186: 30240.1794, 80334: -38538.669, 80430: -320308.2911, 80550: -657918.6027, 80594: 44501.8304, 80647: -45364.4894, 80665: -13717.8083, 80788: -285875.5787, 80799: 302148.8249, 80809: -540094.994, 80850: 324.1601, 80867: 96958.3169, 80886: -837658.2962, 80960: -404494.7621, 80969: 328067.8018, 80974: 462571.5624, 80988: 941366.8324, 81013: -132447.4968, 81014: -42340.2643, 81045: 492211.9145, 81270: 238580.3464, 81323: 1367091.0213, 81371: -440996.343, 81450: -211250.0833, 81648: 382924.7692, 81799: 420813.2131, 81850: 97883.8322, 81878: 40187.8122, 81884: -205141.398, 82043: 1339935.6006, 82110: -97110.9171, 82183: 320058.4962, 82197: -63631.7102, 82231: 42884.2217, 82264: -593825.8444, 82439: -83092.2074, 82654: -232540.2232, 82787: 649847.1604, 82842: 376762.7389, 83004: -320095.1431, 83037: -5488.9336, 83042: -35060.0109, 83080: -18220.8163, 83115: 88477.6077, 83178: -477534.8328, 83538: 189458.3437, 83551: 368642.2634, 83594: -106911.929, 83699: 172811.213, 83714: 661738.1807, 83733: -425268.0421, 83753: -347308.5925, 83906: -396532.8136, 83999: 107562.5315, 84086: -150241.028, 84155: 36.031, 84177: 155110.806, 84215: -1589652.4669, 84241: 1089341.5836, 84287: -261234.4836, 84371: 658113.1846, 84378: -34480.648, 84391: 257002.3147, 84415: -17110.9992, 84533: 732514.5453, 84543: 318449.3665, 84562: 281006.8393, 84587: -72861.1274, 84691: 9422.553, 84705: 278585.2628, 84732: -1378922.5847, 84753: -714827.6549, 84760: -240578.9741, 84835: -175380.7132, 84854: -834185.0119, 84954: 378880.8939, 84975: 263787.2266, 84995: -371517.0177, 85013: 988215.0361, 85220: -1844881.7416, 85286: 30831.386, 85353: -43785.1524, 85364: -169664.7029, 85403: -74475.2509, 85463: 328273.2609, 85494: -80222.2585, 85507: -521223.1078, 85578: -163567.3391, 85646: 104487.5416, 85652: 88077.6454, 85688: 197288.236, 85705: -1339807.0208, 85756: 130296.642, 85816: -13994.8424, 85897: 334367.1385, 85937: -1262616.069, 85960: 175184.0605, 85983: -1183470.879, 86088: -89599.4296, 86155: 283423.7138, 86239: 854864.1281, 86242: -1098781.4412, 86269: -538241.5683, 86307: 501466.2809, 86354: -166631.2028, 86362: 360830.4892, 86454: 202111.5313, 86642: -463112.1883, 86849: 53798.5049, 86908: -142880.3532, 87105: 133399.3818, 87125: -199200.5158, 87266: -1207545.1243, 87316: 375998.1894, 87383: 9750.7681, 87527: -195170.7033, 87607: 339427.3058, 87608: -704647.1548, 87633: -867767.7489, 87718: -124056.1788, 87742: 422795.2141, 87900: -49090.0478, 87974: 1590588.0178, 88000: -284473.289, 88020: 243350.7783, 88380: 20603.082, 88405: 789109.3342, 88524: -699198.6688, 88587: -242680.5416, 88680: 1123864.7386, 88793: -608073.6708, 88827: -263027.9888, 88853: 23867.7406, 89017: -45454.4258, 89037: 96117.3488, 89133: 489466.7576, 89135: 291488.5672, 89140: 155618.537, 89272: 103460.7272, 89297: -549764.2474, 89330: -11136.0113, 89544: 261213.0567, 89596: -1772562.9043, 89613: -415773.1363, 89641: -122944.4208, 89759: 207196.3931, 89763: -385186.1881, 89984: 882632.7247, 90053: 211031.5657, 90219: 899900.9917, 90284: 125221.9932, 90314: 1579463.3088, 90514: 547035.41, 90537: -182983.5828, 90579: -84272.7801, 90580: -167452.8873, 90752: -510614.3072, 90757: 1541891.5722, 90764: 862273.2803, 90885: 339050.6059, 90898: -726606.2192, 90963: 877144.1611, 91002: -241157.7544, 91054: -355751.6349, 91208: -337348.4857, 91320: -448217.2873, 91353: -274601.6019, 91358: -274071.4499, 91387: 279143.3501, 91395: 932752.8964, 91542: -74475.2509, 91604: -458138.9784, 91754: -318362.9101, 91865: -637086.9182, 91892: 186569.228, 91933: 1044261.6622, 91993: -392377.8018, 92117: -735837.429, 92174: -414455.3423, 92214: 1019266.6154, 92296: 27533.3931, 92375: -161848.0328, 92524: -1029372.3625, 92545: 258749.2462, 92562: -712930.7467, 92586: 196131.3747, 92665: 525588.6579, 92670: 200906.5789, 92724: -7948.3412, 92856: -501785.814, 92858: -780173.4665, 92924: -142976.9211, 93017: 205478.9645, 93274: -441034.5303, 93293: 414171.972, 93343: 267398.5027, 93389: 752841.5583, 93400: 632699.4852, 93416: 131554.2187, 93495: 110488.0799, 93637: -865362.3013, 93678: 81584.6309, 93724: -24862.2891, 93784: 84524.5746, 93798: -92862.2248, 93843: -395965.372, 93929: -522053.2211, 93973: 390603.3077, 93976: -289995.8097, 94102: -513389.4891, 94145: 598946.5705, 94219: -615729.9542, 94262: 776262.7727, 94294: -380393.4219, 94299: -137048.6519, 94312: 383005.5321, 94506: 913944.4258, 94635: -49946.1278, 94731: -111786.0012, 94862: -428002.4184, 94876: 176668.3746, 94967: 747251.9747, 95044: 118792.427, 95081: 718480.9933, 95099: -319510.5936, 95262: -779841.5008, 95506: 11963.9283, 95550: -117876.28, 95557: -1336289.6757, 95644: -88521.5985, 95648: -231565.1491, 95678: -168888.8944, 95845: 163004.5995, 95956: 330749.3333, 96077: -730388.4963, 96107: -509210.4153, 96136: 295091.7042, 96164: 580769.7343, 96263: 301488.4736, 96399: 55658.9166, 96414: -397479.5773, 96415: 239518.9714, 96418: 72412.6198, 96436: 705631.688, 96496: -1050041.9251, 96585: -58658.1046, 96602: 203400.4782, 96637: -435930.3618, 96660: 923614.7153, 96713: -365357.0771, 96765: 1029106.7519, 96782: 984412.8902, 96844: -69313.9952, 96867: 153004.7391, 96903: 187175.2986, 96973: 504854.5519, 97095: 168155.779, 97217: 33500.1045, 97226: 1251446.1601, 97273: -111121.0306, 97319: 102044.0998, 97337: -584446.1487, 97356: -12121.8926, 97368: -978788.0305, 97394: 507553.3376, 97438: 96028.5435, 97442: 5378.1575, 97555: -2233127.7189, 97792: 603030.1336, 98081: 1121023.397, 98082: 279673.6145, 98171: -11451.726, 98455: 261019.6769, 98568: -3554.0045, 98593: -148445.6226, 98795: 2398.9545, 98943: -375104.3661, 98959: -163484.083, 98989: 129656.1885, 99033: 75965.934, 99171: -98020.5213, 99364: 1043305.4268, 99388: 590403.8001, 99515: -243471.9441, 99936: 161361.6511, 99948: 88918.5799, 99996: -592506.9617, 100297: -108838.4572, 100298: 689724.2229, 100396: 331844.7575, 100409: -306988.4923, 100478: 160115.15, 100587: 205959.7701, 100605: 322565.6083, 100696: 545481.2588, 100744: -698840.2604, 100758: 517385.6729, 100827: -692922.0293, 100963: -554655.0492, 101025: 112080.3898, 101104: -131298.4135, 101165: -133238.1669, 101173: 760941.0814, 101202: 14268.775, 101379: -4801.0927, 101524: 552296.8573, 101702: -83236.0052, 101818: -295560.0684, 101881: -64094.1463, 101933: -146548.8029, 101942: -63877.2625, 101968: -336724.1036, 102056: 12285.7036, 102116: -349979.6915, 102225: 702982.0596, 102240: 233180.381, 102379: -80222.2585, 102554: -477534.4471, 102559: 464803.7536, 102586: 664466.9848, 102602: -37026.1856, 102614: -490467.5797, 102642: 41765.7251, 102655: -31861.3231, 102693: -161660.8239, 102699: -440922.2704, 102780: -450250.2122, 102814: -395188.7805, 102852: 453224.053, 102857: 598981.3277, 102900: -32946.4913, 103136: -1097799.2494, 103162: 41856.0999, 103163: 983878.0345, 103289: -138951.1768, 103312: 243920.1083, 103411: -44738.1015, 103449: -415938.9919, 103490: 18271.253, 103529: -411353.752, 103558: -1142658.1896, 103617: 1055737.0927, 103680: -90724.3972, 103744: -39064.5107, 103753: -1675072.8349, 103775: 313533.0183, 103888: 810927.2516, 104024: -275593.6962, 104359: -184280.4579, 104381: -10946.6163, 104659: 400341.1998, 104755: 490595.1144, 104932: 88758.215, 104938: 459387.977, 105006: -339416.7407, 105019: -550300.8609, 105101: 74463.3337, 105103: 1011646.4397, 105124: 716289.4763, 105175: 380099.4163, 105193: -1668486.8933, 105258: -247995.4538, 105347: -319670.429, 105474: 320239.1726, 105477: -161660.8239, 105562: 484588.1055, 105624: 6558.2612, 105641: -146621.2813, 105649: -347821.1425, 105793: -866841.2701, 105865: -434238.085, 105971: 114997.5854, 106076: 62178.1773, 106186: -143398.861, 106202: -187155.5532, 106281: -351208.0979, 106326: -432747.6805, 106476: -243946.3228, 106519: 1057387.5423, 106548: 113258.7841, 106553: -591346.1596, 106557: 167006.056, 106616: 323542.6082, 106651: -92804.7374, 106704: 2616852.0063, 106803: 939706.3098, 106833: 76155.955, 106846: 10462.2402, 107121: 341051.7879, 107128: -209931.0086, 107165: 43322.9082, 107208: 161098.3511, 107283: 221298.2366, 107301: 54276.802, 107601: 258938.4155, 107607: -10650.415, 107928: 179966.8958, 108153: 1119879.3488, 108242: -338110.4645, 108246: -633722.3013, 108308: -32540.3653, 108347: -35531.3554, 108383: -542570.3783, 108508: -216707.3137, 108544: -358178.8081, 108638: -1829754.1885, 108749: -1202759.3679, 108841: -74103.171, 108842: 93609.4033, 108848: -1033137.8705, 108876: -66409.385, 108973: -491111.7063, 108979: -88260.0891, 109044: 339456.2276, 109079: -1427827.482, 109159: -427772.8229, 109179: 1128385.3727, 109273: 136233.7347, 109438: 417360.7667, 109461: 632284.386, 109472: 191384.9376, 109497: -147325.2343, 109536: 912921.7688, 109773: 184691.4627, 109777: 193038.5641, 109789: -326393.6016, 109911: -537199.6781, 109945: -63877.2625, 109948: -598822.8326, 109963: 274080.8307, 109977: -445203.9032, 109989: 247112.028, 109999: 229160.8, 110075: 106826.3039, 110195: -458117.102, 110207: -183753.2444, 110244: 115387.5011, 110302: -231831.9563, 110440: -449201.4045, 110442: 1346330.4997, 110446: 1369462.8434, 110633: 839221.1845, 110646: -406261.5303, 110703: 341157.443, 110817: -281735.0514, 110851: 263375.7866, 110975: 718757.1011, 110977: -349403.1005, 111015: -347821.1425, 111116: 330632.9812, 111129: 38492.7323, 111231: -518108.1939, 111275: 320239.1726, 111392: -102935.0575, 111419: 29848.88, 111467: -753196.0924, 111534: -84675.6015, 111629: -72579.9981, 111648: -844671.8414, 111667: -240982.9225, 111752: -235404.3329, 111795: -1021952.5343, 111809: 406224.0598, 111944: 265558.5387, 111995: 666766.1553, 112113: 102586.0294, 112316: 113599.9062, 112356: -200472.7462, 112470: 88915.884, 112477: 821738.1617, 112517: 53745.1328, 112570: -39171.6424, 112608: 746770.368, 113038: -790618.6008, 113208: -160376.3712, 113214: -911690.209, 113273: -91422.5271, 113361: 20026.1746, 113519: -363727.7879, 113582: -310066.3835, 113655: 494404.4922, 113658: -318772.3453, 113669: -157750.0741, 113741: -36203.7265, 113770: -501227.3471, 113784: -289810.9113, 113863: -932744.5194, 113874: -82667.1767, 113951: -35772.5247, 114229: 44833.0944, 114311: 48576.4091, 114523: -221251.061, 114586: 14053.6501, 114660: -187562.7226, 114777: 575626.4408, 114839: 929432.5304, 114891: -11298.824, 114929: -164890.6039, 114971: -305916.687, 114993: -342232.8542, 115137: -25824.0416, 115271: 188385.0227, 115349: 220500.2401, 115377: -143635.7217, 115486: -162628.6541, 115551: -226902.4618, 115622: -2511020.8316, 115640: -437179.0956, 115766: -389661.7821, 115780: -79671.5588, 115804: 234641.3234, 115817: -1103272.1924, 115840: 150915.4003, 115933: 701725.4859, 115977: 248988.4041, 115983: -908061.762, 116144: 59296.8392, 116430: 103416.7001, 116539: 435777.3006, 116657: 826028.2368, 116672: -393550.1369, 116684: 249419.6237, 116801: -168701.7671, 116818: -28406.2222, 116987: 134053.4697, 117050: -1433524.8158, 117429: 101643.0539, 117570: -507711.9404, 117685: 317896.7157, 117916: 900067.7448, 118056: -49692.5811, 118085: 234641.3234, 118114: 1165253.7727, 118165: -234881.0929, 118215: -169082.6502, 118336: -489197.4908, 118450: 1026689.9546, 118498: 802591.5611, 118539: -1031128.7499, 118540: 151449.7754, 118606: -1375744.8502, 118609: -121031.0479, 118646: -183858.6615, 118714: 487033.0919, 118732: 756504.7674, 118752: -4192.7326, 118820: -149556.3044, 118938: -90753.9822, 118997: -292441.3355, 119107: 576412.2717, 119163: -491470.1813, 119209: -917.9746, 119421: -244205.5973, 119455: 864936.3032, 119730: -10537.6696, 119742: -719488.3731, 119936: 30261.9638, 120091: 358489.0806, 120158: -479511.3824, 120241: -20518.5794, 120330: 152189.3378, 120411: -14882.4223, 120501: 412787.1473, 120504: 907761.2812, 120514: 832881.6885, 120520: -329627.5489, 120528: 101732.865, 120538: 100875.6588, 120580: -1073482.1204, 120647: 531552.6668, 120658: -132517.9148, 120663: -170509.4012, 120667: 187393.8483, 120738: -462239.7142, 120762: 252559.1331, 120885: -93653.9106, 120904: -796306.4749, 120942: 218038.5256, 120946: -2225441.8834, 120956: -73277.2777, 121039: 114997.5854, 121068: -446754.1285, 121117: -1142682.3141, 121214: -501541.6915, 121230: -20670.9475, 121266: -96330.3209, 121302: 275579.7198, 121490: 75965.934, 121549: -135960.658, 121554: 55876.598, 121699: 412950.2637, 121744: -858879.4339, 121800: 70080.9607, 121802: 308840.2268, 121870: -249948.8128, 122231: 622232.0463, 122275: 107957.2695, 122298: 124487.912, 122381: -10775.8481, 122618: 515652.0432, 122687: 55266.4153, 122851: -1236307.765, 122867: 363434.1234, 122871: 286167.132, 122947: 134449.9103, 123066: -136355.3265, 123070: -157129.0952, 123200: -1381785.4655, 123308: -175010.9311, 123503: 347287.7562, 123571: -202937.9421, 123715: -260498.531, 123805: -175180.2832, 123829: -54657.9657, 123842: 769420.4059, 123853: 54124.9736, 123886: 105787.2887, 123923: -979624.6545, 123988: 141917.9947, 124033: 520858.4788, 124052: -156790.9074, 124102: 285908.3345, 124190: -264229.4822, 124221: 326442.5789, 124238: 435749.4466, 124241: -505668.7733, 124301: -19480.1571, 124547: 596178.7106, 124579: 1047002.0815, 124589: -301430.7199, 124622: -527978.7667, 124684: -555707.4788, 124685: 365015.8509, 124696: 857725.1538, 124736: 104469.5502, 124938: 13246.4844, 124949: -14353.3482, 125015: 314436.041, 125199: -237500.4677, 125324: -468837.861, 125347: -84888.5324, 125504: -371728.2286, 125554: 210097.6213, 125555: 83450.4069, 125604: 341041.3166, 125622: -789715.4156, 125783: -71786.4969, 125785: 278914.8711, 125799: -86484.417, 125835: 10409.69, 126020: -386611.2453, 126195: 213583.9067, 126221: 530715.6715, 126243: -52531.28, 126387: -82348.1693, 126420: -274512.7278, 126623: -369428.094, 126630: 336221.3065, 126680: 1314846.5889, 126697: -50157.2117, 126734: 530509.6287, 126881: -152716.8215, 127203: 99723.5783, 127256: 387054.467, 127322: 161361.6511, 127382: -312992.2544, 127450: -274308.06, 127546: -120336.108, 127612: -247353.5217, 127646: -405963.9268, 127796: -185692.4496, 127851: -313839.9491, 127858: -257779.632, 127872: 172629.2566, 127920: -102507.1045, 127988: 147599.9733, 127992: -281189.727, 128034: 265655.239, 128037: 33313.2673, 128067: 55197.6714, 128219: -329894.9236, 128268: 303701.7454, 128298: 354010.651, 128310: -424016.1482, 128322: -1065930.4857, 128351: 963001.4668, 128409: 301707.5928, 128492: 190154.9771, 128585: 114548.2717, 128600: -831916.5761, 128613: -1065891.5018, 128847: -49743.9516, 128977: 131585.4697, 129031: -1520617.1524, 129035: 232407.6794, 129048: -51653.1759, 129080: 40254.1556, 129132: 81532.0096, 129382: 320972.1067, 129440: 327002.2423, 129514: 495984.7348, 129631: 290160.4911, 129769: 28783.7498, 129797: -17110.9992, 129995: -211548.0821, 130010: -60456.8163, 130052: 808837.0068, 130090: -897483.8699, 130131: -1290520.5173, 130292: -376516.0468, 130401: -540807.956, 130464: -251363.9323, 130507: 257601.8208, 130553: 179141.6789, 130685: -204554.3107, 130879: 134896.3432, 130934: -72931.8124, 131259: 481213.318, 131370: -14882.4223, 131427: -171453.7546, 131433: 214286.2669, 131481: -113796.9915, 131508: -64008.6284, 131546: 96060.6113, 131555: -420908.3054, 131623: -103782.69, 131656: 190864.029, 131674: 672095.9111, 131719: 366290.459, 131760: 86626.7167, 131859: -477417.1594, 131990: 589495.5657, 132014: -155553.5718, 132028: -517937.4133, 132029: 239824.0841, 132047: -66925.5151, 132315: 342436.5282, 132397: 481158.1536, 132426: 463832.4561, 132466: -362452.8759, 132513: 133018.7338, 132531: -90932.7056, 132547: -464061.576, 132558: 92697.5932, 132568: 178986.7309, 132700: -257571.1051, 132783: -199494.2226, 132787: 110697.7315, 132853: 189286.3696, 132859: -449972.4887, 132956: 127504.7472, 133108: 160989.963, 133413: -113607.1756, 133468: -155056.2791, 133488: 114880.5932, 133519: -163130.8333, 133638: -274308.06, 133653: 129656.1885, 133860: 595138.1973, 133885: 324345.2676, 134043: -57539.3998, 134118: 377968.2745, 134262: -458157.3727, 134280: 750460.1364, 134314: -351331.1059, 134338: 94511.1638, 134560: 177754.3129, 134563: -760604.459, 134597: 46538.7098, 134604: -341441.2906, 134628: 81299.8338, 134700: 33434.922, 134725: -231109.5693, 134739: 170293.6196, 134868: -828176.4958, 134984: 385473.4344, 135121: -308647.7224, 135150: -82499.1576, 135205: 236029.9802, 135275: -1167240.8133, 135278: 193816.8734, 135293: 738706.0848, 135338: 913886.1354, 135358: 339627.2634, 135453: 606513.7984, 135464: -192595.9075, 135483: 337160.8952, 135581: 798879.4148, 135627: 357167.2617, 135806: 65149.5291, 136034: 106796.1788, 136057: -270482.0475, 136190: 89689.2597, 136212: 96958.3169, 136269: 62421.7747, 136386: 200212.085, 136483: 468519.8087, 136493: 664113.6222, 136549: 50790.6148, 136558: -307237.2275, 136563: 157851.8805, 136724: -588162.8572, 136734: 361611.0463, 136806: -70726.7712, 136871: 7552.9393, 136904: 277367.7095, 137108: -201945.9976, 137131: 581198.1433, 137157: -463701.3389, 137201: -99807.2418, 137413: 442401.5189, 137536: 109341.1429, 137566: 229160.8, 137693: -477972.4848, 137767: -502592.2139, 137859: 803399.0717, 137899: 52746.2188, 137923: -376322.7123, 138130: -66405.7337, 138256: 1728.3387, 138321: 169838.6317, 138398: 263558.0348, 138416: 878948.2837, 138446: -471175.1248, 138483: -1294569.1785, 138514: 10101.9699, 138687: -588868.9262, 138690: 338263.4116, 138791: 218071.6075, 138843: 14678.3643, 138854: -423906.8001, 138868: -849898.9047, 139000: 388195.8917, 139040: -347663.7, 139046: 204438.2742, 139139: 623251.475, 139152: -1238263.9604, 139174: 457803.9235, 139282: -634102.8574, 139384: 85819.3703, 139737: -606247.5228, 139757: -65153.4265, 139809: -943956.6213, 139853: 257601.8208, 140042: -272801.9342, 140205: -827776.4603, 140338: -216924.7309, 140417: -377315.0649, 140427: -386179.6125, 140530: 32517.5804, 140532: 309501.6032, 140553: -98405.7298, 140562: 420357.3905, 140650: -832411.0602, 140681: -743884.9119, 140750: -802746.9523, 140789: -342776.2512, 140812: -83770.67, 140843: 1316946.7975, 140864: 158373.0629, 140917: -384670.6282, 140928: -682065.232, 140990: -431416.394, 141023: -383218.3509, 141165: -73470.3704, 141173: -292397.7997, 141288: -558156.7719, 141365: 145372.235, 141415: -303723.3963, 141479: 840219.0727, 141486: 99283.7433, 141631: -10648.8323, 141666: 341533.6301, 141672: 238297.6778, 141820: -905676.7479, 141869: -109282.4707, 141877: -200033.0547, 142178: -783510.5562, 142210: 294095.9278, 142259: -86611.0887, 142287: 41117.4323, 142301: -270262.852, 142363: 370523.4348, 142415: 128705.3024, 142459: -211122.8693, 142509: 754993.7225, 142601: -117084.1683, 142666: 73542.6194, 142686: -60088.1265, 142767: -17358.2762, 142933: -15262.5147, 142942: 3437.4709, 143146: -35299.9299, 143164: 200616.4618, 143270: -71605.6369, 143377: -1049303.2675, 143414: 253256.9866, 143459: -1441545.0487, 143520: 799455.0292, 143545: 140308.9298, 143547: 193612.9245, 143705: 1789978.0538, 144030: -203711.8964, 144050: 609806.5939, 144054: 929488.5052, 144112: 321182.0422, 144163: 7677.2643, 144232: -130510.4189, 144253: 10343.0796, 144326: -15480.8165, 144366: 723701.0368, 144517: 501102.5858, 144541: -212262.4889, 144612: -287012.2166, 144752: 30962.0467, 144802: -123667.2826, 144904: -339882.9879, 144914: -571980.8758, 144985: 270673.2153, 145061: -96246.9611, 145208: 134399.5447, 145283: -172667.9103, 145291: 49823.0666, 145460: 497069.285, 145551: 652929.1908, 145688: -114650.1744, 145852: 372992.3358, 145856: 123573.5595, 145896: -438482.9873, 145942: -483002.7806, 145956: 133532.813, 145961: -69367.1226, 145967: -52514.4422, 146027: 106826.3039, 146146: 425761.8234, 146195: -776904.9708, 146319: 203602.235, 146352: 1273775.0469, 146372: -344465.1818, 146472: -305628.6997, 146478: 430598.1048, 146493: 593881.9024, 146603: -454961.8145, 146840: 265507.0799, 146878: -6918.8025, 147050: -136122.9646, 147104: -121788.8319, 147117: 1233841.255, 147184: -463639.2502, 147204: -56321.1678, 147239: -64008.6284, 147283: -350411.2824, 147332: -251959.3452, 147383: -703770.0285, 147434: 163259.7377, 147453: -749243.0494, 147471: -493173.1804, 147591: -1151174.461, 147753: -592357.9294, 147854: 191601.4974, 148129: 125776.3764, 148233: -68180.7215, 148238: -93403.3133, 148262: -112744.5836, 148412: -1326352.3735, 148761: 75518.7807, 148773: -86254.045, 148811: 73887.1196, 148876: -6169.6741, 148894: 132417.612, 148926: 149043.5239, 148979: -912510.8932, 149058: 1006665.0404, 149108: 338124.563, 149126: 59083.8614, 149178: -510325.516, 149270: 112070.4311, 149400: -242945.273, 149488: 770535.2629, 149548: 7552.9393, 149554: 629347.2866, 149815: -362787.6514, 149976: 307063.3722, 150122: 160989.963, 150345: 157489.2463, 150377: 61616.6604, 150378: 7412.367, 150412: -646586.1918, 150489: 36468.7905, 150655: 109617.0963, 150726: 274186.9461, 151068: 675231.5857, 151170: -387271.1704, 151216: -471228.0336, 151320: 39065.1665, 151352: 40968.2117, 151391: 505356.9265, 151567: -480592.3661, 151589: 650360.4212, 151638: 158373.0629, 151667: 1086672.0174, 151722: -658415.0658, 151731: -264095.1764, 151878: -40175.367, 151879: -476465.7217, 151978: -700430.9665, 152006: 1186912.1403, 152061: -161951.0476, 152100: 224948.5165, 152184: 31534.4261, 152394: 93410.2225, 152479: -155705.0067, 152554: 647794.2014, 152624: 413324.1436, 152641: -1083944.9287, 153020: -82499.1576, 153024: 831490.8873, 153029: 154744.2762, 153053: -402927.283, 153290: -67183.4231, 153320: -359840.4856, 153416: -489917.5926, 153540: -247445.7533, 153549: 966655.8212, 153572: -18079.3778, 153744: -156274.4254, 153813: 88175.55, 153945: 554250.8832, 153981: 53707.6857, 154186: 506360.5723, 154217: 13651.5444, 154298: -88796.3078, 154305: -250602.1461, 154396: -154596.2698, 154583: -985408.427, 154633: 175184.0605, 154794: 1259309.1873, 154894: -446888.7068, 154909: -121791.2297, 154935: -114190.6574, 154966: 16985.1328, 154985: 1902.5437, 155033: -294506.8068, 155135: 62812.1647, 155349: -135891.6571, 155377: 820723.151, 155645: -619828.11, 155732: 997553.6292, 155790: -89704.4326, 155909: -85775.0544, 155944: -81255.3751, 155945: -64251.5008, 156042: -86908.1151, 156062: 381162.4557, 156124: 629804.4137, 156162: -704294.9102, 156180: -596582.0892, 156339: -1009538.7994, 156346: -806956.0402, 156369: 601091.5571, 156434: 384719.1026, 156440: 388724.9455, 156755: -77135.9754, 156771: 14268.775, 156812: 49556.6371, 156861: -44702.3279, 157041: 213216.1834, 157044: -208232.7344, 157128: -75539.5247, 157133: 259287.093, 157134: -52140.3422, 157136: 492174.125, 157209: 1252577.2775, 157309: 2040019.1375, 157444: 137391.7292, 157567: -349740.4224, 157641: 411174.6792, 157667: -439100.6408, 157686: 22580.7475, 157727: -83564.1227, 157759: 768777.1214, 157760: -1173815.9752, 157841: 238473.8502, 157903: 509888.0636, 157961: 813055.8101, 158069: 104677.3277, 158086: 579236.1682, 158124: -57842.2302, 158172: -1237732.2795, 158271: -224027.508, 158323: 783522.9288, 158331: -426278.68, 158412: 507457.932, 158465: 45762.9043, 158482: -768229.0405, 158524: -152346.5701, 158544: 307078.2275, 158576: 42102.0249, 158587: 1902.5437, 158691: -89395.0588, 158720: -228452.0703, 158794: 749546.6239, 158815: -417597.871, 158818: -538241.5683, 158837: -380804.2265, 158854: 1355413.4464, 158870: 19207.8916, 158930: 170004.0573, 158987: 578120.8868, 159079: -220701.2511, 159211: -15098.0554, 159261: -858347.3425, 159309: -1053332.8735, 159359: 18111.594, 159372: -2464.7759, 159403: -283766.3203, 159453: -225771.1636, 159634: -913506.5671, 159813: -182983.5828, 159830: 178664.3798, 159892: -143959.6138, 159941: -151568.7187, 160034: -1371209.2229, 160045: -134257.1427, 160185: 209243.4536, 160230: -767278.5479, 160341: -520516.195, 160346: -195145.7698, 160460: 427686.0008, 160526: -944571.1301, 160585: 416217.3899, 160786: 572338.0826, 160932: 419595.0926, 161013: 187318.9052, 161030: 361132.6368, 161110: 725657.6012, 161196: -237500.4677, 161383: 232139.617, 161493: -699270.954, 161570: 174558.4131, 161671: 11394935.0088, 161768: 743054.0851, 161770: 462863.7308, 161787: -46912.7219, 161806: -144573.2034, 162010: 1283913.0777, 162042: -89219.7912, 162082: -50218.5312, 162144: 31315.1196, 162148: 1407105.3097, 162169: 230113.0357, 162185: 216735.1886, 162238: 347535.8206, 162243: 519162.9091, 162302: 7412.367, 162321: -747390.1579, 162376: -329894.9236, 162448: -35772.5247, 162544: -435576.6421, 162595: 279871.8181, 162617: -57909.8324, 162736: 80636.555, 162775: -1145497.3641, 162782: 110632.6519, 162813: 2398.9545, 162868: 587100.8136, 162942: 877025.1292, 162962: 512159.4932, 162972: -829420.2675, 163030: 869950.2691, 163091: -501281.442, 163103: -279934.0674, 163264: -727525.3313, 163367: 478538.4063, 163488: 349898.0932, 163545: 1038180.1874, 163618: -837644.3966, 163693: 81584.6309, 163694: 171955.2004, 163706: 768879.2443, 163790: -331709.5207, 163793: 1011165.6364, 163798: -841863.2215, 163830: 1381324.1274, 163900: 131067.5385, 163917: -204832.3268, 163925: -66337.1175, 164047: 889794.559, 164367: 161394.7355, 164389: 562911.0102, 164719: 340026.312, 164742: -697587.4868, 164892: -47969.6436, 165199: 115228.9972, 165214: -142684.8037, 165262: -631105.8221, 165342: -221753.3271, 165398: 368253.6941, 165445: 964179.9342, 165579: 248367.6039, 165625: 209656.962, 165750: -1959.6692, 165907: -479819.535, 165913: -91312.3134, 165930: -668359.9036, 165991: 441963.5584, 166069: 122438.0729, 166133: 20026.1746, 166217: 937794.43, 166274: 73979.4864, 166325: 850214.1284, 166386: 896020.178, 166459: 853104.4812, 166630: -257877.9744, 166759: 1024564.9622, 166813: 1125647.7549, 166881: 178270.1049, 166887: 69253.3976, 166920: 3215.383, 166989: 106826.3039, 167034: -91139.046, 167039: 169921.9537, 167193: 715685.53, 167199: -573909.1957, 167225: -1456866.0725, 167236: 41316.3489, 167260: -631922.2577, 167293: -80742.7122, 167294: 367239.1126, 167299: -266252.7738, 167372: 9422.553, 167374: -108005.122, 167472: 529413.5383, 167478: 166748.5468, 167708: 264914.9848, 167718: -84888.5324, 167750: 832392.8964, 167875: 84684.7812, 167968: 1109111.5418, 168162: -293606.6412, 168290: 164991.0814, 168394: -618082.8965, 168490: -1241672.8338, 168529: 324994.2322, 168552: -53034.988, 168604: 189286.3696, 168682: 143092.9728, 168757: -1047069.4987, 168789: -647312.5, 168849: -137568.8862, 168912: -80966.5056, 168972: 289993.4381, 168973: 362236.6482, 168977: 243350.7783, 169029: -81407.2162, 169044: 423722.4442, 169121: 123774.6724, 169126: -254324.4841, 169203: 432153.5175, 169239: 618592.9911, 169289: -131319.4275, 169295: 82270.1687, 169304: 76863.8071, 169310: 69037.9535, 169351: -332955.7149, 169374: -870137.2386, 169430: -220168.5598, 169451: 1000137.7692, 169571: -38687.1972, 169596: -311498.9999, 169857: -230387.3634, 169909: 1093215.353, 169975: 330988.0044, 170204: -3183.9179, 170207: -208224.6156, 170361: -332955.7149, 170429: -91698.2345, 170512: -30690.9459, 170676: -334972.7755, 170968: -443956.7, 171174: 489985.8536, 171200: 4476.8627, 171295: -144023.5415, 171388: -72459.2582, 171437: 150525.014, 171486: 10359.7724, 171490: -2239.34, 171574: 1259639.351, 171578: 173751.9606, 171588: 245889.4422, 171622: -86561.3191, 171760: -49946.1278, 171772: 78907.0308, 171787: 1118289.7318, 171820: -491579.6701, 171894: -58544.8942, 171908: -44737.5875, 171945: 808507.7392, 171974: 1165531.213, 171995: -1030952.9095, 172190: 433193.3397, 172214: -7617.6435, 172228: -82002.5677, 172249: 26176.1545, 172274: 239263.2033, 172367: 14889.3691, 172474: -495523.915, 172489: 282530.0894, 172566: 883729.6476, 172600: -98584.7763, 172665: -14388.433, 172689: 788401.2157, 172693: 379123.0783, 172714: -588246.1299, 172740: -276218.8792, 172743: -1408209.5773, 172902: -114253.8521, 172936: 87146.2157, 172945: 749615.4212, 172975: 16898.6448, 173011: 207468.594, 173103: -1415093.3395, 173141: -995643.0282, 173190: 773826.8147, 173298: -164586.566, 173550: -449166.5216, 173602: 1487322.4635, 173801: -173277.6383, 173925: -823708.0256, 173963: 12951.09, 173974: 3978.3877, 174061: -2343516.7803, 174116: 204898.0037, 174119: -1347303.7137, 174160: 392627.1351, 174166: 256783.6924, 174204: 693788.0797, 174454: 753398.8542, 174476: 62178.1773, 174510: -256101.2049, 174557: 1305855.5453, 174630: -871782.4162, 174702: -497173.0858, 174703: -1030273.5716, 174731: -952025.2154, 174768: 164693.8974, 174792: 131067.5385, 174964: 488221.6602, 175069: -118334.678, 175122: 264733.1067, 175173: 10343.0796, 175421: -174212.7321, 175424: -637435.1886, 175487: 206325.7234, 175641: 228640.8829, 175696: -681057.212, 175740: 7463.3681, 175853: -949222.2272, 176043: -455586.1219, 176101: -1375657.6501, 176147: 358738.7093, 176179: 107562.5315, 176309: 19253.8809, 176484: 302170.9756, 176592: 951274.1799, 176654: -949384.1562, 176665: -81984.0717, 176673: 24754.4904, 176690: -485895.3208, 176732: -784562.3606, 176745: -867832.7339, 176747: 372448.052, 176929: 545386.7363, 177044: -565478.3487, 177083: -305240.1355, 177089: 1122002.3099, 177119: 147227.324, 177135: -127352.3967, 177333: -488165.4938, 177512: 418627.9148, 177594: -1073813.1954, 177619: -313188.1144, 177772: 473816.1522, 177828: 181465.7125, 177847: 835601.3283, 177999: 332053.5188, 178275: -171446.6281, 178298: 955190.8472, 178299: 504236.6052, 178383: 97886.9559, 178597: -34456.0274, 178611: 953571.4524, 178703: 140976.2942, 178802: 327193.8302, 178827: 301021.4765, 179000: 138603.9941, 179041: 197304.0849, 179053: 243171.0985, 179136: -128005.9283, 179162: 232105.4256, 179357: 1330012.9068, 179461: 133032.0897, 179484: 136167.5098, 179593: 82245.5776, 179689: -281331.8501, 179713: -89395.0588, 179816: -980580.1123, 179835: -116004.7221, 179879: -1144316.0124, 179893: 207731.6837, 180013: -1000247.0707, 180102: -202060.6777, 180281: -99856.6271, 180364: 50020.6227, 180397: -223251.8669, 180398: -1536646.8365, 180635: 35479.7959, 180788: -536971.4586, 180807: -283618.2577, 180866: -247146.2093, 181101: 98434.2085, 181166: -249688.9717, 181239: -91422.5271, 181318: 218368.0154, 181400: 581738.9759, 181456: -171485.4325, 181609: -103866.9564, 181728: -222609.3789, 181787: 878336.2566, 181878: -106686.0731, 181998: 792348.5532, 182105: 560211.4498, 182118: -1209414.6078, 182136: -502516.6826, 182224: 606916.3065, 182243: 52492.545, 182387: 344076.0594, 182620: -1639160.9169, 182677: -209982.5343, 182807: 118752.5911, 182828: -612776.7298, 182852: -103789.5812, 182904: 147214.8328, 182959: -189758.1407, 182970: -187144.3517, 182977: -58867.3762, 183026: -148819.8512, 183095: 267268.9305, 183191: 170434.4909, 183275: -520760.2555, 183464: -435448.829, 183521: -991086.2973, 183573: 690748.2095, 183651: -73557.0056, 183874: -79460.7761, 183886: -900501.3866, 184137: 270048.5997, 184229: 60378.3054, 184292: 149599.4399, 184319: -544978.3613, 184564: 169325.1155, 184578: -454472.3001, 184744: 275359.6787, 184771: 421022.1583, 184787: 19560.7854, 184833: -171446.6281, 184893: -220701.2511, 184903: 638698.2457, 184909: -40222.2311, 184960: -1027079.5475, 185077: 916940.3095, 185090: -532020.3242, 185098: 29141.4222, 185154: -230970.201, 185202: -2193142.3706, 185246: 102613.7044, 185316: -465780.126, 185329: -692448.2606, 185346: 264001.9586, 185391: 1137499.12, 185407: 164007.1904, 185542: 120691.4035, 185634: 384700.0519, 185720: 893203.8074, 185831: 457895.9821, 185935: -147875.0649, 186034: -418373.0646, 186098: 919260.1283, 186541: -234521.3291, 186699: 304468.4373, 186771: -617158.0906, 186897: -189758.1407, 186940: -431422.0195, 187068: -62771.6329, 187222: -1175491.7129, 187361: -704723.5448, 187381: 58555.5818, 187420: 155547.6718, 187503: 101936.6456, 187673: -218965.2251, 187803: -389696.9835, 187873: 365752.6445, 187924: 132597.0588, 188051: 14347.7682, 188667: 119787.8837, 188668: 24888.9578, 188669: -163675.8036, 188681: -209327.1879, 188773: -453520.0215, 188790: 192588.3129, 188883: -145752.1832, 188992: -179137.9397, 189211: 1187875.1282, 189236: 98758.6861, 189339: -123006.2661, 189430: 1159312.802, 189495: 1385876.2556, 189668: 519273.0122, 189707: -211552.2607, 190046: 230928.4083, 190077: 234661.3771, 190317: -572486.07, 190350: -455398.9425, 190431: -835883.55, 190505: 73029.3123, 190507: -195701.099, 190553: -405780.1002, 190741: 17679.645, 190827: 182740.5199, 190835: -244270.1664, 190839: 40883.7204, 190991: 57056.8307, 191059: -103437.0537, 191133: -72164.4375, 191346: 154744.2762, 191351: 6336.1623, 191366: 248367.6039, 191609: -193607.651, 191638: 547895.4493, 191723: 375652.248, 191731: 141745.836, 191966: -183979.6421, 191985: -116082.134, 192097: -167452.8873, 192113: -281142.9064, 192185: 131067.5385, 192188: -234419.1048, 192255: 1857595.5002, 192411: 459197.0751, 192613: 252205.6963, 192665: -235404.3329, 192806: -26083.0207, 192889: 1250806.7543, 192891: 152819.7762, 192926: 98434.2085, 192977: -597963.631, 192996: 3215.383, 193051: 1342587.081, 193097: -97061.4855, 193195: 899487.4049, 193331: 208899.2528, 193625: 497838.1425, 193691: 72836.8342, 193725: -153960.505, 193738: -657762.4474, 193765: 149632.6996, 193775: -1288630.4478, 193832: 185496.2546, 193873: 502289.1302, 193971: -592541.0126, 194081: -19965.2015, 194223: -500126.7464, 194252: -52531.28, 194352: 20555.3241, 194577: 107331.5004, 194643: 301786.4098, 194809: 938760.5717, 194816: 1084208.7108, 194827: 95509.9417, 194844: 293796.1083, 194932: 1316316.9963, 195045: 602550.3402, 195101: -51113.2554, 195111: -1372749.4414, 195189: 774336.8786, 195251: -351464.9272, 195428: -631928.4761, 195445: 18693.8285, 195642: -24358.8129, 195760: -180707.9551, 195797: 40238.8416, 195809: 343900.0512, 195833: -25147.9838, 196043: -797898.0478, 196136: -189401.4053, 196149: 14647.0327, 196172: 839896.8109, 196301: -198266.0224, 196395: 441158.9072, 196524: 158879.4487, 196576: -171816.0074, 196630: -133286.2579, 196646: 1741465.2425, 196754: -455265.6794, 196795: 370185.9788, 196862: 357354.0231, 196871: 836299.4783, 197048: 344335.4676, 197067: 151241.81, 197102: -316475.1798, 197158: -583329.5468, 197270: -149988.6937, 197281: -608236.2767, 197415: 33175.1917, 197455: -185900.0154, 197462: 144913.843, 197504: 1183066.5903, 197542: -15481.7053, 197589: 86221.4469, 197750: 1020748.9165, 197850: 158299.7738, 197866: 678403.5615, 197881: -364040.6432, 197927: 609805.607, 198044: 90983.2743, 198090: 753789.3251, 198155: -575954.2239, 198164: -10946.6163, 198199: -290285.5836, 198318: -227811.9255, 198330: 1287415.0673, 198358: 653856.262, 198432: -282991.4238, 198522: 234980.5988, 198637: 221298.2366, 198673: 497692.7226, 198698: 269218.6587, 198960: 90221.1626, 198963: -668935.9975, 199257: -364040.6432, 199270: -65722.8523, 199282: -328920.17, 199373: 129214.8072, 199389: -457710.9747, 199441: -1003698.6905, 199656: -28320.9832, 199668: 287900.4908, 199855: 169784.9281, 199944: -594849.9917, 199982: -57741.7921, 200278: 293249.9637, 200281: 353330.6932, 200316: 682269.2709, 200353: 54448.4704, 200794: 866370.792, 200854: 253443.2216, 200910: 402181.1477, 201197: 375186.8292, 201477: -477130.8333, 201488: -284760.9204, 201610: 283918.8174, 201614: 208233.7731, 201626: -858965.6416, 201697: -240982.9225, 201954: 59953.5025, 201979: 266882.9973, 201981: 265655.239, 202056: -441528.1169, 202163: -448650.5391, 202188: -482900.0779, 202293: -153235.949, 202371: -1093323.4837, 202502: 129167.2791, 202598: -122675.5285, 202642: 866770.1219, 202766: -385339.2339, 202767: 207408.386, 202939: 867396.0337, 202976: 369426.3582, 203010: -232548.3189, 203013: 639668.3842, 203026: 1286913.0661, 203028: 55028.0321, 203057: -413792.6905, 203178: -292217.9933, 203179: 213330.8548, 203330: -372222.5132, 203611: -797141.7452, 203617: -287270.3532, 203781: 156946.6793, 203836: -641080.8849, 203956: -598822.8326, 203967: 1707866.9665, 204046: 127125.3322, 204073: -381680.1294, 204085: -132554.2169, 204191: 454902.6815, 204288: -655404.1529, 204354: -391872.5753, 204369: -343925.7232, 204525: 3445.7337, 204581: 13246.4844, 204676: 194333.6914, 204811: -256693.0154, 205000: -826558.3528, 205172: -294370.9633, 205219: 366012.0492, 205356: -289168.0622, 205363: -1700157.0378, 205478: 295486.2429, 205533: 815830.3634, 205605: -331751.9232, 205713: -67042.3895, 205752: 189593.4909, 205775: -135802.2558, 205799: 511566.9889, 205854: -946112.6998, 205977: -203473.4722, 206041: -442838.7016, 206242: 226186.4341, 206324: -91743.9075, 206356: -119319.4574, 206387: -210445.1349, 206471: -2101909.3473, 206527: -522119.6514, 206531: -294484.8191, 206678: 385883.9169, 206848: 540910.7114, 206924: 129656.1885, 206965: -346013.2121, 207009: 409888.2177, 207062: 532203.5681, 207086: -174418.6088, 207116: -847649.6666, 207118: 252301.6174, 207126: -513290.0235, 207474: 1298774.4517, 207478: 274643.1363, 207584: 290673.379, 207687: -97687.0035, 207701: -336029.6437, 207704: -99807.2418, 207723: -397820.0207, 207732: 152734.1524, 207848: 158002.5664, 207901: 4111.0214, 207958: 1133813.876, 208109: -56819.275, 208187: -363999.851, 208203: -152495.3451, 208228: -245630.8805, 208277: 175143.9529, 208346: -82002.5677, 208630: -646957.9612, 208795: -594385.066, 208892: -520949.333, 208929: -922814.7402, 208953: -1546601.6043, 209020: -188773.0756, 209034: 67365.0023, 209110: -130477.1077, 209152: 795733.7883, 209355: 513602.7442, 209475: 377613.4073, 209533: 303602.9903, 209540: -423890.0503, 209652: 20603.082, 209743: 347341.8075, 209874: 77030.8743, 210006: 147599.9733, 210033: -371840.6657, 210167: 390837.4475, 210206: -661407.8871, 210317: 320339.4017, 210424: 420446.0993, 210604: -861202.9557, 210711: -43972.1242, 210865: -46841.2598, 210902: -658474.7205, 211093: 150277.5784, 211186: -68823.4542, 211228: -225525.1423, 211260: -1218512.6366, 211286: -389087.0197, 211290: 41797.6104, 211418: -395288.965, 211514: 382141.5185, 211651: 298552.938, 211731: -1185552.5099, 211796: 47563.9152, 211902: -586658.8356, 211903: -142379.7697, 211986: 362323.612, 211991: 1232499.3555, 212104: 166523.6721, 212270: 279619.0143, 212306: 135295.0885, 212330: 143109.1852, 212366: -422089.391, 212443: 132025.2372, 212461: -875947.3482, 212496: -114650.1744, 212664: 715926.7243, 212700: -234641.9004, 212771: -446368.4192, 212772: 438958.792, 212802: 78462.8911, 212815: -473205.8364, 212834: 302151.3493, 213156: 876772.4851, 213159: 196761.0698, 213185: -291296.9818, 213207: -362243.0045, 213222: 471034.1848, 213250: 10101.9699, 213279: -1080487.1124, 213328: -57475.5607, 213502: -397087.3419, 213582: 885505.9763, 213584: 395335.4261, 213631: 387379.5603, 213674: 423722.4442, 213759: 253577.9803, 213773: -204708.9375, 213810: 324326.159, 213836: 428451.2644, 213888: -1481517.34, 213922: -616221.9433, 213925: -400389.0474, 214210: -555171.6544, 214252: 238473.8502, 214342: -105453.4225, 214357: 217702.1033, 214406: -685100.004, 214546: -115930.4968, 214664: -305797.8443, 214731: 663688.827, 214739: 1344959.7663, 214756: -102017.7357, 214835: -491067.4694, 214896: 270842.6819, 215746: 762620.9242, 215828: -559091.4258, 215874: 457803.9235, 215969: 133946.4547, 215971: -4192.7326, 216151: 769651.8727, 216178: 1123737.9233, 216189: -424016.1482, 216221: -383.6756, 216245: 762580.279, 216261: 113277.7504, 216535: 128922.5044, 216596: 604255.1767, 216617: 105752.855, 216656: 384154.2207, 216733: 419280.4305, 216745: -540210.7669, 216756: 667659.3046, 216804: 1408336.9996, 217142: -743886.8163, 217207: -209379.8184, 217289: -351268.3841, 217316: -57909.8324, 217409: 326700.9444, 217427: 273157.2434, 217461: 110485.8947, 217546: -290677.43, 217549: 587033.422, 217575: -414415.7372, 217600: -313188.1144, 217649: 104091.2063, 217661: 334881.2308, 217764: -67187.5774, 217856: -38138.0837, 217947: -521866.4491, 218082: 9516.2695, 218097: 362882.9424, 218280: 252205.6963, 218297: 65315.6056, 218307: -1495639.8273, 218444: -775844.7514, 218521: -415512.1268, 218570: 370452.6845, 218646: 70697.341, 218679: 1776413.1019, 218691: 715137.5895, 218824: 454675.7002, 218831: 980057.6463, 218841: -534186.4714, 218899: 224238.0129, 218926: 79847.1186, 219038: -27994.1098, 219074: -729045.6554, 219099: -354896.8017, 219115: -47374.5914, 219202: 265865.7958, 219237: 668116.5758, 219255: -336401.9594, 219272: 461111.3173, 219275: 105669.6743, 219398: -377383.8018, 219540: 289424.9442, 219648: 132442.6735, 219696: 748094.5209, 219713: -720400.4154, 219761: -127283.7483, 219848: 65331.6694, 219954: -221390.5726, 220038: 331764.8687, 220096: -237.8508, 220135: -346023.7733, 220143: 625566.8806, 220149: 65889.9024, 220183: -783698.4774, 220372: -193160.5554, 220445: -842326.5689, 220458: 612833.6443, 220486: 252313.1494, 220498: 290708.7995, 220507: 619948.4928, 220558: 153732.9798, 220675: -6332.3551, 220741: -137457.8213, 220760: 59505.5321, 220806: 261624.5333, 220859: 467924.2423, 220863: -513209.6533, 220919: -434937.2023, 220966: 911257.7449, 220973: 154527.9018, 220992: -14570.2126, 221045: 253785.3437, 221124: -164311.8931, 221153: 81351.0872, 221172: 38203.1922, 221190: -133238.1669, 221197: -184481.2426, 221403: -996623.1222, 221688: 176612.4486, 221753: 403903.543, 221794: -72567.7707, 221825: 734540.1288, 221877: -1123114.2613, 221895: 276259.1106, 221945: -217432.7871, 222079: 362199.4465, 222527: -1098254.5388, 222689: -358493.2511, 222724: 330525.4214, 222788: 176442.7914, 222952: 1430522.6718, 222998: -930257.5203, 223011: 253994.5143, 223026: -376140.982, 223028: -226214.2207, 223066: 109085.3282, 223119: -271211.9114, 223155: -329429.5025, 223156: -519321.3994, 223202: -93587.2306, 223235: 1022864.5886, 223339: 348287.9985, 223397: 493879.6278, 223598: 39358.8901, 223662: -86188.553, 223671: 346679.621, 223683: 226542.3781, 223690: -44364.9623, 223774: 501387.2587, 223795: 758835.5681, 223822: 526370.4025, 223836: -884881.8973, 223908: -1103343.6616, 224075: 321620.7112, 224273: 1075002.8704, 224310: -13717.8083, 224392: 90600.4595, 224631: 701665.2187, 224661: -327979.4153, 224666: 386882.1359, 224675: 56130.7752, 224679: 602651.256, 224807: -952685.7305, 224838: -550371.1138, 224930: 525117.6257, 225110: -807651.6689, 225181: 34647.4592, 225185: 318973.5443, 225399: -315724.8946, 225412: 525750.2888, 225477: 416193.2599, 225577: -945457.9705, 225610: -280067.3147, 225695: 275645.6271, 225742: 78907.0308, 225762: 38446.0747, 225771: 302113.0274, 226070: -641051.7417, 226242: 189226.1498, 226390: -88796.3078, 226440: -396909.9921, 226445: 835290.4986, 226518: -267112.3343, 226546: 1270461.215, 226705: -178086.8916, 226775: 126442.9297, 226777: 274585.9104, 226811: -230075.6703, 226844: -545614.0862, 227021: -2692.5227, 227092: -170219.1699, 227289: 786148.9815, 227339: -14683.4337, 227383: -1271883.2583, 227411: -381193.6124, 227421: 364143.5977, 227610: -425268.0421, 227667: -117766.0012, 227680: 359232.8876, 227703: 474332.5364, 227834: 10594.6526, 227910: -582915.2865, 227960: 985449.1274, 227980: -414136.0462, 228083: -1470840.1686, 228095: -33656.6392, 228172: 474539.0165, 228177: 141745.836, 228248: -620241.4762, 228252: -200080.7997, 228492: -1132751.1456, 228680: 1029188.1185, 228725: -164048.9801, 228767: -221753.3271, 228788: 320619.7704, 228843: -3924.1861, 228927: -57539.3998, 228952: 48503.8956, 228959: 265463.74, 228989: -119965.5548, 229009: -293521.8302, 229026: -355091.2825, 229089: 1019566.8898, 229214: -949900.0757, 229295: 167029.1783, 229328: 706915.6202, 229356: 185186.1102, 229388: -342905.4236, 229557: 114907.8769, 229637: 159327.5365, 229823: 98741.0138, 229838: -305477.898, 229861: 348431.105, 229864: -1002066.8888, 229967: -156902.3687, 229989: 1172834.2509, 230056: 110207.1619, 230123: -189110.6874, 230212: -209969.4324, 230290: -1002066.8888, 230382: -963036.3873, 230403: 288205.5421, 230474: 313428.9659, 230501: -169280.9818, 230562: 208182.5039, 230572: -106689.8241, 230649: -1104808.8627, 230719: 138552.3743, 230835: 330121.3545, 230864: -111042.4927, 230936: 558083.9232, 230950: 442211.1858, 231080: -224240.9159, 231109: -211876.2825, 231375: -114988.3275, 231385: 298702.776, 231653: 73542.6194, 232137: -172620.764, 232173: 482564.382, 232235: -788783.4967, 232308: -259098.5611, 232497: 75446.4534, 232499: 16087.0313, 232566: 487023.3326, 232571: -383597.6567, 232683: 351658.5109, 232787: -218024.2164, 232819: 1557153.6206, 232836: -146652.7415, 232879: 745833.629, 232889: -272689.8062, 233027: -30330.9082, 233076: 485316.2902, 233187: -147061.4424, 233514: -540094.994, 233755: 578045.1458, 233772: -587158.3596, 233783: -45974.0274, 233833: -474430.3279, 233848: -419131.0726, 233894: 103097.5466, 233918: -353678.8978, 233930: -711667.2621, 233939: -370682.0873, 233995: -188530.7944, 233998: 411017.6127, 234040: -248920.5076, 234055: -305240.1355, 234199: 287270.2778, 234231: 101153.1558, 234466: 143855.954, 234526: -308761.3082, 234695: -856306.781, 234718: -51561.4119, 234792: -551366.5671, 234802: -653559.5477, 234916: -124441.7018, 235005: 142440.603, 235085: -277755.5882, 235159: -237.8508, 235331: -150184.966, 235356: 640041.565, 235389: 345535.4354, 235429: -132938.6282, 235501: 102790.801, 235741: 143975.3828, 235752: 1057235.2908, 235847: -310066.3835, 235946: 46165.7577, 236086: 430550.3868, 236091: 142440.603, 236232: 75949.4038, 236268: -44963.7301, 236483: -66644.3926, 236529: -344004.7113, 236838: 481853.5419, 237079: 582916.369, 237103: -367210.1877, 237158: 85918.2655, 237179: 164007.1904, 237309: 576358.1917, 237482: -61736.6035, 237501: 634428.4785, 237619: -591101.607, 237674: -19375.4676, 237748: -369289.3844, 237757: 369426.3582, 237827: 296335.9404, 237933: -205733.1259, 237960: -98805.8593, 237977: -866118.0085, 238110: -63611.0363, 238117: 391777.1145, 238139: -441561.0796, 238277: 1054738.3591, 238363: -11953.7546, 238461: -402439.9227, 238480: -155667.3676, 238504: 71666.1341, 238535: -351268.3841, 238629: 2076674.5198, 238668: 1176621.0808, 238754: 278637.5768, 238865: 663858.0856, 238980: 126469.17, 239027: -519594.2907, 239032: 323815.3482, 239074: 155063.8328, 239139: 173751.9885, 239308: -473809.8316, 239409: 674174.385, 239437: -96101.537, 239460: -928289.8558, 239589: -941703.8874, 239626: 34508.7967, 239634: -328743.6879, 239647: 151514.6681, 239780: -348506.917, 239814: 29954.4429, 239816: 40036.3438, 239913: -92862.2248, 239988: -415199.6525, 240081: 337796.2734, 240428: 330019.2587, 240490: 23112.9236, 240500: 189149.2907, 240531: -455177.412, 240607: 185888.588, 240615: -21708.6728, 240869: 546839.1413, 240913: -648862.5917, 240919: 40843.6619, 240975: -104414.3637, 241005: 12285.7036, 241281: -901518.8352, 241340: 671992.9958, 241521: -215366.3024, 241623: -631928.4761, 241636: -144023.5415, 241913: 628543.7823, 241983: 231147.6751, 242113: -50029.9159, 242156: -125561.3965, 242207: 566017.034, 242465: -35014.3648, 242509: -607802.2579, 242696: -576676.8088, 242730: -247443.069, 242777: 361136.8987, 242952: -96246.9611, 242995: 720492.2352, 243166: 85606.4607, 243222: -178988.9659, 243258: -566487.3783, 243446: 478133.6753, 243468: 858169.1336, 243529: -13920.9082, 243691: 56435.2731, 243762: -158324.2494, 243820: 922741.6824, 243969: 50054.462, 244101: 208182.5039, 244114: -317029.8951, 244224: -503896.9944, 244389: -365472.0999, 244635: 474442.6207, 244642: 217900.8301, 244707: 246005.1219, 244873: -73281.055, 244908: -250293.7293, 244911: -241605.8241, 245004: -193284.6493, 245100: 63167.6844, 245169: 1390625.1096, 245342: -364500.499, 245348: 415824.7613, 245566: 10124.0438, 245636: -15630.8615, 245736: -454774.3066, 245741: 39955.0875, 245752: 486184.988, 245796: -30061.2783, 245805: 12471.8218, 245839: 88451.3095, 245877: -402263.4003, 245897: 15356.2774, 245922: -340439.3258, 245950: 870899.2305, 245960: -23301.5728, 245963: -213514.6874, 246009: -417686.5324, 246043: 447553.239, 246055: -270262.852, 246107: 451064.0076, 246182: 248285.3699, 246211: 729062.8322, 246270: -324009.2536, 246330: -1197060.709, 246360: 699470.4946, 246444: -110558.9961, 246470: 111783.4328, 246550: -287537.3274, 246560: 103750.7234, 246592: 1378703.9492, 246788: -141748.8545, 246847: -30690.9459, 246858: 90221.1626, 246879: 116359.0899, 246897: -360809.3148, 246904: 2001.004, 246943: 1168361.0474, 246967: -202937.9421, 247094: 189286.3696, 247184: 1233924.0009, 247215: 219463.2562, 247432: 110488.0799, 247453: -148839.5629, 247608: -669361.293, 247753: -212116.6288, 247791: -275744.7836, 247847: -2348053.3723, 247952: 226740.8856, 247955: -246981.889, 248056: -57551.2217, 248104: 202426.7374, 248110: 270739.8479, 248112: -47553.404, 248113: -965612.1599, 248169: -793614.2967, 248185: -466827.8025, 248288: 29379.3256, 248427: 112817.3703, 248428: -468898.6655, 248498: 47710.2681, 248567: 6558.2612, 248609: -134207.5173, 248829: -222551.1593, 248833: -173433.0695, 248840: 287640.7866, 248906: -514945.1852, 248940: 353721.3423, 248989: -96513.62, 249023: -1046187.0605, 249156: 554611.4538, 249214: 798712.3023, 249250: -43524.8415, 249287: 330525.4214, 249297: 1134923.6332, 249365: -142784.3412, 249438: -194492.1904, 249446: -585918.4409, 249611: 355504.8288, 249888: -110832.7773, 249925: -476405.2844, 249973: -125219.1468, 250044: 258938.4155, 250126: 44388.8874, 250153: 82081.9012, 250163: -440075.7955, 250272: 548948.8069, 250327: -20023.273, 250365: -515921.9803, 250420: -334143.9156, 250771: 714214.4974, 250780: -931632.789, 250812: 209042.0393, 250862: -434048.0981, 250947: -610803.917, 250981: 210907.0844, 251052: -486724.493, 251155: -17025.3425, 251275: 69837.1363, 251311: 13103.3101, 251337: 610882.97, 251371: -90113.0051, 251375: -1072119.9014, 251380: 88175.55, 251646: 29379.3256, 251662: 87884.1919, 251669: 13706.0384, 251673: 313723.8726, 251680: 145822.9959, 251840: -68956.5148, 251870: 187899.1053, 251872: 173498.6869, 251897: 177309.5082, 251960: -91867.3911, 252061: 1239462.884, 252086: -296279.77, 252103: 216949.7387, 252111: -382696.8351, 252211: -130929.546, 252214: -299754.8016, 252275: -218186.2486, 252610: -234083.2286, 252663: 29848.88, 252719: -51899.9469, 252856: -270061.9988, 252900: -235859.5609, 252927: 1585626.5079, 252973: -940499.5327, 253068: 127575.9005, 253092: 384154.2207, 253190: 168781.9294, 253259: 997503.4526, 253285: -49999.9118, 253311: 218247.8533, 253341: -659539.8378, 253541: -952726.9232, 253565: -559858.6886, 253624: 696974.5114, 253800: 917888.177, 254039: 255514.0294, 254088: 432694.0838, 254149: 291279.8075, 254242: -649980.8352, 254517: -149669.8719, 254595: 110117.3678, 254639: -659963.7638, 254847: -117200.487, 254888: 1229194.4185, 254915: 81505.9792, 255153: 29078.9488, 255210: 368356.3584, 255331: -528087.0605, 255356: -872797.4297, 255478: 925264.1315, 255502: -573136.3649, 255811: 382924.7692, 255826: -1429373.3175, 255891: -446190.9483, 255905: -280390.716, 256027: -1207080.867, 256065: 58925.7392, 256255: -80543.5649, 256370: 273992.4184, 256408: 576862.8912, 256456: 471033.2, 256458: -8517.8741, 256491: -68420.874, 256501: 499574.6314, 256669: 612767.4707, 256862: 103457.312, 257061: 447054.77, 257076: -1166637.3993, 257266: -694027.2129, 257268: -154220.8783, 257337: -39064.5107, 257347: 174558.2135, 257361: 109341.1429, 257375: -175493.5388, 257399: 289825.8638, 257415: -97311.3726, 257592: 680523.5804, 257684: -67183.4231, 257735: -96246.9611, 257763: 215738.3224, 257771: -133831.6216, 257839: 234952.8448, 257864: 507406.2969, 258100: 234408.2125, 258126: 1719073.0105, 258185: 467530.8781, 258391: -949871.96, 258465: -607802.2579, 258558: -68430.6117, 258590: -331216.4227, 258648: -253236.2077, 258664: -421290.0214, 258724: -407545.2024, 258727: 424910.6511, 258895: 373829.3576, 258936: -902281.5446, 258994: -472855.7399, 259005: -746922.2038, 259082: -426623.966, 259213: -92598.1407, 259349: -6089.5381, 259433: -225230.8648, 259514: -1126609.152, 259681: 634909.9663, 259735: -985626.1718, 259833: -117757.1472, 259859: 129484.2616, 259990: -565175.8846, 260006: 426394.1239, 260247: 450994.6285, 260288: 29964.9977, 260291: 541115.6122, 260441: -522741.5158, 260489: -175691.4603, 260544: 53359.1095, 260552: 528120.7808, 260705: -52569.5958, 260785: 1002979.6214, 261022: 15216.2577, 261053: -36314.4408, 261095: -187271.9057, 261100: 454617.9841, 261151: 696453.5336, 261159: -851378.6709, 261160: 742863.2373, 261274: 304360.9703, 261378: 215980.2783, 261508: 480179.7568, 261534: -131265.5191, 261628: -300258.3729, 261657: 531931.0934, 261669: 39032.9173, 261719: -408923.9031, 261734: -220568.209, 261810: 170583.6264, 261906: -389939.0046, 261932: 174558.4131, 262032: 289993.4381, 262123: 843026.8385, 262155: -288036.4225})"
            ]
          },
          "metadata": {},
          "execution_count": 50
        }
      ],
      "source": [
        "lrModel.coefficients"
      ]
    }
  ],
  "metadata": {
    "colab": {
      "collapsed_sections": [],
      "name": "Housing_Price_Prediction.ipynb",
      "provenance": []
    },
    "kernelspec": {
      "display_name": "Python 3",
      "name": "python3"
    },
    "language_info": {
      "name": "python"
    }
  },
  "nbformat": 4,
  "nbformat_minor": 0
}